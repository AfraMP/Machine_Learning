{
 "cells": [
  {
   "cell_type": "markdown",
   "id": "74501689-597e-43aa-bb96-13b5916a7f6c",
   "metadata": {},
   "source": [
    "# Missing Values - Feature Engineering 1"
   ]
  },
  {
   "cell_type": "markdown",
   "id": "1d91e6fb-e457-4668-a04b-697742ce5114",
   "metadata": {},
   "source": [
    "### Missing Completely at Random, MCAR:\n",
    "A variable is missing completely at random (MCAR) if the probability of being missing is the same for all the observations. When data is MCAR, there is absolutely no relationship between the data missing and any other values, observed or missing, within the dataset. In other words, those missing data points are a random subset of the data. There is nothing systematic going on that makes some data more likely to be missing than other.\n"
   ]
  },
  {
   "cell_type": "code",
   "execution_count": 3,
   "id": "4593cc4d-456f-4f34-b10a-e3f3204aedfe",
   "metadata": {},
   "outputs": [],
   "source": [
    "import pandas as pd"
   ]
  },
  {
   "cell_type": "code",
   "execution_count": 5,
   "id": "19203495-554c-4ef1-aa40-cce13276370a",
   "metadata": {},
   "outputs": [],
   "source": [
    "df=pd.read_csv('titanic.csv')"
   ]
  },
  {
   "cell_type": "code",
   "execution_count": 7,
   "id": "a64f8f7d-dbd9-42ae-82bb-c71c038fc213",
   "metadata": {},
   "outputs": [
    {
     "data": {
      "text/html": [
       "<div>\n",
       "<style scoped>\n",
       "    .dataframe tbody tr th:only-of-type {\n",
       "        vertical-align: middle;\n",
       "    }\n",
       "\n",
       "    .dataframe tbody tr th {\n",
       "        vertical-align: top;\n",
       "    }\n",
       "\n",
       "    .dataframe thead th {\n",
       "        text-align: right;\n",
       "    }\n",
       "</style>\n",
       "<table border=\"1\" class=\"dataframe\">\n",
       "  <thead>\n",
       "    <tr style=\"text-align: right;\">\n",
       "      <th></th>\n",
       "      <th>PassengerId</th>\n",
       "      <th>Survived</th>\n",
       "      <th>Pclass</th>\n",
       "      <th>Name</th>\n",
       "      <th>Sex</th>\n",
       "      <th>Age</th>\n",
       "      <th>SibSp</th>\n",
       "      <th>Parch</th>\n",
       "      <th>Ticket</th>\n",
       "      <th>Fare</th>\n",
       "      <th>Cabin</th>\n",
       "      <th>Embarked</th>\n",
       "    </tr>\n",
       "  </thead>\n",
       "  <tbody>\n",
       "    <tr>\n",
       "      <th>0</th>\n",
       "      <td>1</td>\n",
       "      <td>0</td>\n",
       "      <td>3</td>\n",
       "      <td>Braund, Mr. Owen Harris</td>\n",
       "      <td>male</td>\n",
       "      <td>22.0</td>\n",
       "      <td>1</td>\n",
       "      <td>0</td>\n",
       "      <td>A/5 21171</td>\n",
       "      <td>7.2500</td>\n",
       "      <td>NaN</td>\n",
       "      <td>S</td>\n",
       "    </tr>\n",
       "    <tr>\n",
       "      <th>1</th>\n",
       "      <td>2</td>\n",
       "      <td>1</td>\n",
       "      <td>1</td>\n",
       "      <td>Cumings, Mrs. John Bradley (Florence Briggs Th...</td>\n",
       "      <td>female</td>\n",
       "      <td>38.0</td>\n",
       "      <td>1</td>\n",
       "      <td>0</td>\n",
       "      <td>PC 17599</td>\n",
       "      <td>71.2833</td>\n",
       "      <td>C85</td>\n",
       "      <td>C</td>\n",
       "    </tr>\n",
       "    <tr>\n",
       "      <th>2</th>\n",
       "      <td>3</td>\n",
       "      <td>1</td>\n",
       "      <td>3</td>\n",
       "      <td>Heikkinen, Miss. Laina</td>\n",
       "      <td>female</td>\n",
       "      <td>26.0</td>\n",
       "      <td>0</td>\n",
       "      <td>0</td>\n",
       "      <td>STON/O2. 3101282</td>\n",
       "      <td>7.9250</td>\n",
       "      <td>NaN</td>\n",
       "      <td>S</td>\n",
       "    </tr>\n",
       "    <tr>\n",
       "      <th>3</th>\n",
       "      <td>4</td>\n",
       "      <td>1</td>\n",
       "      <td>1</td>\n",
       "      <td>Futrelle, Mrs. Jacques Heath (Lily May Peel)</td>\n",
       "      <td>female</td>\n",
       "      <td>35.0</td>\n",
       "      <td>1</td>\n",
       "      <td>0</td>\n",
       "      <td>113803</td>\n",
       "      <td>53.1000</td>\n",
       "      <td>C123</td>\n",
       "      <td>S</td>\n",
       "    </tr>\n",
       "    <tr>\n",
       "      <th>4</th>\n",
       "      <td>5</td>\n",
       "      <td>0</td>\n",
       "      <td>3</td>\n",
       "      <td>Allen, Mr. William Henry</td>\n",
       "      <td>male</td>\n",
       "      <td>35.0</td>\n",
       "      <td>0</td>\n",
       "      <td>0</td>\n",
       "      <td>373450</td>\n",
       "      <td>8.0500</td>\n",
       "      <td>NaN</td>\n",
       "      <td>S</td>\n",
       "    </tr>\n",
       "  </tbody>\n",
       "</table>\n",
       "</div>"
      ],
      "text/plain": [
       "   PassengerId  Survived  Pclass  \\\n",
       "0            1         0       3   \n",
       "1            2         1       1   \n",
       "2            3         1       3   \n",
       "3            4         1       1   \n",
       "4            5         0       3   \n",
       "\n",
       "                                                Name     Sex   Age  SibSp  \\\n",
       "0                            Braund, Mr. Owen Harris    male  22.0      1   \n",
       "1  Cumings, Mrs. John Bradley (Florence Briggs Th...  female  38.0      1   \n",
       "2                             Heikkinen, Miss. Laina  female  26.0      0   \n",
       "3       Futrelle, Mrs. Jacques Heath (Lily May Peel)  female  35.0      1   \n",
       "4                           Allen, Mr. William Henry    male  35.0      0   \n",
       "\n",
       "   Parch            Ticket     Fare Cabin Embarked  \n",
       "0      0         A/5 21171   7.2500   NaN        S  \n",
       "1      0          PC 17599  71.2833   C85        C  \n",
       "2      0  STON/O2. 3101282   7.9250   NaN        S  \n",
       "3      0            113803  53.1000  C123        S  \n",
       "4      0            373450   8.0500   NaN        S  "
      ]
     },
     "execution_count": 7,
     "metadata": {},
     "output_type": "execute_result"
    }
   ],
   "source": [
    "df.head()"
   ]
  },
  {
   "cell_type": "code",
   "execution_count": 11,
   "id": "48ecc876-ed68-46c2-ad4f-c3c36ee9cf07",
   "metadata": {},
   "outputs": [
    {
     "data": {
      "text/plain": [
       "PassengerId      0\n",
       "Survived         0\n",
       "Pclass           0\n",
       "Name             0\n",
       "Sex              0\n",
       "Age            177\n",
       "SibSp            0\n",
       "Parch            0\n",
       "Ticket           0\n",
       "Fare             0\n",
       "Cabin          687\n",
       "Embarked         2\n",
       "dtype: int64"
      ]
     },
     "execution_count": 11,
     "metadata": {},
     "output_type": "execute_result"
    }
   ],
   "source": [
    "df.isnull().sum()"
   ]
  },
  {
   "cell_type": "code",
   "execution_count": 13,
   "id": "9a2974cd-a70d-4a2c-9cd3-56822f8b19e3",
   "metadata": {},
   "outputs": [
    {
     "data": {
      "text/html": [
       "<div>\n",
       "<style scoped>\n",
       "    .dataframe tbody tr th:only-of-type {\n",
       "        vertical-align: middle;\n",
       "    }\n",
       "\n",
       "    .dataframe tbody tr th {\n",
       "        vertical-align: top;\n",
       "    }\n",
       "\n",
       "    .dataframe thead th {\n",
       "        text-align: right;\n",
       "    }\n",
       "</style>\n",
       "<table border=\"1\" class=\"dataframe\">\n",
       "  <thead>\n",
       "    <tr style=\"text-align: right;\">\n",
       "      <th></th>\n",
       "      <th>PassengerId</th>\n",
       "      <th>Survived</th>\n",
       "      <th>Pclass</th>\n",
       "      <th>Name</th>\n",
       "      <th>Sex</th>\n",
       "      <th>Age</th>\n",
       "      <th>SibSp</th>\n",
       "      <th>Parch</th>\n",
       "      <th>Ticket</th>\n",
       "      <th>Fare</th>\n",
       "      <th>Cabin</th>\n",
       "      <th>Embarked</th>\n",
       "    </tr>\n",
       "  </thead>\n",
       "  <tbody>\n",
       "    <tr>\n",
       "      <th>61</th>\n",
       "      <td>62</td>\n",
       "      <td>1</td>\n",
       "      <td>1</td>\n",
       "      <td>Icard, Miss. Amelie</td>\n",
       "      <td>female</td>\n",
       "      <td>38.0</td>\n",
       "      <td>0</td>\n",
       "      <td>0</td>\n",
       "      <td>113572</td>\n",
       "      <td>80.0</td>\n",
       "      <td>B28</td>\n",
       "      <td>NaN</td>\n",
       "    </tr>\n",
       "    <tr>\n",
       "      <th>829</th>\n",
       "      <td>830</td>\n",
       "      <td>1</td>\n",
       "      <td>1</td>\n",
       "      <td>Stone, Mrs. George Nelson (Martha Evelyn)</td>\n",
       "      <td>female</td>\n",
       "      <td>62.0</td>\n",
       "      <td>0</td>\n",
       "      <td>0</td>\n",
       "      <td>113572</td>\n",
       "      <td>80.0</td>\n",
       "      <td>B28</td>\n",
       "      <td>NaN</td>\n",
       "    </tr>\n",
       "  </tbody>\n",
       "</table>\n",
       "</div>"
      ],
      "text/plain": [
       "     PassengerId  Survived  Pclass                                       Name  \\\n",
       "61            62         1       1                        Icard, Miss. Amelie   \n",
       "829          830         1       1  Stone, Mrs. George Nelson (Martha Evelyn)   \n",
       "\n",
       "        Sex   Age  SibSp  Parch  Ticket  Fare Cabin Embarked  \n",
       "61   female  38.0      0      0  113572  80.0   B28      NaN  \n",
       "829  female  62.0      0      0  113572  80.0   B28      NaN  "
      ]
     },
     "execution_count": 13,
     "metadata": {},
     "output_type": "execute_result"
    }
   ],
   "source": [
    "df[df['Embarked'].isnull()]"
   ]
  },
  {
   "cell_type": "markdown",
   "id": "a55a1d44-460a-41d5-ae58-cd7614ee9ecc",
   "metadata": {},
   "source": [
    "### Missing Data Not At Random(MNAR): Systematic missing Values\n",
    "There is absolutely some relationship between the data missing and any other values, observed or missing, within the dataset."
   ]
  },
  {
   "cell_type": "code",
   "execution_count": 22,
   "id": "c7a95a9b-822b-41ea-8ddb-8deff332e64f",
   "metadata": {},
   "outputs": [
    {
     "data": {
      "text/plain": [
       "0.7710437710437711"
      ]
     },
     "execution_count": 22,
     "metadata": {},
     "output_type": "execute_result"
    }
   ],
   "source": [
    "import numpy as np\n",
    "df['cabin_null']=np.where(df['Cabin'].isnull(), 1, 0)\n",
    "df['cabin_null'].mean()"
   ]
  },
  {
   "cell_type": "code",
   "execution_count": 24,
   "id": "de4900f0-5704-4f4c-8602-9564a4146762",
   "metadata": {},
   "outputs": [
    {
     "data": {
      "text/plain": [
       "Index(['PassengerId', 'Survived', 'Pclass', 'Name', 'Sex', 'Age', 'SibSp',\n",
       "       'Parch', 'Ticket', 'Fare', 'Cabin', 'Embarked', 'cabin_null'],\n",
       "      dtype='object')"
      ]
     },
     "execution_count": 24,
     "metadata": {},
     "output_type": "execute_result"
    }
   ],
   "source": [
    "df.columns"
   ]
  },
  {
   "cell_type": "code",
   "execution_count": 32,
   "id": "2fa650eb-f603-4c67-a391-d1e1b9cea9f2",
   "metadata": {},
   "outputs": [
    {
     "data": {
      "text/plain": [
       "Survived\n",
       "0    0.876138\n",
       "1    0.602339\n",
       "Name: cabin_null, dtype: float64"
      ]
     },
     "execution_count": 32,
     "metadata": {},
     "output_type": "execute_result"
    }
   ],
   "source": [
    "df.groupby('Survived')['cabin_null'].mean()"
   ]
  },
  {
   "cell_type": "markdown",
   "id": "2cc19338-5fb0-4c7e-bf56-3b174164301a",
   "metadata": {},
   "source": [
    "#### Missing At Random(MAR)\n",
    "Example - Information like salary or age not revealed"
   ]
  },
  {
   "cell_type": "markdown",
   "id": "b47e5054-5386-4fb0-a15e-39731593526c",
   "metadata": {},
   "source": [
    "### All the techniques of handling ,issing values\n",
    "\n",
    "1. Mean/ Median/Mode replacement\n",
    "2. Random Sample Imputation\n",
    "3. Capturing NAN values with a new feature\n",
    "4. End of Distribution imputation\n",
    "5. Arbitrary imputation\n",
    "6. Frequent categories imputation\n"
   ]
  },
  {
   "cell_type": "markdown",
   "id": "19265409-3b78-49ed-a04c-c14fe847c42e",
   "metadata": {},
   "source": [
    "### Mean/ Median/Mode imputation"
   ]
  },
  {
   "cell_type": "code",
   "execution_count": 40,
   "id": "9e7901c9-5213-4e19-88d8-4db439c953ab",
   "metadata": {},
   "outputs": [
    {
     "data": {
      "text/html": [
       "<div>\n",
       "<style scoped>\n",
       "    .dataframe tbody tr th:only-of-type {\n",
       "        vertical-align: middle;\n",
       "    }\n",
       "\n",
       "    .dataframe tbody tr th {\n",
       "        vertical-align: top;\n",
       "    }\n",
       "\n",
       "    .dataframe thead th {\n",
       "        text-align: right;\n",
       "    }\n",
       "</style>\n",
       "<table border=\"1\" class=\"dataframe\">\n",
       "  <thead>\n",
       "    <tr style=\"text-align: right;\">\n",
       "      <th></th>\n",
       "      <th>Survived</th>\n",
       "      <th>Age</th>\n",
       "      <th>Fare</th>\n",
       "    </tr>\n",
       "  </thead>\n",
       "  <tbody>\n",
       "    <tr>\n",
       "      <th>0</th>\n",
       "      <td>0</td>\n",
       "      <td>22.0</td>\n",
       "      <td>7.2500</td>\n",
       "    </tr>\n",
       "    <tr>\n",
       "      <th>1</th>\n",
       "      <td>1</td>\n",
       "      <td>38.0</td>\n",
       "      <td>71.2833</td>\n",
       "    </tr>\n",
       "    <tr>\n",
       "      <th>2</th>\n",
       "      <td>1</td>\n",
       "      <td>26.0</td>\n",
       "      <td>7.9250</td>\n",
       "    </tr>\n",
       "    <tr>\n",
       "      <th>3</th>\n",
       "      <td>1</td>\n",
       "      <td>35.0</td>\n",
       "      <td>53.1000</td>\n",
       "    </tr>\n",
       "    <tr>\n",
       "      <th>4</th>\n",
       "      <td>0</td>\n",
       "      <td>35.0</td>\n",
       "      <td>8.0500</td>\n",
       "    </tr>\n",
       "  </tbody>\n",
       "</table>\n",
       "</div>"
      ],
      "text/plain": [
       "   Survived   Age     Fare\n",
       "0         0  22.0   7.2500\n",
       "1         1  38.0  71.2833\n",
       "2         1  26.0   7.9250\n",
       "3         1  35.0  53.1000\n",
       "4         0  35.0   8.0500"
      ]
     },
     "execution_count": 40,
     "metadata": {},
     "output_type": "execute_result"
    }
   ],
   "source": [
    "df = pd.read_csv('titanic.csv', usecols=['Age','Fare', 'Survived'])\n",
    "df.head()"
   ]
  },
  {
   "cell_type": "code",
   "execution_count": 42,
   "id": "795f1f48-ec4c-4ecb-957a-4f53cc96361f",
   "metadata": {},
   "outputs": [
    {
     "data": {
      "text/plain": [
       "Survived    0.000000\n",
       "Age         0.198653\n",
       "Fare        0.000000\n",
       "dtype: float64"
      ]
     },
     "execution_count": 42,
     "metadata": {},
     "output_type": "execute_result"
    }
   ],
   "source": [
    "df.isnull().mean()"
   ]
  },
  {
   "cell_type": "code",
   "execution_count": 46,
   "id": "98e876d7-6c8b-43aa-a2c5-f10fecd39b06",
   "metadata": {},
   "outputs": [
    {
     "data": {
      "text/plain": [
       "29.69911764705882"
      ]
     },
     "execution_count": 46,
     "metadata": {},
     "output_type": "execute_result"
    }
   ],
   "source": [
    "df['Age'].mean()"
   ]
  },
  {
   "cell_type": "code",
   "execution_count": 44,
   "id": "821ec9d5-130e-4316-b1d3-059421240e16",
   "metadata": {},
   "outputs": [],
   "source": [
    "def replace_nan(df, variable, median):\n",
    "    df[variable+'_median'] = df[variable].fillna(median)"
   ]
  },
  {
   "cell_type": "code",
   "execution_count": 48,
   "id": "b80dbd3b-1188-4be9-aef9-179b8aad9887",
   "metadata": {},
   "outputs": [],
   "source": [
    "median = df['Age'].median()\n",
    "replace_nan(df, 'Age', median)"
   ]
  },
  {
   "cell_type": "code",
   "execution_count": 54,
   "id": "07561a2d-e8fd-4996-8869-2220f7f75912",
   "metadata": {},
   "outputs": [
    {
     "data": {
      "text/html": [
       "<div>\n",
       "<style scoped>\n",
       "    .dataframe tbody tr th:only-of-type {\n",
       "        vertical-align: middle;\n",
       "    }\n",
       "\n",
       "    .dataframe tbody tr th {\n",
       "        vertical-align: top;\n",
       "    }\n",
       "\n",
       "    .dataframe thead th {\n",
       "        text-align: right;\n",
       "    }\n",
       "</style>\n",
       "<table border=\"1\" class=\"dataframe\">\n",
       "  <thead>\n",
       "    <tr style=\"text-align: right;\">\n",
       "      <th></th>\n",
       "      <th>Survived</th>\n",
       "      <th>Age</th>\n",
       "      <th>Fare</th>\n",
       "      <th>Age_median</th>\n",
       "    </tr>\n",
       "  </thead>\n",
       "  <tbody>\n",
       "    <tr>\n",
       "      <th>0</th>\n",
       "      <td>0</td>\n",
       "      <td>22.0</td>\n",
       "      <td>7.2500</td>\n",
       "      <td>22.0</td>\n",
       "    </tr>\n",
       "    <tr>\n",
       "      <th>1</th>\n",
       "      <td>1</td>\n",
       "      <td>38.0</td>\n",
       "      <td>71.2833</td>\n",
       "      <td>38.0</td>\n",
       "    </tr>\n",
       "    <tr>\n",
       "      <th>2</th>\n",
       "      <td>1</td>\n",
       "      <td>26.0</td>\n",
       "      <td>7.9250</td>\n",
       "      <td>26.0</td>\n",
       "    </tr>\n",
       "    <tr>\n",
       "      <th>3</th>\n",
       "      <td>1</td>\n",
       "      <td>35.0</td>\n",
       "      <td>53.1000</td>\n",
       "      <td>35.0</td>\n",
       "    </tr>\n",
       "    <tr>\n",
       "      <th>4</th>\n",
       "      <td>0</td>\n",
       "      <td>35.0</td>\n",
       "      <td>8.0500</td>\n",
       "      <td>35.0</td>\n",
       "    </tr>\n",
       "    <tr>\n",
       "      <th>5</th>\n",
       "      <td>0</td>\n",
       "      <td>NaN</td>\n",
       "      <td>8.4583</td>\n",
       "      <td>28.0</td>\n",
       "    </tr>\n",
       "    <tr>\n",
       "      <th>6</th>\n",
       "      <td>0</td>\n",
       "      <td>54.0</td>\n",
       "      <td>51.8625</td>\n",
       "      <td>54.0</td>\n",
       "    </tr>\n",
       "    <tr>\n",
       "      <th>7</th>\n",
       "      <td>0</td>\n",
       "      <td>2.0</td>\n",
       "      <td>21.0750</td>\n",
       "      <td>2.0</td>\n",
       "    </tr>\n",
       "    <tr>\n",
       "      <th>8</th>\n",
       "      <td>1</td>\n",
       "      <td>27.0</td>\n",
       "      <td>11.1333</td>\n",
       "      <td>27.0</td>\n",
       "    </tr>\n",
       "    <tr>\n",
       "      <th>9</th>\n",
       "      <td>1</td>\n",
       "      <td>14.0</td>\n",
       "      <td>30.0708</td>\n",
       "      <td>14.0</td>\n",
       "    </tr>\n",
       "  </tbody>\n",
       "</table>\n",
       "</div>"
      ],
      "text/plain": [
       "   Survived   Age     Fare  Age_median\n",
       "0         0  22.0   7.2500        22.0\n",
       "1         1  38.0  71.2833        38.0\n",
       "2         1  26.0   7.9250        26.0\n",
       "3         1  35.0  53.1000        35.0\n",
       "4         0  35.0   8.0500        35.0\n",
       "5         0   NaN   8.4583        28.0\n",
       "6         0  54.0  51.8625        54.0\n",
       "7         0   2.0  21.0750         2.0\n",
       "8         1  27.0  11.1333        27.0\n",
       "9         1  14.0  30.0708        14.0"
      ]
     },
     "execution_count": 54,
     "metadata": {},
     "output_type": "execute_result"
    }
   ],
   "source": [
    "df.head(10)"
   ]
  },
  {
   "cell_type": "code",
   "execution_count": 56,
   "id": "dcb111d6-6b2b-4e3a-b7c4-edf303ae0674",
   "metadata": {},
   "outputs": [
    {
     "name": "stdout",
     "output_type": "stream",
     "text": [
      "13.019696550973194\n",
      "14.526497332334044\n"
     ]
    }
   ],
   "source": [
    "print(df['Age_median'].std())\n",
    "print(df['Age'].std())"
   ]
  },
  {
   "cell_type": "code",
   "execution_count": 60,
   "id": "4b6a1583-586c-4439-92c6-6d95a387c94c",
   "metadata": {},
   "outputs": [],
   "source": [
    "import matplotlib.pyplot as plt\n",
    "%matplotlib inline"
   ]
  },
  {
   "cell_type": "code",
   "execution_count": 74,
   "id": "f9f46b2c-2b8e-4714-8dcf-10a4f6ab834b",
   "metadata": {},
   "outputs": [
    {
     "data": {
      "text/plain": [
       "<matplotlib.legend.Legend at 0x2637fdf5c10>"
      ]
     },
     "execution_count": 74,
     "metadata": {},
     "output_type": "execute_result"
    },
    {
     "data": {
      "image/png": "[encoded data removed]",
      "text/plain": [
       "<Figure size 640x480 with 1 Axes>"
      ]
     },
     "metadata": {},
     "output_type": "display_data"
    }
   ],
   "source": [
    "fig = plt.figure()\n",
    "ax = fig.add_subplot(111)\n",
    "df['Age'].plot(kind='kde', ax=ax)\n",
    "df['Age_median'].plot(kind='kde', ax=ax, color='red')\n",
    "lines, label = ax.get_legend_handles_labels()\n",
    "ax.legend(lines, label, loc='best')"
   ]
  },
  {
   "cell_type": "code",
   "execution_count": 66,
   "id": "462b4302-86b6-4723-9430-7d7bdf59dff0",
   "metadata": {},
   "outputs": [
    {
     "data": {
      "text/html": [
       "<div>\n",
       "<style scoped>\n",
       "    .dataframe tbody tr th:only-of-type {\n",
       "        vertical-align: middle;\n",
       "    }\n",
       "\n",
       "    .dataframe tbody tr th {\n",
       "        vertical-align: top;\n",
       "    }\n",
       "\n",
       "    .dataframe thead th {\n",
       "        text-align: right;\n",
       "    }\n",
       "</style>\n",
       "<table border=\"1\" class=\"dataframe\">\n",
       "  <thead>\n",
       "    <tr style=\"text-align: right;\">\n",
       "      <th></th>\n",
       "      <th>Survived</th>\n",
       "      <th>Age</th>\n",
       "      <th>Fare</th>\n",
       "      <th>Age_median</th>\n",
       "    </tr>\n",
       "  </thead>\n",
       "  <tbody>\n",
       "    <tr>\n",
       "      <th>Survived</th>\n",
       "      <td>1.000000</td>\n",
       "      <td>-0.077221</td>\n",
       "      <td>0.257307</td>\n",
       "      <td>-0.064910</td>\n",
       "    </tr>\n",
       "    <tr>\n",
       "      <th>Age</th>\n",
       "      <td>-0.077221</td>\n",
       "      <td>1.000000</td>\n",
       "      <td>0.096067</td>\n",
       "      <td>1.000000</td>\n",
       "    </tr>\n",
       "    <tr>\n",
       "      <th>Fare</th>\n",
       "      <td>0.257307</td>\n",
       "      <td>0.096067</td>\n",
       "      <td>1.000000</td>\n",
       "      <td>0.096688</td>\n",
       "    </tr>\n",
       "    <tr>\n",
       "      <th>Age_median</th>\n",
       "      <td>-0.064910</td>\n",
       "      <td>1.000000</td>\n",
       "      <td>0.096688</td>\n",
       "      <td>1.000000</td>\n",
       "    </tr>\n",
       "  </tbody>\n",
       "</table>\n",
       "</div>"
      ],
      "text/plain": [
       "            Survived       Age      Fare  Age_median\n",
       "Survived    1.000000 -0.077221  0.257307   -0.064910\n",
       "Age        -0.077221  1.000000  0.096067    1.000000\n",
       "Fare        0.257307  0.096067  1.000000    0.096688\n",
       "Age_median -0.064910  1.000000  0.096688    1.000000"
      ]
     },
     "execution_count": 66,
     "metadata": {},
     "output_type": "execute_result"
    }
   ],
   "source": [
    "df.corr()"
   ]
  },
  {
   "cell_type": "markdown",
   "id": "5778b11c-6ede-41bb-81af-b807f45a5443",
   "metadata": {},
   "source": [
    "#### Advantages\n",
    "1. Easy to implement(Robust to outliers)\n",
    "2. Faster way to obtain the complete dataset\n",
    "#### Disadvantages\n",
    "1. Change or Distortion in the original variance\n",
    "2. Impacts Correlation"
   ]
  },
  {
   "cell_type": "markdown",
   "id": "3601076a-6e96-44dd-bc90-13e911142546",
   "metadata": {},
   "source": [
    "#### Random Sample Imputation\n",
    "It consists of taking random observation from the dataset and we use this observation to replace the nan values\n",
    "To be used when the data is missing completely at random(MCAR)"
   ]
  },
  {
   "cell_type": "code",
   "execution_count": 81,
   "id": "65cf09ac-fc7b-4258-8e14-ff897987b9eb",
   "metadata": {},
   "outputs": [
    {
     "data": {
      "text/html": [
       "<div>\n",
       "<style scoped>\n",
       "    .dataframe tbody tr th:only-of-type {\n",
       "        vertical-align: middle;\n",
       "    }\n",
       "\n",
       "    .dataframe tbody tr th {\n",
       "        vertical-align: top;\n",
       "    }\n",
       "\n",
       "    .dataframe thead th {\n",
       "        text-align: right;\n",
       "    }\n",
       "</style>\n",
       "<table border=\"1\" class=\"dataframe\">\n",
       "  <thead>\n",
       "    <tr style=\"text-align: right;\">\n",
       "      <th></th>\n",
       "      <th>Survived</th>\n",
       "      <th>Age</th>\n",
       "      <th>Fare</th>\n",
       "    </tr>\n",
       "  </thead>\n",
       "  <tbody>\n",
       "    <tr>\n",
       "      <th>0</th>\n",
       "      <td>0</td>\n",
       "      <td>22.0</td>\n",
       "      <td>7.2500</td>\n",
       "    </tr>\n",
       "    <tr>\n",
       "      <th>1</th>\n",
       "      <td>1</td>\n",
       "      <td>38.0</td>\n",
       "      <td>71.2833</td>\n",
       "    </tr>\n",
       "    <tr>\n",
       "      <th>2</th>\n",
       "      <td>1</td>\n",
       "      <td>26.0</td>\n",
       "      <td>7.9250</td>\n",
       "    </tr>\n",
       "    <tr>\n",
       "      <th>3</th>\n",
       "      <td>1</td>\n",
       "      <td>35.0</td>\n",
       "      <td>53.1000</td>\n",
       "    </tr>\n",
       "    <tr>\n",
       "      <th>4</th>\n",
       "      <td>0</td>\n",
       "      <td>35.0</td>\n",
       "      <td>8.0500</td>\n",
       "    </tr>\n",
       "  </tbody>\n",
       "</table>\n",
       "</div>"
      ],
      "text/plain": [
       "   Survived   Age     Fare\n",
       "0         0  22.0   7.2500\n",
       "1         1  38.0  71.2833\n",
       "2         1  26.0   7.9250\n",
       "3         1  35.0  53.1000\n",
       "4         0  35.0   8.0500"
      ]
     },
     "execution_count": 81,
     "metadata": {},
     "output_type": "execute_result"
    }
   ],
   "source": [
    "df=pd.read_csv('titanic.csv', usecols=['Age','Fare','Survived'])\n",
    "df.head()"
   ]
  },
  {
   "cell_type": "code",
   "execution_count": 83,
   "id": "8449845e-7622-4f63-952f-8749494f5524",
   "metadata": {},
   "outputs": [
    {
     "data": {
      "text/plain": [
       "Survived      0\n",
       "Age         177\n",
       "Fare          0\n",
       "dtype: int64"
      ]
     },
     "execution_count": 83,
     "metadata": {},
     "output_type": "execute_result"
    }
   ],
   "source": [
    "df.isnull().sum()"
   ]
  },
  {
   "cell_type": "code",
   "execution_count": 103,
   "id": "bc60541f-a3d9-46bb-b1cc-cea6eaafff4b",
   "metadata": {},
   "outputs": [
    {
     "data": {
      "text/plain": [
       "423    28.00\n",
       "177    50.00\n",
       "305     0.92\n",
       "292    36.00\n",
       "889    26.00\n",
       "       ...  \n",
       "539    22.00\n",
       "267    25.00\n",
       "352    15.00\n",
       "99     34.00\n",
       "689    15.00\n",
       "Name: Age, Length: 177, dtype: float64"
      ]
     },
     "execution_count": 103,
     "metadata": {},
     "output_type": "execute_result"
    }
   ],
   "source": [
    "df['Age'].dropna().sample(df['Age'].isnull().sum(), random_state=0)"
   ]
  },
  {
   "cell_type": "code",
   "execution_count": 107,
   "id": "30065cd3-bc4a-4181-bc3e-459459f017e4",
   "metadata": {},
   "outputs": [
    {
     "data": {
      "text/plain": [
       "Index([  5,  17,  19,  26,  28,  29,  31,  32,  36,  42,\n",
       "       ...\n",
       "       832, 837, 839, 846, 849, 859, 863, 868, 878, 888],\n",
       "      dtype='int64', length=177)"
      ]
     },
     "execution_count": 107,
     "metadata": {},
     "output_type": "execute_result"
    }
   ],
   "source": [
    "df[df['Age'].isnull()].index"
   ]
  },
  {
   "cell_type": "code",
   "execution_count": null,
   "id": "c82c73ec-0c91-4467-9710-466b70921772",
   "metadata": {},
   "outputs": [],
   "source": [
    "df.sample"
   ]
  },
  {
   "cell_type": "code",
   "execution_count": 115,
   "id": "f3effad2-f703-4e54-bce0-6c915326b33e",
   "metadata": {},
   "outputs": [],
   "source": [
    "def impute_nan(df, variable, median):\n",
    "    df[variable+'_median'] = df[variable].fillna(median)\n",
    "    df[variable + '_random'] = df[variable]\n",
    "    random_sample = df[variable].dropna().sample(df[variable].isnull().sum(), random_state=0)\n",
    "    random_sample.index = df[df[variable].isnull()].index\n",
    "    df.loc[df[variable].isnull(), variable + '_random'] = random_sample"
   ]
  },
  {
   "cell_type": "code",
   "execution_count": 119,
   "id": "5310a79b-58f3-4057-babd-5777dc1a9eb7",
   "metadata": {},
   "outputs": [],
   "source": [
    "impute_nan(df,'Age', df['Age'].median())"
   ]
  },
  {
   "cell_type": "code",
   "execution_count": 125,
   "id": "114f7f08-0488-43bb-b0f2-9d6c479fae0b",
   "metadata": {},
   "outputs": [
    {
     "name": "stdout",
     "output_type": "stream",
     "text": [
      "14.526497332334044\n",
      "13.019696550973194\n",
      "14.5636540895687\n"
     ]
    }
   ],
   "source": [
    "print(df['Age'].std())\n",
    "print(df['Age_median'].std())\n",
    "print(df['Age_random'].std())"
   ]
  },
  {
   "cell_type": "code",
   "execution_count": 137,
   "id": "3e67ada6-a3ff-4072-878a-f69c002c31d1",
   "metadata": {},
   "outputs": [
    {
     "data": {
      "text/plain": [
       "<matplotlib.legend.Legend at 0x263075dbe30>"
      ]
     },
     "execution_count": 137,
     "metadata": {},
     "output_type": "execute_result"
    },
    {
     "data": {
      "image/png": "[encoded data removed]",
      "text/plain": [
       "<Figure size 640x480 with 1 Axes>"
      ]
     },
     "metadata": {},
     "output_type": "display_data"
    }
   ],
   "source": [
    "fig = plt.figure()\n",
    "ax = fig.add_subplot(111)\n",
    "df['Age_random'].plot(kind='kde', color='green', ax = ax)\n",
    "df['Age'].plot(kind='kde', color='red', ax = ax)\n",
    "df['Age_median'].plot(kind='kde', ax=ax)\n",
    "lines, legend = ax.get_legend_handles_labels()\n",
    "ax.legend(lines, legend)"
   ]
  },
  {
   "cell_type": "markdown",
   "id": "995fa7f8-f302-4d6a-bab9-f65de7c6a46b",
   "metadata": {},
   "source": [
    "##### Advantages\n",
    "1. Easy To implement\n",
    "2. There is less distortion in variance\n",
    "\n",
    "##### Disadvantage\n",
    "1. Randomness wont work for every situation"
   ]
  },
  {
   "cell_type": "markdown",
   "id": "baafad18-f061-4876-a370-3d65b096aa65",
   "metadata": {},
   "source": [
    "#### Capturing NAN values with a new feature\n",
    "\n",
    "It works well if the data are not missing completely at random "
   ]
  },
  {
   "cell_type": "code",
   "execution_count": 144,
   "id": "02eba281-649b-415e-913b-f11e079315d4",
   "metadata": {},
   "outputs": [
    {
     "data": {
      "text/html": [
       "<div>\n",
       "<style scoped>\n",
       "    .dataframe tbody tr th:only-of-type {\n",
       "        vertical-align: middle;\n",
       "    }\n",
       "\n",
       "    .dataframe tbody tr th {\n",
       "        vertical-align: top;\n",
       "    }\n",
       "\n",
       "    .dataframe thead th {\n",
       "        text-align: right;\n",
       "    }\n",
       "</style>\n",
       "<table border=\"1\" class=\"dataframe\">\n",
       "  <thead>\n",
       "    <tr style=\"text-align: right;\">\n",
       "      <th></th>\n",
       "      <th>Survived</th>\n",
       "      <th>Age</th>\n",
       "      <th>Fare</th>\n",
       "    </tr>\n",
       "  </thead>\n",
       "  <tbody>\n",
       "    <tr>\n",
       "      <th>0</th>\n",
       "      <td>0</td>\n",
       "      <td>22.0</td>\n",
       "      <td>7.2500</td>\n",
       "    </tr>\n",
       "    <tr>\n",
       "      <th>1</th>\n",
       "      <td>1</td>\n",
       "      <td>38.0</td>\n",
       "      <td>71.2833</td>\n",
       "    </tr>\n",
       "    <tr>\n",
       "      <th>2</th>\n",
       "      <td>1</td>\n",
       "      <td>26.0</td>\n",
       "      <td>7.9250</td>\n",
       "    </tr>\n",
       "    <tr>\n",
       "      <th>3</th>\n",
       "      <td>1</td>\n",
       "      <td>35.0</td>\n",
       "      <td>53.1000</td>\n",
       "    </tr>\n",
       "    <tr>\n",
       "      <th>4</th>\n",
       "      <td>0</td>\n",
       "      <td>35.0</td>\n",
       "      <td>8.0500</td>\n",
       "    </tr>\n",
       "  </tbody>\n",
       "</table>\n",
       "</div>"
      ],
      "text/plain": [
       "   Survived   Age     Fare\n",
       "0         0  22.0   7.2500\n",
       "1         1  38.0  71.2833\n",
       "2         1  26.0   7.9250\n",
       "3         1  35.0  53.1000\n",
       "4         0  35.0   8.0500"
      ]
     },
     "execution_count": 144,
     "metadata": {},
     "output_type": "execute_result"
    }
   ],
   "source": [
    "df=pd.read_csv('titanic.csv', usecols=['Age','Fare','Survived'])\n",
    "df.head()"
   ]
  },
  {
   "cell_type": "code",
   "execution_count": 146,
   "id": "dbe69742-ece8-4238-9301-8b3985a83474",
   "metadata": {},
   "outputs": [],
   "source": [
    "df['Age_NAN']=np.where(df['Age'].isnull(),1,0)"
   ]
  },
  {
   "cell_type": "code",
   "execution_count": 156,
   "id": "57c9469e-b32b-4eda-843e-1eb536c84d88",
   "metadata": {},
   "outputs": [],
   "source": [
    "df['Age']=df['Age'].fillna(df['Age'].median())"
   ]
  },
  {
   "cell_type": "code",
   "execution_count": 158,
   "id": "adf47e2e-8b6b-47c6-819b-cab9df5b3050",
   "metadata": {},
   "outputs": [
    {
     "data": {
      "text/html": [
       "<div>\n",
       "<style scoped>\n",
       "    .dataframe tbody tr th:only-of-type {\n",
       "        vertical-align: middle;\n",
       "    }\n",
       "\n",
       "    .dataframe tbody tr th {\n",
       "        vertical-align: top;\n",
       "    }\n",
       "\n",
       "    .dataframe thead th {\n",
       "        text-align: right;\n",
       "    }\n",
       "</style>\n",
       "<table border=\"1\" class=\"dataframe\">\n",
       "  <thead>\n",
       "    <tr style=\"text-align: right;\">\n",
       "      <th></th>\n",
       "      <th>Survived</th>\n",
       "      <th>Age</th>\n",
       "      <th>Fare</th>\n",
       "      <th>Age_NAN</th>\n",
       "    </tr>\n",
       "  </thead>\n",
       "  <tbody>\n",
       "    <tr>\n",
       "      <th>0</th>\n",
       "      <td>0</td>\n",
       "      <td>22.0</td>\n",
       "      <td>7.2500</td>\n",
       "      <td>0</td>\n",
       "    </tr>\n",
       "    <tr>\n",
       "      <th>1</th>\n",
       "      <td>1</td>\n",
       "      <td>38.0</td>\n",
       "      <td>71.2833</td>\n",
       "      <td>0</td>\n",
       "    </tr>\n",
       "    <tr>\n",
       "      <th>2</th>\n",
       "      <td>1</td>\n",
       "      <td>26.0</td>\n",
       "      <td>7.9250</td>\n",
       "      <td>0</td>\n",
       "    </tr>\n",
       "    <tr>\n",
       "      <th>3</th>\n",
       "      <td>1</td>\n",
       "      <td>35.0</td>\n",
       "      <td>53.1000</td>\n",
       "      <td>0</td>\n",
       "    </tr>\n",
       "    <tr>\n",
       "      <th>4</th>\n",
       "      <td>0</td>\n",
       "      <td>35.0</td>\n",
       "      <td>8.0500</td>\n",
       "      <td>0</td>\n",
       "    </tr>\n",
       "    <tr>\n",
       "      <th>5</th>\n",
       "      <td>0</td>\n",
       "      <td>28.0</td>\n",
       "      <td>8.4583</td>\n",
       "      <td>1</td>\n",
       "    </tr>\n",
       "    <tr>\n",
       "      <th>6</th>\n",
       "      <td>0</td>\n",
       "      <td>54.0</td>\n",
       "      <td>51.8625</td>\n",
       "      <td>0</td>\n",
       "    </tr>\n",
       "    <tr>\n",
       "      <th>7</th>\n",
       "      <td>0</td>\n",
       "      <td>2.0</td>\n",
       "      <td>21.0750</td>\n",
       "      <td>0</td>\n",
       "    </tr>\n",
       "    <tr>\n",
       "      <th>8</th>\n",
       "      <td>1</td>\n",
       "      <td>27.0</td>\n",
       "      <td>11.1333</td>\n",
       "      <td>0</td>\n",
       "    </tr>\n",
       "    <tr>\n",
       "      <th>9</th>\n",
       "      <td>1</td>\n",
       "      <td>14.0</td>\n",
       "      <td>30.0708</td>\n",
       "      <td>0</td>\n",
       "    </tr>\n",
       "  </tbody>\n",
       "</table>\n",
       "</div>"
      ],
      "text/plain": [
       "   Survived   Age     Fare  Age_NAN\n",
       "0         0  22.0   7.2500        0\n",
       "1         1  38.0  71.2833        0\n",
       "2         1  26.0   7.9250        0\n",
       "3         1  35.0  53.1000        0\n",
       "4         0  35.0   8.0500        0\n",
       "5         0  28.0   8.4583        1\n",
       "6         0  54.0  51.8625        0\n",
       "7         0   2.0  21.0750        0\n",
       "8         1  27.0  11.1333        0\n",
       "9         1  14.0  30.0708        0"
      ]
     },
     "execution_count": 158,
     "metadata": {},
     "output_type": "execute_result"
    }
   ],
   "source": [
    "df.head(10)"
   ]
  },
  {
   "cell_type": "markdown",
   "id": "36d2377e-8b24-4cc0-b154-df4e8b26857c",
   "metadata": {},
   "source": [
    "#### Advantages\n",
    "1. Easy to implement\n",
    "2. Captures the importance of missing values\n",
    "\n",
    "##### Disadvantages\n",
    "1. Creating Additional Features(Curse of Dimensionality)"
   ]
  },
  {
   "cell_type": "markdown",
   "id": "880d09af-4868-4396-9c81-fbf7c16b30f3",
   "metadata": {},
   "source": [
    "#### End of Distribution imputation\n",
    "\n",
    "use when values missing not at random"
   ]
  },
  {
   "cell_type": "code",
   "execution_count": 243,
   "id": "35b41fc7-7dc3-444a-863f-65b4f5ec6ace",
   "metadata": {},
   "outputs": [
    {
     "data": {
      "text/html": [
       "<div>\n",
       "<style scoped>\n",
       "    .dataframe tbody tr th:only-of-type {\n",
       "        vertical-align: middle;\n",
       "    }\n",
       "\n",
       "    .dataframe tbody tr th {\n",
       "        vertical-align: top;\n",
       "    }\n",
       "\n",
       "    .dataframe thead th {\n",
       "        text-align: right;\n",
       "    }\n",
       "</style>\n",
       "<table border=\"1\" class=\"dataframe\">\n",
       "  <thead>\n",
       "    <tr style=\"text-align: right;\">\n",
       "      <th></th>\n",
       "      <th>Survived</th>\n",
       "      <th>Age</th>\n",
       "      <th>Fare</th>\n",
       "    </tr>\n",
       "  </thead>\n",
       "  <tbody>\n",
       "    <tr>\n",
       "      <th>0</th>\n",
       "      <td>0</td>\n",
       "      <td>22.0</td>\n",
       "      <td>7.2500</td>\n",
       "    </tr>\n",
       "    <tr>\n",
       "      <th>1</th>\n",
       "      <td>1</td>\n",
       "      <td>38.0</td>\n",
       "      <td>71.2833</td>\n",
       "    </tr>\n",
       "    <tr>\n",
       "      <th>2</th>\n",
       "      <td>1</td>\n",
       "      <td>26.0</td>\n",
       "      <td>7.9250</td>\n",
       "    </tr>\n",
       "    <tr>\n",
       "      <th>3</th>\n",
       "      <td>1</td>\n",
       "      <td>35.0</td>\n",
       "      <td>53.1000</td>\n",
       "    </tr>\n",
       "    <tr>\n",
       "      <th>4</th>\n",
       "      <td>0</td>\n",
       "      <td>35.0</td>\n",
       "      <td>8.0500</td>\n",
       "    </tr>\n",
       "  </tbody>\n",
       "</table>\n",
       "</div>"
      ],
      "text/plain": [
       "   Survived   Age     Fare\n",
       "0         0  22.0   7.2500\n",
       "1         1  38.0  71.2833\n",
       "2         1  26.0   7.9250\n",
       "3         1  35.0  53.1000\n",
       "4         0  35.0   8.0500"
      ]
     },
     "execution_count": 243,
     "metadata": {},
     "output_type": "execute_result"
    }
   ],
   "source": [
    "df=pd.read_csv('titanic.csv', usecols=['Age','Fare','Survived'])\n",
    "df.head()"
   ]
  },
  {
   "cell_type": "code",
   "execution_count": 245,
   "id": "795800fd-9c5f-4dc3-ab20-2cec448a3b70",
   "metadata": {},
   "outputs": [
    {
     "data": {
      "text/plain": [
       "<Axes: >"
      ]
     },
     "execution_count": 245,
     "metadata": {},
     "output_type": "execute_result"
    },
    {
     "data": {
      "image/png": "[encoded data removed]",
      "text/plain": [
       "<Figure size 640x480 with 1 Axes>"
      ]
     },
     "metadata": {},
     "output_type": "display_data"
    }
   ],
   "source": [
    "df['Age'].hist(bins=50)"
   ]
  },
  {
   "cell_type": "code",
   "execution_count": 247,
   "id": "9f8eeb13-93c0-4943-8cd7-0c526a3d9023",
   "metadata": {},
   "outputs": [],
   "source": [
    "extreme = df['Age'].mean() + 3*df['Age'].std()"
   ]
  },
  {
   "cell_type": "code",
   "execution_count": 249,
   "id": "7476988f-0f82-44fa-be36-c9b58ce76fdc",
   "metadata": {},
   "outputs": [
    {
     "data": {
      "text/plain": [
       "<Axes: xlabel='Age'>"
      ]
     },
     "execution_count": 249,
     "metadata": {},
     "output_type": "execute_result"
    },
    {
     "data": {
      "image/png": "[encoded data removed]",
      "text/plain": [
       "<Figure size 640x480 with 1 Axes>"
      ]
     },
     "metadata": {},
     "output_type": "display_data"
    }
   ],
   "source": [
    "import seaborn as sns\n",
    "sns.boxplot(x='Age', data=df)"
   ]
  },
  {
   "cell_type": "code",
   "execution_count": 251,
   "id": "0736cad6-2cb9-46cc-b6b6-b419bc812acf",
   "metadata": {},
   "outputs": [],
   "source": [
    "def impute_nan(df, variable,median, extreme):\n",
    "    df[variable+'_end_distribution'] = df[variable].fillna(extreme)\n",
    "    df[variable].fillna(median, inplace=True)"
   ]
  },
  {
   "cell_type": "code",
   "execution_count": 253,
   "id": "df5f6110-8641-4806-a639-469facc248a7",
   "metadata": {},
   "outputs": [
    {
     "name": "stderr",
     "output_type": "stream",
     "text": [
      "C:\\Users\\asus\\AppData\\Local\\Temp\\ipykernel_4552\\985041891.py:3: FutureWarning: A value is trying to be set on a copy of a DataFrame or Series through chained assignment using an inplace method.\n",
      "The behavior will change in pandas 3.0. This inplace method will never work because the intermediate object on which we are setting values always behaves as a copy.\n",
      "\n",
      "For example, when doing 'df[col].method(value, inplace=True)', try using 'df.method({col: value}, inplace=True)' or df[col] = df[col].method(value) instead, to perform the operation inplace on the original object.\n",
      "\n",
      "\n",
      "  df[variable].fillna(median, inplace=True)\n"
     ]
    }
   ],
   "source": [
    "\n",
    "impute_nan(df, 'Age', df['Age'].median(), extreme)"
   ]
  },
  {
   "cell_type": "code",
   "execution_count": 255,
   "id": "40f393d9-9434-4eb2-a009-6d303688b61b",
   "metadata": {},
   "outputs": [
    {
     "data": {
      "text/html": [
       "<div>\n",
       "<style scoped>\n",
       "    .dataframe tbody tr th:only-of-type {\n",
       "        vertical-align: middle;\n",
       "    }\n",
       "\n",
       "    .dataframe tbody tr th {\n",
       "        vertical-align: top;\n",
       "    }\n",
       "\n",
       "    .dataframe thead th {\n",
       "        text-align: right;\n",
       "    }\n",
       "</style>\n",
       "<table border=\"1\" class=\"dataframe\">\n",
       "  <thead>\n",
       "    <tr style=\"text-align: right;\">\n",
       "      <th></th>\n",
       "      <th>Survived</th>\n",
       "      <th>Age</th>\n",
       "      <th>Fare</th>\n",
       "      <th>Age_end_distribution</th>\n",
       "    </tr>\n",
       "  </thead>\n",
       "  <tbody>\n",
       "    <tr>\n",
       "      <th>0</th>\n",
       "      <td>0</td>\n",
       "      <td>22.0</td>\n",
       "      <td>7.2500</td>\n",
       "      <td>22.00000</td>\n",
       "    </tr>\n",
       "    <tr>\n",
       "      <th>1</th>\n",
       "      <td>1</td>\n",
       "      <td>38.0</td>\n",
       "      <td>71.2833</td>\n",
       "      <td>38.00000</td>\n",
       "    </tr>\n",
       "    <tr>\n",
       "      <th>2</th>\n",
       "      <td>1</td>\n",
       "      <td>26.0</td>\n",
       "      <td>7.9250</td>\n",
       "      <td>26.00000</td>\n",
       "    </tr>\n",
       "    <tr>\n",
       "      <th>3</th>\n",
       "      <td>1</td>\n",
       "      <td>35.0</td>\n",
       "      <td>53.1000</td>\n",
       "      <td>35.00000</td>\n",
       "    </tr>\n",
       "    <tr>\n",
       "      <th>4</th>\n",
       "      <td>0</td>\n",
       "      <td>35.0</td>\n",
       "      <td>8.0500</td>\n",
       "      <td>35.00000</td>\n",
       "    </tr>\n",
       "    <tr>\n",
       "      <th>5</th>\n",
       "      <td>0</td>\n",
       "      <td>28.0</td>\n",
       "      <td>8.4583</td>\n",
       "      <td>73.27861</td>\n",
       "    </tr>\n",
       "    <tr>\n",
       "      <th>6</th>\n",
       "      <td>0</td>\n",
       "      <td>54.0</td>\n",
       "      <td>51.8625</td>\n",
       "      <td>54.00000</td>\n",
       "    </tr>\n",
       "    <tr>\n",
       "      <th>7</th>\n",
       "      <td>0</td>\n",
       "      <td>2.0</td>\n",
       "      <td>21.0750</td>\n",
       "      <td>2.00000</td>\n",
       "    </tr>\n",
       "    <tr>\n",
       "      <th>8</th>\n",
       "      <td>1</td>\n",
       "      <td>27.0</td>\n",
       "      <td>11.1333</td>\n",
       "      <td>27.00000</td>\n",
       "    </tr>\n",
       "    <tr>\n",
       "      <th>9</th>\n",
       "      <td>1</td>\n",
       "      <td>14.0</td>\n",
       "      <td>30.0708</td>\n",
       "      <td>14.00000</td>\n",
       "    </tr>\n",
       "  </tbody>\n",
       "</table>\n",
       "</div>"
      ],
      "text/plain": [
       "   Survived   Age     Fare  Age_end_distribution\n",
       "0         0  22.0   7.2500              22.00000\n",
       "1         1  38.0  71.2833              38.00000\n",
       "2         1  26.0   7.9250              26.00000\n",
       "3         1  35.0  53.1000              35.00000\n",
       "4         0  35.0   8.0500              35.00000\n",
       "5         0  28.0   8.4583              73.27861\n",
       "6         0  54.0  51.8625              54.00000\n",
       "7         0   2.0  21.0750               2.00000\n",
       "8         1  27.0  11.1333              27.00000\n",
       "9         1  14.0  30.0708              14.00000"
      ]
     },
     "execution_count": 255,
     "metadata": {},
     "output_type": "execute_result"
    }
   ],
   "source": [
    "df.head(10)"
   ]
  },
  {
   "cell_type": "code",
   "execution_count": 257,
   "id": "4d8e725e-15e2-489b-8ff2-4ef574d6aacc",
   "metadata": {},
   "outputs": [
    {
     "data": {
      "text/plain": [
       "<Axes: >"
      ]
     },
     "execution_count": 257,
     "metadata": {},
     "output_type": "execute_result"
    },
    {
     "data": {
      "image/png": "[encoded data removed]",
      "text/plain": [
       "<Figure size 640x480 with 1 Axes>"
      ]
     },
     "metadata": {},
     "output_type": "display_data"
    }
   ],
   "source": [
    "df['Age'].hist(bins=50)"
   ]
  },
  {
   "cell_type": "code",
   "execution_count": 259,
   "id": "3c227e8b-4ab6-47a6-a724-b7932442ceb9",
   "metadata": {},
   "outputs": [
    {
     "data": {
      "text/plain": [
       "<Axes: >"
      ]
     },
     "execution_count": 259,
     "metadata": {},
     "output_type": "execute_result"
    },
    {
     "data": {
      "image/png": "[encoded data removed]",
      "text/plain": [
       "<Figure size 640x480 with 1 Axes>"
      ]
     },
     "metadata": {},
     "output_type": "display_data"
    }
   ],
   "source": [
    "df['Age_end_distribution'].hist(bins=50)"
   ]
  },
  {
   "cell_type": "code",
   "execution_count": 233,
   "id": "8345d20c-34ae-4b35-84fd-c0ff68441907",
   "metadata": {},
   "outputs": [
    {
     "data": {
      "text/plain": [
       "73.27860964406095"
      ]
     },
     "execution_count": 233,
     "metadata": {},
     "output_type": "execute_result"
    }
   ],
   "source": [
    "extreme"
   ]
  },
  {
   "cell_type": "code",
   "execution_count": 261,
   "id": "58250fa3-1542-4938-91e5-0c106630cfd6",
   "metadata": {},
   "outputs": [
    {
     "data": {
      "text/plain": [
       "<Axes: xlabel='Age_end_distribution'>"
      ]
     },
     "execution_count": 261,
     "metadata": {},
     "output_type": "execute_result"
    },
    {
     "data": {
      "image/png": "[encoded data removed]",
      "text/plain": [
       "<Figure size 640x480 with 1 Axes>"
      ]
     },
     "metadata": {},
     "output_type": "display_data"
    }
   ],
   "source": [
    "sns.boxplot(x='Age_end_distribution',data=df)"
   ]
  },
  {
   "cell_type": "markdown",
   "id": "8abe0c93-77f6-4536-a8f6-2bdaab3c672f",
   "metadata": {},
   "source": [
    "#### Advantages\n",
    "1. Easy to implement\n",
    "2. Captures the importance of missing values\n",
    "\n",
    "##### Disadvantages\n",
    "1. Distorts original distribution of the variable\n",
    "2. It will mask the outliers in the distribution is the number of NA is big\n",
    "3. If number os NA is small, then the replaced NA may be considered as an outlier and preprocessed in feature engineering\n",
    "4. If missing is not an important, it may mask the predictive power of original variable by distorting the distribution"
   ]
  },
  {
   "cell_type": "markdown",
   "id": "af4f43de-9e80-4552-9f0b-c4c153d71522",
   "metadata": {},
   "source": [
    "#### Arbitrary Value Imputation\n",
    "\n",
    "It consists of replacing NAN by an arbitrary value"
   ]
  },
  {
   "cell_type": "code",
   "execution_count": 272,
   "id": "65c4cf66-86b2-4077-8537-18bb7484b4f4",
   "metadata": {},
   "outputs": [
    {
     "data": {
      "text/html": [
       "<div>\n",
       "<style scoped>\n",
       "    .dataframe tbody tr th:only-of-type {\n",
       "        vertical-align: middle;\n",
       "    }\n",
       "\n",
       "    .dataframe tbody tr th {\n",
       "        vertical-align: top;\n",
       "    }\n",
       "\n",
       "    .dataframe thead th {\n",
       "        text-align: right;\n",
       "    }\n",
       "</style>\n",
       "<table border=\"1\" class=\"dataframe\">\n",
       "  <thead>\n",
       "    <tr style=\"text-align: right;\">\n",
       "      <th></th>\n",
       "      <th>Survived</th>\n",
       "      <th>Age</th>\n",
       "      <th>Fare</th>\n",
       "    </tr>\n",
       "  </thead>\n",
       "  <tbody>\n",
       "    <tr>\n",
       "      <th>0</th>\n",
       "      <td>0</td>\n",
       "      <td>22.0</td>\n",
       "      <td>7.2500</td>\n",
       "    </tr>\n",
       "    <tr>\n",
       "      <th>1</th>\n",
       "      <td>1</td>\n",
       "      <td>38.0</td>\n",
       "      <td>71.2833</td>\n",
       "    </tr>\n",
       "    <tr>\n",
       "      <th>2</th>\n",
       "      <td>1</td>\n",
       "      <td>26.0</td>\n",
       "      <td>7.9250</td>\n",
       "    </tr>\n",
       "    <tr>\n",
       "      <th>3</th>\n",
       "      <td>1</td>\n",
       "      <td>35.0</td>\n",
       "      <td>53.1000</td>\n",
       "    </tr>\n",
       "    <tr>\n",
       "      <th>4</th>\n",
       "      <td>0</td>\n",
       "      <td>35.0</td>\n",
       "      <td>8.0500</td>\n",
       "    </tr>\n",
       "  </tbody>\n",
       "</table>\n",
       "</div>"
      ],
      "text/plain": [
       "   Survived   Age     Fare\n",
       "0         0  22.0   7.2500\n",
       "1         1  38.0  71.2833\n",
       "2         1  26.0   7.9250\n",
       "3         1  35.0  53.1000\n",
       "4         0  35.0   8.0500"
      ]
     },
     "execution_count": 272,
     "metadata": {},
     "output_type": "execute_result"
    }
   ],
   "source": [
    "df=pd.read_csv(\"titanic.csv\", usecols=[\"Age\",\"Fare\",\"Survived\"])\n",
    "df.head()"
   ]
  },
  {
   "cell_type": "code",
   "execution_count": 274,
   "id": "c1f033d2-222b-41da-888b-0c2d91db9188",
   "metadata": {},
   "outputs": [],
   "source": [
    "def impute_nan(df, variable):\n",
    "    df[variable+ '_zero'] = df[variable].fillna(0)\n",
    "    df[variable+ '_hundred'] = df[variable].fillna(100)"
   ]
  },
  {
   "cell_type": "code",
   "execution_count": 278,
   "id": "0f8669c8-7f2c-4f55-9e46-8b81f5280ce1",
   "metadata": {},
   "outputs": [],
   "source": [
    "impute_nan(df, 'Age')"
   ]
  },
  {
   "cell_type": "code",
   "execution_count": 276,
   "id": "db15c0f1-a6e5-42fe-b688-b67b94cd3e93",
   "metadata": {},
   "outputs": [
    {
     "data": {
      "text/plain": [
       "<Axes: >"
      ]
     },
     "execution_count": 276,
     "metadata": {},
     "output_type": "execute_result"
    },
    {
     "data": {
      "image/png": "[encoded data removed]",
      "text/plain": [
       "<Figure size 640x480 with 1 Axes>"
      ]
     },
     "metadata": {},
     "output_type": "display_data"
    }
   ],
   "source": [
    "df['Age'].hist(bins=50)"
   ]
  },
  {
   "cell_type": "code",
   "execution_count": null,
   "id": "eb5312f1-7453-45ae-ab4a-506991a4e034",
   "metadata": {},
   "outputs": [],
   "source": []
  },
  {
   "cell_type": "code",
   "execution_count": 280,
   "id": "744c8c51-f4a4-4bd3-abce-232fa76ee1c7",
   "metadata": {},
   "outputs": [
    {
     "data": {
      "text/plain": [
       "<Axes: >"
      ]
     },
     "execution_count": 280,
     "metadata": {},
     "output_type": "execute_result"
    },
    {
     "data": {
      "image/png": "[encoded data removed]",
      "text/plain": [
       "<Figure size 640x480 with 1 Axes>"
      ]
     },
     "metadata": {},
     "output_type": "display_data"
    }
   ],
   "source": [
    "df['Age_zero'].hist(bins=50)"
   ]
  },
  {
   "cell_type": "code",
   "execution_count": 282,
   "id": "d9ae1ee1-b0a8-4fac-b0e6-e89f49441c12",
   "metadata": {},
   "outputs": [
    {
     "data": {
      "text/plain": [
       "<Axes: >"
      ]
     },
     "execution_count": 282,
     "metadata": {},
     "output_type": "execute_result"
    },
    {
     "data": {
      "image/png": "[encoded data removed]",
      "text/plain": [
       "<Figure size 640x480 with 1 Axes>"
      ]
     },
     "metadata": {},
     "output_type": "display_data"
    }
   ],
   "source": [
    "df['Age_hundred'].hist(bins=50)"
   ]
  },
  {
   "cell_type": "code",
   "execution_count": 326,
   "id": "f3e447af-0598-4f77-9977-96ad8e253095",
   "metadata": {},
   "outputs": [
    {
     "name": "stderr",
     "output_type": "stream",
     "text": [
      "C:\\Users\\asus\\AppData\\Local\\Temp\\ipykernel_4552\\1315530542.py:4: UserWarning: \n",
      "\n",
      "`distplot` is a deprecated function and will be removed in seaborn v0.14.0.\n",
      "\n",
      "Please adapt your code to use either `displot` (a figure-level function with\n",
      "similar flexibility) or `histplot` (an axes-level function for histograms).\n",
      "\n",
      "For a guide to updating your code to use the new functions, please see\n",
      "https://gist.github.com/mwaskom/de44147ed2974457ad6372750bbe5751\n",
      "\n",
      "  sns.distplot(a)\n"
     ]
    },
    {
     "data": {
      "text/plain": [
       "<Axes: ylabel='Density'>"
      ]
     },
     "execution_count": 326,
     "metadata": {},
     "output_type": "execute_result"
    },
    {
     "data": {
      "image/png": "[encoded data removed]",
      "text/plain": [
       "<Figure size 640x480 with 1 Axes>"
      ]
     },
     "metadata": {},
     "output_type": "display_data"
    }
   ],
   "source": [
    "from scipy.stats import binom\n",
    "a = binom.rvs(n=5, p=0.7, loc=0, size=1010)\n",
    "import seaborn as sns\n",
    "sns.distplot(a)"
   ]
  },
  {
   "cell_type": "code",
   "execution_count": 327,
   "id": "91077c63-78da-41f8-a3a2-a784638dbbb0",
   "metadata": {},
   "outputs": [
    {
     "data": {
      "text/plain": [
       "array([4, 5, 4, ..., 4, 4, 4], dtype=int64)"
      ]
     },
     "execution_count": 327,
     "metadata": {},
     "output_type": "execute_result"
    }
   ],
   "source": [
    "a"
   ]
  },
  {
   "cell_type": "code",
   "execution_count": 349,
   "id": "d26c9cca-0bd9-421e-be32-6dc5ad9e0fee",
   "metadata": {},
   "outputs": [
    {
     "data": {
      "text/plain": [
       "0.9012917926080696"
      ]
     },
     "execution_count": 349,
     "metadata": {},
     "output_type": "execute_result"
    }
   ],
   "source": []
  },
  {
   "cell_type": "code",
   "execution_count": 385,
   "id": "444decc1-044b-4723-ac3f-d3ec6762b9cd",
   "metadata": {},
   "outputs": [
    {
     "name": "stdout",
     "output_type": "stream",
     "text": [
      "[0.28597380937378025, 0.6878567409042835, 0.2530911041101749, 0.05055533669722834, 0.8700507287156991, 0.9283471836303581, 0.5289038918922121, 0.5880153355853822, 0.4881767582711639, 0.22798608795957753]\n",
      "[0.35258280334043446, 0.9947585747393296, 0.27077618696510564, 0.675700420505656, 0.8802935422724386, 0.12000351056393033, 0.47701075329099707, 0.419149056415677, 0.8743341498279662, 0.9555006456927975]\n",
      "[0.5157350540727208, 0.05522840519701744, 0.46336762729246983, 0.5202702856506958, 0.5185793448133932, 0.7739771433507637, 0.6524440411083702, 0.7538946393117656, 0.732582744273106, 0.7636385783333118]\n",
      "[0.7450586678744608, 0.691741713543828, 0.30515402803842206, 0.2175334473151027, 0.8679380106591041, 0.10494402796991853, 0.4568488000316677, 0.31885880807879974, 0.27179200746466237, 0.43092356197111914]\n",
      "[0.6738586365855314, 0.2574987229960376, 0.6256356104942652, 0.2062904656969754, 0.6829756017042206, 0.6503671269867336, 0.6795271208851447, 0.02915465146512264, 0.38602916299915657, 0.4998176845633493]\n",
      "[0.21061785196015315, 0.1424301909569653, 0.2827678072679273, 0.46980443179272735, 0.4803843494156915, 0.17227232545484428, 0.2787105091730381, 0.7815159329782855, 0.11830608044103252, 0.24796441767805388]\n",
      "[0.2183323791648092, 0.9531495554703063, 0.9348995043958729, 0.9336767580228023, 0.7257147199074707, 0.9559023967405778, 0.5712409724655721, 0.6744081076453572, 0.30451620833963433, 0.9734668238314533]\n",
      "[0.909510059697148, 0.5074453308203867, 0.7885020455010212, 0.08983273603867192, 0.61372925594745, 0.5620133680396022, 0.14822202140260976, 0.6735693565736964, 0.7029017728290963, 0.25575810465079607]\n",
      "[0.28748735969551975, 0.4619003940440851, 0.90636097186959, 0.11244245690601296, 0.47807457776464257, 0.8065935167445412, 0.39187698944802685, 0.1799498430480656, 0.9753197707014466, 0.15562187100046698]\n",
      "[0.5859845828466658, 0.3314966194701312, 0.2813009634779646, 0.5026946428582322, 0.6076240812698268, 0.6959347597416531, 0.6573626222961556, 0.8419624725547904, 0.7816742943516122, 0.3056559185728964]\n",
      "[0.3770605141990564, 0.20889386541280675, 0.6772246321377429, 0.1991527162769675, 0.15493918873299306, 0.5640393735284905, 0.8159684370284064, 0.21732162102376373, 0.3026677449278311, 0.841330385569792]\n",
      "[0.3045103137761549, 0.6381064062323384, 0.1853782773858197, 0.830773174789663, 0.9150834271047129, 0.6586888930439241, 0.4626538645076317, 0.12742162294067705, 0.49447038066957394, 0.9036779212787974]\n",
      "[0.978252032349948, 0.8675400079467652, 0.6667180172956074, 0.19877476821366558, 0.20283162680793732, 0.053269947503841064, 0.16209201789091254, 0.6081805852338825, 0.7462551634420569, 0.9899015096062648]\n",
      "[0.9035141801668873, 0.8728777617094563, 0.4252081096937548, 0.26000527715310007, 0.328794315488409, 0.39788999363469746, 0.6598453678048969, 0.45000086949246365, 0.6024176464657626, 0.7833862419041282]\n",
      "[0.5106651640651245, 0.45809401530416205, 0.5042980977755264, 0.6818107838258138, 0.48143188958800553, 0.8390875441753227, 0.8150995154327172, 0.6302031322281305, 0.7660415189898615, 0.7948967375040181]\n",
      "[0.9321600740735977, 0.6107695519531092, 0.6447267179953445, 0.263691378701959, 0.5097843557754292, 0.14959899559242995, 0.11105392498636013, 0.2617424714841967, 0.6119550042626541, 0.29964403276884666]\n",
      "[0.6005062397200754, 0.5464943981035467, 0.8955906965891602, 0.7324006518952566, 0.1077969780340522, 0.07291796133538353, 0.6038213276330108, 0.17560996297554454, 0.31766302930418644, 0.35707801551127283]\n",
      "[0.23348206304393437, 0.4914074294207146, 0.9052808010709813, 0.5190809686205192, 0.36620571924942547, 0.7555780616683804, 0.13062600992759976, 0.3224933507539628, 0.9495556467814548, 0.8328401785769882]\n",
      "[0.13046285633465537, 0.7462449218970562, 0.10948214997156924, 0.22972168641649038, 0.7200742010945796, 0.7446263386440692, 0.4182686028392498, 0.0375563063206622, 0.8820920516917012, 0.9686951795784814]\n",
      "[0.6158301899124217, 0.505759316482372, 0.09400412225225585, 0.008983930878465496, 0.31785766605271104, 0.22242326898427756, 0.8142221701466906, 0.5322301886097707, 0.9593967772616651, 0.06090431006332386]\n",
      "[0.8613207602644406, 0.44489973248454306, 0.1550797083761174, 0.6012184493596494, 0.03610302956629963, 0.6741953288763193, 0.28975770760966957, 0.917233468647322, 0.507703630002671, 0.304203747678633]\n",
      "[0.7132539285615114, 0.6829068148113046, 0.6976642199818319, 0.5946650474036037, 0.3327508950354956, 0.05057463755410874, 0.9976083763270547, 0.38173989310642764, 0.539185967543226, 0.620919348633251]\n",
      "[0.2465525269398604, 0.14042567366250258, 0.15712402575422257, 0.8960302440184602, 0.6550230131244956, 0.7814021110592155, 0.2780541538378688, 0.39908239444189986, 0.11740376937941566, 0.26154265081194916]\n",
      "[0.04258097957064677, 0.30060771280648024, 0.9600891333928402, 0.5722436406078895, 0.3831867848505065, 0.07372434020578311, 0.7228141787710868, 0.9264940736960019, 0.9720235143945029, 0.31178725381458583]\n",
      "[0.8106764882243911, 0.47862815720006635, 0.7993471314384661, 0.22932631844597562, 0.9350654289619943, 0.24122427704623406, 0.9059445974209346, 0.9563442846188224, 0.39271586662563795, 0.3113097377986731]\n",
      "[0.9558950112602901, 0.7010848750832915, 0.714261855281645, 0.8966646317795229, 0.2247589303432581, 0.7259822220108508, 0.7437994047142752, 0.4442358433905178, 0.3636567788474835, 0.8416620786736119]\n",
      "[0.0578900559892338, 0.3863860386997685, 0.5410198508633461, 0.13607626053219557, 0.14914980639351416, 0.41618592358791373, 0.75731412092545, 0.4311475092581043, 0.36164017551502414, 0.8813760284894606]\n",
      "[0.46309982871658306, 0.5484289578433424, 0.828949091644139, 0.022266033511879835, 0.1661835114022987, 0.963706063313425, 0.1833495518472732, 0.27140044850516165, 0.9116677617132106, 0.8810775929581632]\n",
      "[0.16489427763756348, 0.1402616099823606, 0.04711022396780862, 0.8602007027497489, 0.4575866450610867, 0.1257996397127885, 0.5153828510741291, 0.5116328332930274, 0.24565399210595773, 0.03705637461478839]\n",
      "[0.37214796731114996, 0.7573065325537154, 0.770321512431286, 0.679326081241351, 0.5637004538042791, 0.11153543718031922, 0.3627246559995537, 0.15659591193657885, 0.127712490578476, 0.09746563752126303]\n",
      "[0.43356692999170066, 0.9089716863189913, 0.7641289034431674, 0.1253642228028603, 0.9138611545439866, 0.8462767152013879, 0.8084631671264215, 0.9575528715005206, 0.20396261852890463, 0.5672047123804509]\n",
      "[0.19860520380243363, 0.2585453602419854, 0.5429745026226979, 0.15161366817178046, 0.21791758604179867, 0.8763836838667546, 0.2045327471195839, 0.1181920468301858, 0.09593032217225717, 0.26868528618712606]\n",
      "[0.7995188936819009, 0.7774881049009568, 0.8759816196123505, 0.5052534470854058, 0.778213782641422, 0.16598648898725665, 0.7673855925482672, 0.3620788814305902, 0.5831475637086224, 0.03934548223594603]\n",
      "[0.8719575821562391, 0.489973643054204, 0.2186847771001128, 0.6287964302135561, 0.24856463450902866, 0.01649049402791758, 0.5512238788790301, 0.44306155735361197, 0.7119183103845828, 0.01910566964305971]\n",
      "[0.8563204185078628, 0.22818377095865738, 0.32909923614438885, 0.1915156228608429, 0.8977311405805768, 0.4735314007313257, 0.2939390581581469, 0.3859145086771849, 0.5079127393473164, 0.29146259560567345]\n",
      "[0.6304830780800471, 0.3855117045751222, 0.9934842818946316, 0.6721862693667866, 0.9805473277480322, 0.4809900396255299, 0.23282442525226454, 0.8507634624939133, 0.0906944451660846, 0.17650163604817704]\n",
      "[0.3478860888456029, 0.87881801951614, 0.7766364830029763, 0.1920363788659536, 0.35979723489460735, 0.6067940122287303, 0.9630428863970701, 0.8794761560625891, 0.26495658212650297, 0.9994079315684625]\n",
      "[0.020937434753545148, 0.4426842018917705, 0.2548529636901644, 0.5096473116385027, 0.5533654974392692, 0.20823743897535896, 0.0897660018743256, 0.5360406191451476, 0.09666866549520614, 0.2286257758827922]\n",
      "[0.3655882407624109, 0.4586792860855574, 0.3496005771453069, 0.4255485427106227, 0.014369158655230141, 0.961392280666447, 0.033243896913533466, 0.11858364741538152, 0.9020384117812061, 0.9297436343656972]\n",
      "[0.024336266904566695, 0.27387169828465885, 0.44563287324473067, 0.5937915648858536, 0.9863896764966782, 0.7493849656834509, 0.3159088997551338, 0.24787232220798994, 0.6515466654019768, 0.7678758870613809]\n",
      "[0.29389209573663233, 0.9194950699214447, 0.6372864825888989, 0.8135127782177067, 0.1316476641908927, 0.6690025569772274, 0.9408730976823969, 0.519960019057313, 0.8772129442808819, 0.12302872470006831]\n",
      "[0.18132730361683724, 0.6210960680717832, 0.7828920134020947, 0.9191092161960004, 0.29993888340170094, 0.47803046052007137, 0.14685208253823612, 0.9294512839751886, 0.08873307804518149, 0.7158927459672481]\n",
      "[0.2683963303065251, 0.9802746875800572, 0.3330442531168323, 0.45640456095756476, 0.12827903498894178, 0.22344794945535207, 0.7854792519447682, 0.7312869388624199, 0.1286054067651553, 0.5929534040945973]\n",
      "[0.1788459428250574, 0.6424165473661253, 0.7242678155802988, 0.6108070219875952, 0.03877921292959341, 0.9490178942910189, 0.8044842872356226, 0.8932996447402554, 0.45105226983941926, 0.40451766978079173]\n",
      "[0.23198563641562508, 0.8869463495293327, 0.36195506748839923, 0.30719016162161983, 0.014085638002621415, 0.19763294243651341, 0.21748169231583958, 0.5262394729796974, 0.275419801805862, 0.9396559613120365]\n",
      "[0.451128204466572, 0.4373186942795525, 0.9356484808782339, 0.6494057818349794, 0.7154177910486359, 0.5334304334514325, 0.728983737227314, 0.692316716389232, 0.232706665228663, 0.5909568580593071]\n",
      "[0.05760937630921614, 0.2310182755048764, 0.4037761413155143, 0.9492785942735559, 0.15714160842630642, 0.025266480563191585, 0.13826444721472675, 0.022059792289635283, 0.6796951461165711, 0.5769816789616128]\n",
      "[0.03558241885828772, 0.00641557627292344, 0.015224505073964778, 0.059408972528760984, 0.8488608375475023, 0.761156763513733, 0.23965196713548997, 0.33323600749356896, 0.2809573311046656, 0.061130747416464515]\n",
      "[0.039698438910582445, 0.006569611478429049, 0.17291445497219204, 0.946522111079488, 0.4250707279450232, 0.1719466914459763, 0.9383547046514017, 0.24180048092487938, 0.5410592892407582, 0.6583007777165766]\n",
      "[0.2743245453024561, 0.4644019612580792, 0.023239149220754984, 0.10661959660384146, 0.8531243399262911, 0.023335075092859703, 0.10895641539128009, 0.377360543478127, 0.867513737593496, 0.387737627014765]\n",
      "[0.27792096274876676, 0.03229941092730093, 0.12144836084898569, 0.766768990574879, 0.3677347713307464, 0.8817056580103918, 0.6914906055535917, 0.43217540325009973, 0.3746738095825999, 0.5299602125422]\n",
      "[0.863916898247715, 0.759762890404254, 0.16617724942443757, 0.09254187943418501, 0.6440799527403219, 0.3517078282348024, 0.544127235385527, 0.7530774723961579, 0.7385405524829435, 0.07997840936444511]\n",
      "[0.5779083243130533, 0.4840354290354427, 0.6082425851367022, 0.6724766211487763, 0.5438004413304747, 0.19551833487072834, 0.6151658877526348, 0.002363897010045135, 0.7613305028616942, 0.6284072013510701]\n",
      "[0.5395485761941422, 0.6275395011518448, 0.6698706631599836, 0.5981062926156718, 0.5480588474949825, 0.37225260672632343, 0.9134492797456908, 0.8664477014667575, 0.9049777098376699, 0.03963681160333854]\n",
      "[0.35395139802164377, 0.5884848318174546, 0.032332603998726284, 0.12897555251033965, 0.5698780228862796, 0.17370962326728268, 0.42451109208816307, 0.7787767178553132, 0.37344994800010867, 0.4226004975250651]\n",
      "[0.9949993714240835, 0.356154000865636, 0.4537336984321201, 0.5749848570905658, 0.05843972771774475, 0.9649137703979381, 0.5806372352537276, 0.7484229993391021, 0.4167375096713156, 0.034643897992960415]\n",
      "[0.002765354439492662, 0.9538761251156755, 0.41825221439880156, 0.3925255910091918, 0.6768011874405223, 0.43264655985640543, 0.3688944438721967, 0.6443686402366627, 0.5749649104893126, 0.18910082472340595]\n",
      "[0.01786554218897085, 0.42833028743434354, 0.443731939983656, 0.8434840804303081, 0.48578186636552523, 0.5738269676988791, 0.16912527021859913, 0.19778855988978328, 0.24198112469824873, 0.19480241392608677]\n",
      "[0.7491637440343238, 0.591035449403844, 0.22466469842550152, 0.0667112204724799, 0.5324407248898023, 0.2030520445098748, 0.11381409722305025, 0.07351595297858626, 0.9276637660318344, 0.003217397267843203]\n",
      "[0.9179812608298885, 0.29944618876535634, 0.008118487463321777, 0.13813474600176878, 0.09661473413267396, 0.7637683424759258, 0.1541747362127882, 0.8571910779169054, 0.8830410251583217, 0.48748197598443266]\n",
      "[0.0015379117338890635, 0.8135657285078847, 0.45701039847412017, 0.9859829723070894, 0.3443647824318202, 0.4561149354111941, 0.2875858484814994, 0.12616663230013825, 0.6860220390398525, 0.8526990275733676]\n",
      "[0.1494077818303713, 0.23231197909833312, 0.10490070095013115, 0.6280053470058259, 0.9928933224392626, 0.3300077865185592, 0.7491515780841981, 0.8775439343074531, 0.9043413987507798, 0.9689948600664031]\n",
      "[0.39507690285295805, 0.5168468978381836, 0.4153893674762229, 0.5701401251493868, 0.8791533882096008, 0.749420142123351, 0.2097765616319648, 0.5315759174793504, 0.9793669615658789, 0.5197476104910839]\n",
      "[0.35052336911892523, 0.025110390250948966, 0.39132573382550206, 0.0804333968885701, 0.7755470649460096, 0.9613475955971105, 0.3241407193183685, 0.6068287619462002, 0.44078705653339256, 0.9010585473510625]\n",
      "[0.6712598960850534, 0.8305008799509815, 0.27507923511836097, 0.06056976858437757, 0.6083263274876429, 0.7972920722189429, 0.2878542217180552, 0.7547579021267774, 0.6696795649253773, 0.2203001965251693]\n",
      "[0.9347468937229141, 0.4450311092599999, 0.16629063120902599, 0.5751906847802738, 0.998289973025327, 0.8409667468517694, 0.21272118515978433, 0.9378233883820543, 0.08873696859371516, 0.6126917319717452]\n",
      "[0.6121202910240339, 0.30631877040481825, 0.4701407126485062, 0.06770908845244095, 0.3050103875986824, 0.4630823742796427, 0.13181649149593022, 0.7410285126603924, 0.6429851423271811, 0.20224891251984345]\n",
      "[0.813844013699345, 0.6920931826427813, 0.858767786173737, 0.6532749141922838, 0.6673992838642283, 0.19455272571989934, 0.9863360372916998, 0.8621561928656896, 0.4087535224828085, 0.8459360955118328]\n",
      "[0.8192391610959439, 0.17911445460459074, 0.3361010721558918, 0.8210505691637804, 0.058515662013137626, 0.9540823565199995, 0.26462331597091016, 0.7915396654874083, 0.28460370304796534, 0.9273492967275785]\n",
      "[0.8886708005310435, 0.5010858835046736, 0.6860335926150332, 0.6288888912643344, 0.9449102215781552, 0.3392598209787345, 0.7734005695650679, 0.36453080547547967, 0.8695456584443642, 0.9860094595299173]\n",
      "[0.704449788222504, 0.6945326001695528, 0.4588865388376995, 0.20970129395442105, 0.3589161509250177, 0.01929646531749929, 0.31061723100663097, 0.7090721762433064, 0.9503869069998131, 0.24211951965205103]\n",
      "[0.21327029089115968, 0.9637473766668124, 0.18804678410710285, 0.8098004528551002, 0.3406069090147493, 0.15630939267464328, 0.9913188662711266, 0.9726952717055933, 0.2563083443150087, 0.13094261969798382]\n",
      "[0.9631717540813463, 0.9991215498690417, 0.3895725921472657, 0.3311052689441133, 0.7091954500836061, 0.6522261299331106, 0.04791194489646444, 0.6399528171659069, 0.683106580283786, 0.24849574800433172]\n",
      "[0.3448847833153683, 0.8511660973419924, 0.026173890663280686, 0.1514769829741648, 0.5215685093559858, 0.9020890095725657, 0.6618658381824294, 0.8360713044108693, 0.42902095667317774, 0.7194929939470139]\n",
      "[0.47247673086242004, 0.268928031262053, 0.2846458523195714, 0.97011636278531, 0.8405139729495086, 0.41522752296529963, 0.8361083190676489, 0.49412720862761383, 0.4680588701771248, 0.025669105284722993]\n",
      "[0.9200180637978412, 0.4481485177969444, 0.648288987009248, 0.9068129186788865, 0.09436183647760765, 0.19912210757895954, 0.9191383687319222, 0.6929771730185511, 0.5528170405385996, 0.5367097142324225]\n",
      "[0.28809412954208447, 0.6627509687075297, 0.7189348291846103, 0.12508959669886188, 0.9629738563695656, 0.3145343615510111, 0.27017088084340646, 0.9017177149050981, 0.8200476624756222, 0.7276463657280151]\n",
      "[0.4229007969364599, 0.7125178121330581, 0.7739495101522839, 0.8228398924679668, 0.8281081990496623, 0.6536282756779827, 0.6816975437964888, 0.5285608950954774, 0.20773651881114674, 0.4238083455256191]\n",
      "[0.8667234009279366, 0.23775840700123885, 0.6654664792853527, 0.7397130256582857, 0.6068182088600076, 0.09843942193302024, 0.8280659200022353, 0.47035599499700753, 0.27723944147977764, 0.9940680460749529]\n",
      "[0.5786173309890602, 0.7393462929291502, 0.8110396818526914, 0.932436050156554, 0.29146244334363625, 0.784132822327239, 0.37753585393222333, 0.8716064873546493, 0.38269419760141543, 0.06400796679688692]\n",
      "[0.40548334661245544, 0.6879519919292104, 0.8400666289786589, 0.797233562154906, 0.5633639161638496, 0.15763719168529844, 0.688232235689125, 0.3175338886584005, 0.18132453017840433, 0.06262389674544433]\n",
      "[0.7320715037572096, 0.44531741132504266, 0.0881295578696607, 0.9814850567320651, 0.4485421900306916, 0.6786651494995415, 0.019949980632132935, 0.40372073581561885, 0.35967928170561736, 0.5125695344892345]\n",
      "[0.8918719404493917, 0.4382879752707759, 0.9019318723744115, 0.35900199428383406, 0.7810246754735849, 0.21885863364464742, 0.12644294866333927, 0.6441518306312519, 0.08276662385611533, 0.21976255755691898]\n",
      "[0.40435260353762337, 0.9875307474965858, 0.9502772034846279, 0.45495626809907275, 0.6578541944225079, 0.8043927819141055, 0.03226753188930742, 0.6056131583590898, 0.5399840124068092, 0.7557246866626525]\n",
      "[0.3393461654250143, 0.39380898134226006, 0.4829760289051185, 0.6349371477582376, 0.7172097433332609, 0.3363737404654753, 0.3198127631817147, 0.6128203127490448, 0.9903940112124207, 0.23434488081002092]\n",
      "[0.674628077827685, 0.10650044265701863, 0.6408101341577426, 0.9068941758436087, 0.5864371717638112, 0.6550337413495246, 0.15439548094101552, 0.4437159886830392, 0.29377513702585967, 0.03239815359637499]\n",
      "[0.5002151238276403, 0.09171452892479037, 0.26445552128029903, 0.10846992848986625, 0.605705134788942, 0.16326501855455866, 0.8866324278167218, 0.5745260549467475, 0.10439211387422509, 0.7902569045879292]\n",
      "[0.7677843066297675, 0.5839088550536841, 0.21439783525006806, 0.20262480954926432, 0.6899949480724535, 0.14301828665319238, 0.8350119588217702, 0.5447644652522893, 0.4031435442900343, 0.08290726909405077]\n",
      "[0.3168960744519853, 0.6661987872825672, 0.3292884110700566, 0.9786141558137318, 0.23574166625432336, 0.24760697085858796, 0.003247548872112427, 0.9447799790965162, 0.4050121910302482, 0.876588250586742]\n",
      "[0.6271154321746757, 0.7943501845009344, 0.5817926569636057, 0.9905661435352304, 0.22152486972781116, 0.1026619220277456, 0.6823907113027184, 0.9299712734865517, 0.5402617739405314, 0.20778905655680502]\n",
      "[0.06772491634492694, 0.2039722480064926, 0.5328195684925946, 0.7434827327439322, 0.1943047697899971, 0.3821148631767155, 0.914742797781649, 0.8966541721897573, 0.252809947624865, 0.9315354074045119]\n",
      "[0.03719269379384582, 0.624253785989499, 0.7463036611749666, 0.908304744431099, 0.37420301161126324, 0.8932812037848632, 0.8118295541464667, 0.4997049473111669, 0.08743917062520679, 0.3694418193838782]\n",
      "[0.32532305391140204, 0.1272989538201671, 0.004863803375714459, 0.48720087168944193, 0.3158705665660255, 0.48816788353948526, 0.6950677557131159, 0.9720648278928038, 0.342924800534401, 0.5548660996115173]\n",
      "[0.8372694900788118, 0.2627300525130799, 0.8742555325590609, 0.9808819690772853, 0.49354826918661066, 0.2937543664877196, 0.3871777874280161, 0.3700890226021336, 0.944927427215728, 0.5096922557677288]\n",
      "[0.400837321077796, 0.4658149863640575, 0.9560503820515583, 0.22680662682752362, 0.16069273428068942, 0.11326575157350405, 0.5837335390530031, 0.3303801026040206, 0.9034494576247539, 0.18176011029589223]\n",
      "[0.3499428518549972, 0.39799462701394417, 0.5958281764677192, 0.6154614901564225, 0.6736042584115968, 0.7874373498497221, 0.7432310891705698, 0.3461404683181085, 0.9228660606444582, 0.7024599227354684]\n",
      "[0.8889161037618277, 0.53487029876148, 0.9494140668604734, 0.5501361408656693, 0.2790640313498066, 0.8219769642657209, 0.5092335976785641, 0.9544402667453339, 0.18859310767727522, 0.8122674780076716]\n",
      "[0.1312476762046565, 0.03495742556735559, 0.5686668964009666, 0.2678531663229552, 0.7611467362903833, 0.18698936313090797, 0.39223268850334325, 0.4750628299977263, 0.4004632198370309, 0.445402488242325]\n",
      "[0.05294364665600515, 0.7862330360920372, 0.3222838935730622, 0.13958740446098516, 0.7951120138491417, 0.040191122112332334, 0.776899083364499, 0.14452725992220639, 0.740779350328502, 0.17184624375094637]\n",
      "[0.7847274313029429, 0.4095360397949024, 0.1308296796964059, 0.6107803176486247, 0.26724472380214137, 0.1620455154137096, 0.5734982669487121, 0.460410060209423, 0.7595871885617297, 0.5748624454770886]\n",
      "[0.32191028864661464, 0.9107163123683899, 0.5398582557757515, 0.1730249550434605, 0.04845691322927825, 0.6977697319464662, 0.7966189670473206, 0.9564081217752609, 0.19759139297931505, 0.44643515287017177]\n",
      "[0.3844781898841476, 0.513050323056147, 0.926338520248195, 0.5400521287928236, 0.35792210431803373, 0.8041559118758685, 0.8660819283364886, 0.34768205608690606, 0.45968258989072774, 0.22336497251855592]\n",
      "[0.7842792409069538, 0.9013254101766656, 0.1630619287095928, 0.2400412852897219, 0.20666433492039327, 0.0738703226851617, 0.7919418545830328, 0.8629916420114775, 0.6920768435136652, 0.36723676100809355]\n",
      "[0.5078983368529126, 0.4207605002365109, 0.38528478410045286, 0.3701187593334746, 0.8641063383938066, 0.5076495634737129, 0.9874349815883403, 0.503866768634328, 0.8249625090291329, 0.7975211785183818]\n",
      "[0.587607835617419, 0.09393909625455155, 0.9583105175677258, 0.46270511245496515, 0.8189392386637703, 0.11812891405158288, 0.4744582553105404, 0.7972086201398503, 0.7494427902360483, 0.13733612123688244]\n",
      "[0.025904627986155226, 0.11758225719712856, 0.4687761107848951, 0.14951314742163513, 0.11631061271351739, 0.6205962484720052, 0.8984271351341021, 0.21401061902539564, 0.49215872511863346, 0.9105059155314891]\n",
      "[0.4004262522409413, 0.2632224908759424, 0.5236725983206978, 0.2864066186586597, 0.4814435558238692, 0.14863356342912726, 0.7360188674371964, 0.18654181779856494, 0.7273422689312098, 0.5231606429416316]\n",
      "[0.07099521713082457, 0.530605315951902, 0.41975822942953356, 0.37443462253416415, 0.38094593460346327, 0.5345856275497181, 0.4893800126345925, 0.2306084823228196, 0.018511779239470005, 0.6147855693703275]\n",
      "[0.5148786632855329, 0.8066421246464582, 0.2896212216670857, 0.8514252545014407, 0.8061090547494125, 0.5544053997917145, 0.5773527444298054, 0.8727736750578295, 0.26792106351047074, 0.05643098922848011]\n",
      "[0.5493990299232099, 0.6339315029377113, 0.16231373933571025, 0.16803386835598688, 0.7291097516380595, 0.912589280022985, 0.8487408877327632, 0.6570394482735487, 0.153738480436181, 0.5024310421314765]\n",
      "[0.9392913540139449, 0.5900373349723367, 0.3386892796103963, 0.0005497302261244785, 0.4470130022658917, 0.5060737155471913, 0.41698830290409616, 0.1680730437307124, 0.9454912078639016, 0.28517496085949023]\n",
      "[0.266199781275795, 0.6446804814676558, 0.7288254916436812, 0.06733370658755045, 0.03261530631426535, 0.17265959678096643, 0.9033898258354062, 0.5103140968247439, 0.7769254070525633, 0.6129483986391934]\n",
      "[0.7138498933109011, 0.495602240079552, 0.7944157647270437, 0.29909033137145646, 0.5631398865299272, 0.635694440602812, 0.5198205533166924, 0.46328121768585473, 0.6043128661664365, 0.24790654272883872]\n",
      "[0.6602360412487136, 0.4031387216381953, 0.8924513220205991, 0.6340818399907059, 0.6485912336371057, 0.7505142713869078, 0.6299551691438471, 0.5723852057868151, 0.565828654938988, 0.7141761644323241]\n",
      "[0.10322039552242701, 0.338949866020966, 0.1900437818466384, 0.6476849509238577, 0.05006837727396707, 0.442135180141215, 0.5977099904067121, 0.4949568832670116, 0.04193784593135208, 0.3978526335391017]\n",
      "[0.5994438270584017, 0.6307824438216725, 0.004162003954728211, 0.007990410504118528, 0.09768055134344722, 0.6356343886470615, 0.937861457774732, 0.2660347172545686, 0.4145145817417427, 0.785977869977781]\n",
      "[0.3110215612507442, 0.4248098599550584, 0.3530177438997736, 0.44085893369604523, 0.9664593805744878, 0.9789962273730621, 0.5874112004617872, 0.3891590674585479, 0.14313383137434932, 0.5000621141532604]\n",
      "[0.11328272753644608, 0.18926147238781343, 0.4801882284061575, 0.2906367045354159, 0.30374747254366297, 0.2507961130481329, 0.6822608487573363, 0.18800165265164837, 0.7193754630653122, 0.4687101906908635]\n",
      "[0.04722811319916209, 0.7310770986025626, 0.33255405089473355, 0.37075606465517497, 0.56476342224924, 0.9536527596523685, 0.42903712326528454, 0.48763046470561744, 0.16823718610772542, 0.15198704488018788]\n",
      "[0.8431044526542287, 0.8667323393554269, 0.2186632048164593, 0.5803652631810173, 0.9226683745486834, 0.9658172782017383, 0.8636074172423449, 0.33258429048129157, 0.18911278715501267, 0.9941152956766807]\n",
      "[0.3751733991694193, 0.47925869148882916, 0.2829202169518985, 0.5882299241204357, 0.09665633522351413, 0.5329099387975608, 0.07684068766117791, 0.5351572999527249, 0.17426224998025952, 0.5525383046516118]\n",
      "[0.2905907940779884, 0.13184894508677059, 0.0348472618125194, 0.8895896981945514, 0.08765506151959634, 0.4545831959492175, 0.6923071204280701, 0.08975460700540594, 0.9970503836651883, 0.4858119421805902]\n",
      "[0.8710808705338594, 0.7669743419083226, 0.2900681640649996, 0.9520282898390005, 0.976736263867259, 0.2332655598830784, 0.37541223872879326, 0.2431591764244997, 0.3578827608722649, 0.6737199077730857]\n",
      "[0.5016356002296275, 0.3335643646705807, 0.7409822846460153, 0.8553856943653001, 0.7840584991663639, 0.8167042213021096, 0.15555881327609822, 0.23996167438022598, 0.056861301698996614, 0.9817324575165107]\n",
      "[0.8045729133550588, 0.1992262160619387, 0.555209849826033, 0.28133015390627525, 0.36351317280529327, 0.46676188668844587, 0.7866501694050435, 0.17661210786725656, 0.3469632975420123, 0.3521051904874203]\n",
      "[0.4954009312585883, 0.4559823085793646, 0.8529473312871159, 0.5171094760997512, 0.40065466062335564, 0.8377763277768328, 0.5150195954247266, 0.8374397458653148, 0.6335638363240605, 0.7584017552719583]\n",
      "[0.5572733553961157, 0.11636985358147411, 0.024456091476385167, 0.8193840482332545, 0.6660996239968494, 0.7670258935755716, 0.7138517289329479, 0.3351297926549336, 0.787221054118394, 0.1439214181013122]\n",
      "[0.8097357470242688, 0.5552070728422197, 0.1897663740218517, 0.6917199150535037, 0.9223967661942882, 0.5936457358998505, 0.6126593186086263, 0.28764443443508203, 0.35150395439621396, 0.8479986788414363]\n",
      "[0.5051283209033084, 0.00816459609782072, 0.6895812769888918, 0.5686453837782086, 0.9959677455766605, 0.40822726081621996, 0.7419464377521863, 0.5035928342431041, 0.6972014422910585, 0.5440798438292203]\n",
      "[0.07838000153518632, 0.9069771206237254, 0.17795822461364041, 0.9318275373428393, 0.5781687519062376, 0.9119377581693403, 0.6748136386669641, 0.7212582302776404, 0.3994147086529515, 0.9637009313436915]\n",
      "[0.8632089508598478, 0.3061889966743385, 0.13398633879499056, 0.41602158072976214, 0.9744997043310409, 0.27475533156732324, 0.539098023427895, 0.704340832737476, 0.03905971187092261, 0.9282568259241613]\n",
      "[0.793756280757019, 0.9374592313768267, 0.8075245577880295, 0.37356432248912275, 0.3023216718311341, 0.7174908161101696, 0.9785475533359591, 0.18863262422154958, 0.4369903446056813, 0.48506247911656053]\n",
      "[0.6738479645141705, 0.13941946335266464, 0.5328401915830107, 0.9989452582236072, 0.6109277280037042, 0.9763779647473142, 0.0014846728835762324, 0.25472986194558267, 0.3709863665086075, 0.34828133289008]\n",
      "[0.536224742810746, 0.9767670556147131, 0.9948501253427953, 0.10304011764644727, 0.6285277066903477, 0.32559836090573524, 0.6235432587891726, 0.7884369064922462, 0.004642567039901291, 0.37924073779876877]\n",
      "[0.843285835151909, 0.4560880254681198, 0.7746812933914008, 0.3653902325399869, 0.8598699618785204, 0.7418264550298662, 0.5921960068531015, 0.2460710980964771, 0.8467824283688359, 0.6693152661048118]\n",
      "[0.1711008140401996, 0.46666104344947346, 0.6929787882520531, 0.9282560983786875, 0.17822414601782222, 0.10575149074381607, 0.30380688263767985, 0.1059942940931925, 0.007401624965539089, 0.12660656587847785]\n",
      "[0.9233832041263654, 0.3880029407881129, 0.714683703475789, 0.642920432355332, 0.5695356471474289, 0.727623232759351, 0.5645494100218746, 0.35017896230335344, 0.9327636602140897, 0.7560049156890378]\n",
      "[0.1287054832963508, 0.4416641333290515, 0.6446561014153153, 0.3898109745877495, 0.8378477678393027, 0.21282884175773864, 0.293889003240729, 0.5501086007469201, 0.6505779493545737, 0.4059241841899215]\n",
      "[0.3304561500131322, 0.30226174107677783, 0.08180047360177711, 0.6242646264450415, 0.10378069244063648, 0.34177666158885434, 0.89791097109991, 0.6430206193776427, 0.6202344603180576, 0.7493554295084277]\n",
      "[0.3035899513175685, 0.7206245441273724, 0.6694977685815979, 0.06764059558793512, 0.2322553762268329, 0.8660046756818714, 0.5409923529040933, 0.9569969337788594, 0.5250476705429942, 0.2656471928588475]\n",
      "[0.3047986266050232, 0.7924083434376157, 0.9596168360798207, 0.4762683399594678, 0.004238187107750702, 0.36512838838533135, 0.6554210516494406, 0.7874681089806452, 0.9394387999908379, 0.8568175155595684]\n",
      "[0.17966544929230455, 0.7295352452654331, 0.8628290965066835, 0.8755265656756461, 0.48168383218811706, 0.3418403327054703, 0.6517330868474965, 0.7503617149707233, 0.31519681287280765, 0.464573764047877]\n",
      "[0.8112518855479326, 0.4782344689407271, 0.7504140960425298, 0.4500190742744822, 0.26998300658398455, 0.359693076294724, 0.27457286115173596, 0.2855672601685839, 0.9781676869402841, 0.655017194430298]\n",
      "[0.3236146009835663, 0.9598354594851128, 0.1459655225593165, 0.4806753711314695, 0.3848218028123568, 0.864669662906947, 0.1888150295152775, 0.24791850103046742, 0.2432959297291104, 0.4204347745481113]\n",
      "[0.16980813683479423, 0.9317218543320233, 0.4662082139494753, 0.13495006303839907, 0.7210987700083835, 0.6089499317698246, 0.9330278207667051, 0.29467894820333573, 0.5080548792553434, 0.9595982454110489]\n",
      "[0.07186521000084878, 0.3200700554294795, 0.8721954641519438, 0.468364385572129, 0.18606977976345562, 0.2267412200926403, 0.1579184948922716, 0.5057814168150044, 0.6935071983645363, 0.6630077366994735]\n",
      "[0.7195832726008171, 0.25007848139695266, 0.6878333044621938, 0.5333559909958921, 0.5010518372447366, 0.9863014742551827, 0.03198240453285728, 0.00855060749312131, 0.7706105016279662, 0.21891193621451366]\n",
      "[0.1306794631481728, 0.010005448892956181, 0.7385264174356487, 0.8213232350421396, 0.0390253844699916, 0.7576438488970622, 0.5423270928555072, 0.596443762115557, 0.8820600901591293, 0.8549846176625149]\n",
      "[0.7252465349781269, 0.3831786098013632, 0.455875223706495, 0.6627808971958818, 0.8311094584182154, 0.23445947279258983, 0.44095760297598807, 0.5095514581510531, 0.6184981112458389, 0.6837601657449913]\n",
      "[0.6330281348235954, 0.8615120389453672, 0.2490338592732022, 0.34476691749512456, 0.2628457582514244, 0.8984792737475461, 0.8730411937474554, 0.901469547393449, 0.7790106928355123, 0.8353408937818819]\n",
      "[0.16699395143205154, 0.21069091507039117, 0.9588615847624057, 0.9158204918220264, 0.6752388712055297, 0.6387679429938411, 0.4196448151872295, 0.21596973448096402, 0.9807496564954944, 0.1757107008066343]\n",
      "[0.6839962278229538, 0.41866680974618564, 0.22102042817666812, 0.3914625770375256, 0.7839551122349346, 0.19718138223076387, 0.23709547205063808, 0.06190219965321986, 0.1055580428106272, 0.9679233588111052]\n",
      "[0.7854702135372544, 0.38435874923097557, 0.2522176819725199, 0.6454062976812865, 0.30014714405161624, 0.5791631829548658, 0.8935886721638758, 0.028606924231342368, 0.039820933731156916, 0.6147715175455615]\n",
      "[0.4965357855339039, 0.7091943313958885, 0.2779472728103851, 0.6278460942296629, 0.8921033622179116, 0.07467545133774123, 0.8554620609350916, 0.8935835097743404, 0.1937789560983353, 0.24160835006235637]\n",
      "[0.8369819444578575, 0.24223284399039713, 0.044290788684422044, 0.7670559485473076, 0.9794993789954937, 0.28466005556369045, 0.7474728826109525, 0.49513040174670087, 0.7259781447954302, 0.05703665932167501]\n",
      "[0.2582061754162238, 0.7157460676539317, 0.053958791500699266, 0.7879856084543196, 0.5107390265171785, 0.5786975890027679, 0.7313047357273993, 0.15242671358751758, 0.38904582654400455, 0.280847357055484]\n",
      "[0.46804053942549717, 0.28878727618472977, 0.7432176150202086, 0.3414753494627091, 0.8430582371102411, 0.5919702404167563, 0.5699867120641333, 0.7895864201795227, 0.3149506668410659, 0.16275068204739918]\n",
      "[0.7527724614105498, 0.27657814320776886, 0.39914789400134654, 0.7059342985048537, 0.6370523957870318, 0.3358809755231641, 0.8445593481259382, 0.4824077175982362, 0.14253668261241126, 0.7212078548571698]\n",
      "[0.4238303586876069, 0.793400377865651, 0.762976988007926, 0.37708447941259193, 0.6725010152269985, 0.3241146344146556, 0.43111674197940075, 0.2810529787453856, 0.34722710929877243, 0.9190408738870156]\n",
      "[0.811500068358806, 0.06639139849944264, 0.6744262247163294, 0.5126771866533698, 0.18655987708669852, 0.08638303588610097, 0.9475021827152121, 0.7801056874980583, 0.8966847285359567, 0.1593569318959066]\n",
      "[0.14056566576974083, 0.3316599114026636, 0.6815897261452023, 0.45473408960374995, 0.3253087466365404, 0.5442890063399727, 0.0653362588676425, 0.7548506327529964, 0.43943237929760526, 0.5469855436176808]\n",
      "[0.2366950229285666, 0.0615944984184249, 0.6954771584466432, 0.14921524315443246, 0.29880220032334137, 0.8770242161766026, 0.09092183932147602, 0.7673285872739477, 0.4981428123382128, 0.45210957915588124]\n",
      "[0.9650537838261767, 0.19792731030594157, 0.642169765435339, 0.7913604272290177, 0.8908412079973383, 0.7195986492196967, 0.9850135844276359, 0.7333991294918603, 0.7758268975094929, 0.1786510437454889]\n",
      "[0.42359053222452514, 0.5094217329164961, 0.11676643536358677, 0.4022451862789004, 0.3059216512045211, 0.39716435270386496, 0.13441013290531256, 0.07285574903901226, 0.7848286600743214, 0.6201504597473984]\n",
      "[0.30554351489251563, 0.6570963163846225, 0.5135993669373035, 0.02380295138480215, 0.22108854805883027, 0.3670905538621885, 0.2787408351992605, 0.8714455041219518, 0.9190659517887951, 0.4791355194094078]\n",
      "[0.09536202457371834, 0.4324331996268781, 0.2144366788396701, 0.26716410701746374, 0.8797821202875061, 0.8785818840646964, 0.7041117257127114, 0.6232192404775149, 0.41577140087770637, 0.3931669906872092]\n",
      "[0.15506140318585582, 0.5473055607511393, 0.9300715775782135, 0.7592549429638806, 0.05609592446729528, 0.2483832624898783, 0.4634306623882619, 0.2085197474789282, 0.8846230150744311, 0.3065948353243284]\n",
      "[0.09562993612287363, 0.4092531136225199, 0.5956642967780458, 0.6815724995250346, 0.5409290488778045, 0.28434957415809226, 0.6632224898436329, 0.32278672112639106, 0.4972806528181607, 0.5369071316995947]\n",
      "[0.49712566225868116, 0.054940055621013784, 0.7008778987782021, 0.2667095387768337, 0.9506656559682969, 0.3366254601942773, 0.637387223341524, 0.9384640482356134, 0.6856231137004689, 0.16539475522479175]\n",
      "[0.3640924907707068, 0.1089794227012505, 0.33314215053975016, 0.06666263981073595, 0.44621966207077435, 0.0957108406800351, 0.0643571312708292, 0.5975450256522439, 0.9059774165048851, 0.24817919769185892]\n",
      "[0.8339227462833942, 0.433914642255934, 0.6715106800469754, 0.9494115766213331, 0.051196235984399485, 0.032150235685130535, 0.8462756565502091, 0.7285777836844092, 0.41261364678512435, 0.6396231493606357]\n",
      "[0.1670098503070716, 0.4837302422073687, 0.9810827846492567, 0.7159420531028203, 0.1609737993134177, 0.5746943211749583, 0.9823788303602009, 0.6513040754963559, 0.7488108575085279, 0.04253607439648199]\n",
      "[0.7140726886815334, 0.14247699375748746, 0.30790515065714996, 0.5576541478571178, 0.29810971582412815, 0.9094909298382198, 0.09491869255552299, 0.9380873401748683, 0.01666752502231461, 0.5875714694751941]\n",
      "[0.7527667675374057, 0.07746455706226185, 0.17510038104747416, 0.2040960379908915, 0.8986909905245445, 0.594881450476715, 0.4783711387849924, 0.4758343323734796, 0.26093173755322474, 0.8697590983745606]\n",
      "[0.7045157796967332, 0.22341947292550046, 0.3802669311243517, 0.546902632129171, 0.516076181440594, 0.20009526331132388, 0.9262321952122503, 0.6270251825131008, 0.6744462387755625, 0.004859893503015966]\n",
      "[0.46291094350296946, 0.8926026865280227, 0.6241941330602937, 0.13523998658248626, 0.30649699542988584, 0.5692854993067443, 0.0817126831528956, 0.7427767566027526, 0.9599787387189301, 0.7896738391574734]\n",
      "[0.20196596213792617, 0.4866299643899906, 0.24835480566520796, 0.0187039816479041, 0.754107797528743, 0.8927787735008498, 0.9230174977699057, 0.27493835712629844, 0.25793563522119234, 0.3713997427548009]\n",
      "[0.24057344473735554, 0.720426609659084, 0.7128135553810846, 0.6081873207068034, 0.774022196099071, 0.13734023795180672, 0.7514797184590228, 0.6636777325986434, 0.6406563329345228, 0.7407553907551896]\n",
      "[0.2263215002351514, 0.29520923034217306, 0.8165502280424322, 0.8725514691810907, 0.6512727947206561, 0.8530654752976032, 0.7388675312041567, 0.837465185634108, 0.22004656144506363, 0.6627769309457926]\n",
      "[0.4898416245519768, 0.7929681498590806, 0.07485067270016077, 0.3170833286015313, 0.49358294479570197, 0.6748744210004994, 0.42740380690281854, 0.7137060372615082, 0.2377282688246216, 0.4524534283995675]\n",
      "[0.42316496151277694, 0.10541631532631612, 0.3069926603026957, 0.3237527982608933, 0.7136622998510522, 0.421051162017283, 0.07206444660377909, 0.6502468203823478, 0.924898509995039, 0.8239392113249154]\n",
      "[0.1755220110745359, 0.6422635690423104, 0.6190662676067122, 0.18403712468330335, 0.7504492634197479, 0.6688169068178901, 0.7866547620166308, 0.2718951503301925, 0.7991310689820258, 0.8265451171020789]\n",
      "[0.48593469115089016, 0.8532783230702339, 0.671811961871064, 0.36868491540346704, 0.8820375449993588, 0.8466601628157872, 0.6503851234512098, 0.3412646671152154, 0.9983708819730738, 0.692067058764016]\n",
      "[0.19443124171961745, 0.3128240366078475, 0.5315296505804458, 0.2897906744176728, 0.12962635900694996, 0.5028377896080541, 0.3837906346532578, 0.02462230036080626, 0.015259258464815573, 0.14927210124326973]\n",
      "[0.25225743215813046, 0.23020012976764603, 0.973247243500327, 0.0034357945100197407, 0.2051674017452968, 0.3833007749259828, 0.6891493836735335, 0.4549473935421633, 0.08586995112918783, 0.26999032195900086]\n",
      "[0.43465196737618694, 0.9291912596502196, 0.2630276454834434, 0.0958999242035764, 0.1352266568267294, 0.5349617220552981, 0.20556841059352737, 0.7479835588834498, 0.4551467817145699, 0.5045453025261826]\n",
      "[0.09806247230378673, 0.39075406387617884, 0.225688808353242, 0.38577577061061696, 0.6138437128595101, 0.18989093812613989, 0.7453574682916004, 0.5950493281799939, 0.8536622496873135, 0.8348444905224186]\n",
      "[0.5467962485476152, 0.7318160569680158, 0.0006959961924732916, 0.06251039016566051, 0.987846997919338, 0.9283113441408822, 0.4284278321658831, 0.964474319757725, 0.4023939951370834, 0.05218137566065961]\n",
      "[0.09422693054181697, 0.7007287975351103, 0.5885256162652207, 0.2961540497200339, 0.3142926502248994, 0.5046787945033799, 0.6171678868979465, 0.9558009098051404, 0.23573562769026568, 0.16966452335245374]\n",
      "[0.050379611573593275, 0.5561442500875082, 0.31220008481394657, 0.5999259038689674, 0.8440805224619319, 0.905930737467469, 0.33290979937767906, 0.17149706320734137, 0.9007676486298406, 0.17772098547599346]\n",
      "[0.7489639918854042, 0.002623277049085604, 0.07464096388639363, 0.30583606270832786, 0.5364656115795085, 0.8661446394175375, 0.4315067733450253, 0.5831784009174352, 0.7605295867711878, 0.3081986483010707]\n",
      "[0.5009983907373428, 0.024524747982557105, 0.1835933522205606, 0.8970475635051661, 0.6864641629684277, 0.7130105949412299, 0.8721007904187927, 0.11063796131765136, 0.17660076862764262, 0.2630904331746444]\n",
      "[0.9955658050094742, 0.5330242712128948, 0.8514202644366292, 0.2626595993458899, 0.6974354449173829, 0.8658500686321814, 0.1475595219552014, 0.7100380305531809, 0.9576135272071167, 0.7226643182934867]\n",
      "[0.554238485366292, 0.3306515118232596, 0.7403530360384931, 0.36687596142812984, 0.9851083123949124, 0.35032969474550757, 0.5296354010925739, 0.07557745897210788, 0.39533203137456074, 0.13007890747327722]\n",
      "[0.9472311290975545, 0.08296401912320595, 0.36856559340152795, 0.3668865828039889, 0.3684584384021137, 0.15089251398856152, 0.5661260380441865, 0.7780360114835506, 0.6829569842685282, 0.5575788125840054]\n",
      "[0.06288437607282538, 0.2873851106975235, 0.3755442482666804, 0.5513527729311724, 0.5003315823630088, 0.34433000920896517, 0.6174688213958666, 0.02202215324076251, 0.5061729916457808, 0.3354532651923565]\n",
      "[0.26052707937092834, 0.04610022654993773, 0.8066037949540805, 0.715416195163662, 0.7252002930105046, 0.39421523549852155, 0.27283853842625927, 0.9089119911488915, 0.5509562557912423, 0.3284258304770199]\n",
      "[0.9468786895010294, 0.35960486932391333, 0.42574631472368707, 0.1113536440195686, 0.3822329680820197, 0.3785648523729126, 0.6944660343586829, 0.43273546935450946, 0.4983608744069038, 0.6099887333252503]\n",
      "[0.6119826583414312, 0.8825177144732619, 0.21249193052978355, 0.45197663017865697, 0.436881081404477, 0.9878057479432788, 0.05353079127145399, 0.638038326006695, 0.6391381961130672, 0.3961705505321218]\n",
      "[0.38970971063287607, 0.869861838103822, 0.9115763671227795, 0.08995180727849927, 0.3732401387023384, 0.5480487355340069, 0.06215227334687923, 0.5335160409156354, 0.012751614686611457, 0.5057319850427444]\n",
      "[0.07962746713923174, 0.8077480550443786, 0.031777592190757264, 0.02740700949835484, 0.7961129291611106, 0.23173255311117325, 0.6826340390033799, 0.8075571962348003, 0.5566157361987493, 0.014580354734875844]\n",
      "[0.8852499725001305, 0.21239626142053036, 0.24706246841894308, 0.6730376472506131, 0.2424141018036745, 0.39492030061585526, 0.10473540782371538, 0.36695226077173915, 0.6553419548190825, 0.06269315727335778]\n",
      "[0.46477800837062955, 0.3766910595705272, 0.3271290592014111, 0.48731296794993617, 0.9539747585191558, 0.46756124092122653, 0.08998113746823855, 0.40749677743087465, 0.1659240802842965, 0.3740568020779095]\n",
      "[0.6900438347181507, 0.8464626021017169, 0.44660297698779183, 0.7377751229913712, 0.587130848496698, 0.21527932427513086, 0.14301971760663967, 0.36904441373507113, 0.7250379885965923, 0.927956127256975]\n",
      "[0.516327340375748, 0.1385035540458488, 0.051383946043232265, 0.4622575056334144, 0.5241199883248995, 0.33461330032558056, 0.19396731571638237, 0.8736480361813203, 0.4354013091610426, 0.6683083808692503]\n",
      "[0.9057112015976778, 0.05145800215120322, 0.30669485281897124, 0.3697327997803235, 0.05614055580960575, 0.41166883688485034, 0.7438575358854221, 0.967185478470644, 0.9379714119183359, 0.4888292352639292]\n",
      "[0.10140027110762573, 0.33442025377343776, 0.09904740814383406, 0.8624930460708506, 0.48985099978475233, 0.5577571583574275, 0.4295754790433166, 0.5600393271563511, 0.48098337663304747, 0.12184480055369029]\n",
      "[0.16491248319493135, 0.7861111288012135, 0.20524438396594635, 0.9984614899758064, 0.37208011188221013, 0.441171618519944, 0.4645651273954605, 0.7454592108642824, 0.25043014597454316, 0.28703031900135]\n",
      "[0.0277910470532009, 0.039376906117334354, 0.35310428451195963, 0.561064582423632, 0.8671417575205987, 0.9636874466441132, 0.7686604390322778, 0.6751557995139755, 0.42190857310436536, 0.9258367383126132]\n",
      "[0.024626741223876203, 0.5318662438600377, 0.2264533068065695, 0.9983091139016665, 0.952736283544698, 0.6732348629954626, 0.20978526779358908, 0.42212084641037895, 0.7163264691681238, 0.15670359736604245]\n",
      "[0.5360369816776234, 0.101837427211664, 0.9218919829274891, 0.520191139879109, 0.43363191925868116, 0.44871586639539773, 0.20151707175392453, 0.888260124252193, 0.9529462622728134, 0.5578190266485888]\n",
      "[0.6874252313452147, 0.8116589301782899, 0.8960893377619901, 0.517073690724202, 0.26815339225763146, 0.07020980122687503, 0.9352980998307991, 0.44807896919765045, 0.32799041883576285, 0.7978716355693775]\n",
      "[0.519456579488391, 0.03980737180669436, 0.24695623951828027, 0.7164335212033385, 0.7007590180971096, 0.6570600448796513, 0.29400351936502944, 0.2707708654129306, 0.4220038297591846, 0.10681245239705894]\n",
      "[0.2072257883745633, 0.7033819336635729, 0.5116981956885707, 0.004240404997819414, 0.3507749946490353, 0.6059024839724906, 0.0690752388441942, 0.2721535641214473, 0.25177121846312867, 0.9790843737873202]\n",
      "[0.595684274600923, 0.684450568497166, 0.9446585088186709, 0.04649562811696617, 0.6556157491745479, 0.276369363516606, 0.9576386841037189, 0.19985272125110776, 0.533055207357588, 0.9072872357708615]\n",
      "[0.7882534377348938, 0.4169652189497667, 0.6419472749927331, 0.4379768737962836, 0.1985069989032987, 0.9920705660681942, 0.789850903374499, 0.7963430750110494, 0.5679487889351507, 0.934626681207388]\n",
      "[0.12658296460090057, 0.7151262154896095, 0.03493072643283435, 0.9190367771974604, 0.3650840545802265, 0.8142774712056572, 0.44252776277762607, 0.20767640843267177, 0.9485791750629268, 0.47078740049919077]\n",
      "[0.9428798827820103, 0.0014104611739453876, 0.48227448272938367, 0.8374117328657369, 0.18271888607329645, 0.7361756409966478, 0.614744300844753, 0.2132456201307199, 0.5777170579808428, 0.46532450350914867]\n",
      "[0.10535844684657503, 0.5675553358220045, 0.4534250299830299, 0.8778007424758338, 0.4658662806762204, 0.4405603316991469, 0.39852503305417153, 0.6288754517391335, 0.9451760542041746, 0.2391208350809717]\n",
      "[0.6881832363530064, 0.3668996742024919, 0.17010887711039957, 0.3410736405370165, 0.13411291130605485, 0.5093276086815941, 0.35528767969900144, 0.8840418777573393, 0.6273531151519106, 0.05758188980150003]\n",
      "[0.2690539486009793, 0.2498946887423149, 0.8899048538763025, 0.7717835674419946, 0.7034476828585083, 0.8126900992502173, 0.36669843352577813, 0.9551579840472783, 0.4285669034033809, 0.3648298335585951]\n",
      "[0.3007842196594187, 0.7958284284022094, 0.9066215370528492, 0.9464346829483923, 0.7069152167301105, 0.03739885422276068, 0.9716185290370563, 0.6355703454114879, 0.17544089242672145, 0.811179790127408]\n",
      "[0.5641347155315163, 0.33709616252737795, 0.8010381564426834, 0.9015368329798901, 0.13480103440847502, 0.1888285090596179, 0.1286290853576748, 0.9354400877374061, 0.7282637533957931, 0.47367437757983255]\n",
      "[0.4799309793485198, 0.039510710623736234, 0.8728696636378362, 0.4831837957551893, 0.2613152926951523, 0.46775219520369093, 0.3955563429651495, 0.7567317989513795, 0.8621760638068953, 0.6854469682433966]\n",
      "[0.7678921313171335, 0.9546049664099334, 0.024027288499514188, 0.9247764332104801, 0.23926694171143725, 0.002395955474653877, 0.7319320622308885, 0.43693411968951057, 0.48010900205094664, 0.9368702307489962]\n",
      "[0.2535057115966196, 0.6932909959031855, 0.9541304351432558, 0.807284586789098, 0.9521947910550259, 0.8902649212077554, 0.8126021048073886, 0.47167944059668754, 0.6684712266274937, 0.5370496420313954]\n",
      "[0.8621125059749468, 0.31450896662376593, 0.9413663056993681, 0.6861589165883745, 0.6052064356359682, 0.15110660542759657, 0.5741602295863039, 0.34690830183816423, 0.19577844131569033, 0.9191152174354718]\n",
      "[0.6682073589925931, 0.9336219906957038, 0.8452485071690788, 0.5231899139620081, 0.7953071995963096, 0.23559019079109889, 0.8160268905912754, 0.06191732231623148, 0.38682106084268386, 0.09519523907515637]\n",
      "[0.19858179378938778, 0.590655446086027, 0.11703900890024876, 0.418710131288356, 0.506297674783245, 0.2022226810389457, 0.022267214495322207, 0.6363977364869707, 0.9135534766328863, 0.21562441883166483]\n",
      "[0.9376096964764238, 0.7221394178863864, 0.9017952891829043, 0.006973215016280565, 0.14833043741935625, 0.6188666912860611, 0.2756847293697312, 0.005080561108563919, 0.3621736847391529, 0.13177110302509454]\n",
      "[0.5172600826308488, 0.5492499736015678, 0.6308298073558155, 0.11826366460852411, 0.5123538520897224, 0.8921888677541226, 0.6005287149178593, 0.22545838720170874, 0.6160460967262774, 0.9836693235677122]\n",
      "[0.04574618750355741, 0.24532773231894656, 0.5959891083587255, 0.9925151276534872, 0.1919393027523082, 0.30338418042709914, 0.38601551681241975, 0.3422342473461357, 0.2295794135307827, 0.051055304156161774]\n",
      "[0.8356788350686839, 0.6010979045295657, 0.9972631752601442, 0.31201271701581, 0.5440053318581662, 0.6705316276757937, 0.13715467910832868, 0.6519533845404826, 0.10917237801382396, 0.5430365886451056]\n",
      "[0.8962462392498564, 0.7449340346089155, 0.7632975025459637, 0.32670612667476495, 0.7998380455169612, 0.7798085268390892, 0.11669148047894096, 0.42503504229549516, 0.5468889304131298, 0.3747121259283229]\n",
      "[0.7583812877671521, 0.5844007437413951, 0.0002655570645034855, 0.36752415701227537, 0.9167777025476808, 0.8840704845755775, 0.30623205509965656, 0.9643052910727629, 0.3388300571660393, 0.18820156624748652]\n",
      "[0.2024898259647816, 0.280496343202962, 0.9101191528755147, 0.5199925657631307, 0.1258205410997303, 0.5016452503814836, 0.47914749691124925, 0.6940976365387078, 0.42236596926129466, 0.7139862404204659]\n",
      "[0.6835530438165895, 0.14920744235909067, 0.31400544260576035, 0.8226295045408099, 0.38211878274692823, 0.16240811816610767, 0.49433579520694426, 0.8640434392044409, 0.9703435134547356, 0.7066173005385953]\n",
      "[0.05753503735352117, 0.7410864970166084, 0.7031764437112866, 0.2999641318528352, 0.01982490836191897, 0.42958649750520983, 0.8805266971221722, 0.2207984779169927, 0.20909993978237462, 0.6528316737357317]\n",
      "[0.3410299908077643, 0.18239367895403158, 0.07920332974010957, 0.5465768176911671, 0.7199520101325741, 0.3091124940362914, 0.8958787258088927, 0.1044487373437305, 0.19288175484076964, 0.5106755489397535]\n",
      "[0.5858519202499869, 0.971112083475832, 0.7285870655440373, 0.9587522037600076, 0.9554073396152689, 0.06982586855875805, 0.520450333701347, 0.6053928005729042, 0.5280406626711767, 0.8194061868239549]\n",
      "[0.9753258236004891, 0.6806541545223534, 0.3639787936433815, 0.7335192160490508, 0.7660424060407539, 0.10738694728620779, 0.2585523126358793, 0.2128791627510096, 0.22892266810237283, 0.957196512869475]\n",
      "[0.14683473946731507, 0.06573010469828622, 0.48789583453558716, 0.5499045680858323, 0.5756578463797019, 0.2728252662386782, 0.13633527769918719, 0.249266290350049, 0.658468519740351, 0.4547136954906019]\n",
      "[0.3075999890053983, 0.8719018279543147, 0.31424754128120747, 0.42778055731828335, 0.5968841948600757, 0.22476628255146758, 0.9749148032391691, 0.6026608781718014, 0.7892258224569964, 0.11398498492959241]\n",
      "[0.7449485697599522, 0.7387040191299347, 0.7454888919369963, 0.09012561524058338, 0.2990458668510543, 0.4055100963715338, 0.10632297309875627, 0.9336133626582064, 0.9746746135005767, 0.5040333865282899]\n",
      "[0.4609391218341219, 0.26245393133842254, 0.2722124753648243, 0.9371863750962679, 0.7528896382514272, 0.2509926830356116, 0.9490120536918091, 0.45538732718667785, 0.1500521022488086, 0.2266512917617839]\n",
      "[0.8185468716606573, 0.1807414386480778, 0.9197602656438438, 0.5120720222811709, 0.3854698934327888, 0.47384288934193786, 0.4933705867993631, 0.36538793703516437, 0.3215090823447738, 0.09721028271452548]\n",
      "[0.3844008725644501, 0.06079908812306889, 0.8169979477598069, 0.7755224895969764, 0.8080853840126431, 0.6356270947239778, 0.6362476747814784, 0.9959354479065722, 0.06930037334982453, 0.7620506702563405]\n",
      "[0.488960754852509, 0.06475038573994096, 0.3811383524874846, 0.03726968559989996, 0.8972329319510148, 0.9996709539994022, 0.6910943358884273, 0.0017901670387672208, 0.30080382295736086, 0.6046368109427291]\n",
      "[0.85584325608584, 0.5750662142162801, 0.9415530305329454, 0.6887144262940134, 0.257632173878124, 0.5448168846914622, 0.08392673818519647, 0.5511183971317393, 0.4442291551809894, 0.007502375282556373]\n",
      "[0.42840152460062597, 0.15273459431733205, 0.16871076369494065, 0.22770292912306744, 0.4600131212397688, 0.08332301940559661, 0.751751744096666, 0.8360460150111431, 0.028962215015136517, 0.7736269974507238]\n",
      "[0.4578555306604286, 0.27770932439888896, 0.6657711231622403, 0.427541661063621, 0.5730530823198906, 0.45429675439124473, 0.9095519951004026, 0.5554081121833145, 0.666233681954399, 0.5481965820670134]\n",
      "[0.21169281658024142, 0.6972723632334755, 0.7221864612453223, 0.24138115800133442, 0.28205183075435136, 0.9812723200112841, 0.9288165965511231, 0.502167388155868, 0.01492797756033526, 0.9516090794837635]\n",
      "[0.6802956305826874, 0.9095496497971395, 0.8524362896263054, 0.694544051542528, 0.9325659239805383, 0.7318479952965138, 0.391525807201784, 0.42407521786267866, 0.7933429396414777, 0.17749258897208553]\n",
      "[0.8768871304308563, 0.27897567825339387, 0.34606970292496664, 0.3345836800081021, 0.10442220973742866, 0.9558614268424168, 0.8752617429642328, 0.16229772162863387, 0.13678637991979703, 0.5019915422540491]\n",
      "[0.12350707800453897, 0.0712360064167552, 0.3677395819143874, 0.5368853382398668, 0.41416771052074386, 0.9972593636902051, 0.5660006319717348, 0.9539277910064935, 0.32225781182662105, 0.9876966990199968]\n",
      "[0.355432379785242, 0.5550987259236599, 0.2279537127530077, 0.3308940525129648, 0.25596994598377243, 0.4111841527478506, 0.568662117967444, 0.13040174124846127, 0.6873229575991423, 0.4562621906192571]\n",
      "[0.8522980617385022, 0.3356212079516854, 0.2892053169995117, 0.38309882016860886, 0.6901960894633763, 0.3767852958556377, 0.8299796783531994, 0.07933300426690382, 0.10442910987441256, 0.39843400121139194]\n",
      "[0.4523010684796128, 0.8309661448329433, 0.04369531870147747, 0.9829115673317043, 0.9263787019638111, 0.6727037271208529, 0.8104677384630734, 0.9142661262826027, 0.3878175501973259, 0.08994590154670079]\n",
      "[0.9772872901322495, 0.5189862680681288, 0.10923656685722194, 0.5857385296380335, 0.052471969517590256, 0.9057185103233835, 0.9107855193268874, 0.1541026759911377, 0.7002985927114017, 0.21064134042355143]\n",
      "[0.3085017237439691, 0.20099364617577364, 0.1644080125615488, 0.44541449976576397, 0.3204160124870158, 0.7450449330634061, 0.8989636656411457, 0.7611601576940874, 0.07693921977970075, 0.9758222231608047]\n",
      "[0.22207011867869497, 0.5177877154607804, 0.4635425539350214, 0.9862447250618283, 0.46453271803482654, 0.40987302075645404, 0.44636823333315634, 0.4550320263718578, 0.42303335932061636, 0.16254714000195647]\n",
      "[0.7866196954629392, 0.9731164410280945, 0.26284755165198026, 0.5856102570759965, 0.4024453743661184, 0.40369988149629077, 0.9470326627706821, 0.37417430189407097, 0.21735460548857855, 0.8841930831410196]\n",
      "[0.9617265782205877, 0.17690771067634492, 0.7215251785596773, 0.9123443923540396, 0.10640335262993827, 0.17220883125994624, 0.40054959104809595, 0.5513751314429016, 0.13610921349061378, 0.6446850267433862]\n",
      "[0.6183310992008458, 0.8339348372947458, 0.1790825018840887, 0.05546356327616786, 0.7560562755024459, 0.8332995463333258, 0.9987150641601588, 0.37393998789156424, 0.5802464021231946, 0.4101797677118728]\n",
      "[0.08327231842656935, 0.5269088894377494, 0.343934008436211, 0.7619858107044178, 0.7948744621060311, 0.8750162439340629, 0.9941635654009771, 0.28052829601941964, 0.08574858978428324, 0.11834112648857142]\n",
      "[0.8459779242493334, 0.7072551801539042, 0.16312485718480818, 0.18465207466385491, 0.19723399874376535, 0.6565522021510868, 0.8790018970296591, 0.5210522148297051, 0.4688406875408637, 0.4272622155391753]\n",
      "[0.244323905333923, 0.3445977595577976, 0.7983873261935154, 0.7666402236942619, 0.19164298240959843, 0.4480397380370751, 0.8924178560048114, 0.7695902336968191, 0.5431908990121976, 0.168164222151992]\n",
      "[0.5470947933947347, 0.5556258195787291, 0.000917230732322305, 0.7411692537982646, 0.3463788474048983, 0.4154230788717955, 0.7282190807353545, 0.11896095128445705, 0.419250636211672, 0.6511722076877915]\n",
      "[0.5375207048587425, 0.8716074012438318, 0.24458218580871238, 0.5278302819168261, 0.30345884525932576, 0.8834394070971225, 0.8497755469440359, 0.3115421266037294, 0.5899837669803751, 0.6530857167855061]\n",
      "[0.555577495530216, 0.5873507044322865, 0.17392110357988366, 0.4485851592583261, 0.6260959230646448, 0.21920550232385105, 0.967862280402637, 0.05931678617020608, 0.13055951844944502, 0.15061788468503023]\n",
      "[0.8980780388893759, 0.9810333258128281, 0.7966124848425572, 0.05982092269126915, 0.16768901641791212, 0.03859286263915829, 0.5310517618875269, 0.6701660252264217, 0.25399620073907203, 0.2583775532590519]\n",
      "[0.614922978557606, 0.37940191888648966, 0.34879443964040246, 0.9563467992266909, 0.40351789963250884, 0.8190271925420042, 0.3251520410076796, 0.43498626815552566, 0.6039885499712788, 0.0513834493627906]\n",
      "[0.766758737400752, 0.7949340247033815, 0.6969182396215294, 0.058731928707658865, 0.925064498892155, 0.24622112805184848, 0.7802803599598993, 0.4877923701712633, 0.1543906387586682, 0.7604686795782616]\n",
      "[0.20093266721997172, 0.17264423059421385, 0.2003138999453995, 0.40129899355997656, 0.6144757712748993, 0.6934399803683283, 0.6938926100588875, 0.40266258168124713, 0.23579943923079139, 0.8637619551887827]\n",
      "[0.0955913440199403, 0.6868687179539309, 0.38825231831488016, 0.782717216782358, 0.444358913982839, 0.9691429685416781, 0.5919073607617144, 0.5989718075963196, 0.37225071423488965, 0.06043294987467307]\n",
      "[0.18201581341423057, 0.9347947685067869, 0.2804836804247922, 0.5429616832308666, 0.06330151085132862, 0.8504634678918879, 0.7454982921687844, 0.9622219752996084, 0.5274320458747865, 0.610829616424214]\n",
      "[0.7429673472723569, 0.9803507671786004, 0.32134603083276503, 0.8535745192536454, 0.7028043720861192, 0.8487557250628079, 0.5304694159991188, 0.019412905323591523, 0.3168805176270951, 0.8025815281383883]\n",
      "[0.6385569128997794, 0.8880061192692078, 0.3961551485963817, 0.06458929437630612, 0.19835907208337777, 0.5685413735857837, 0.0686923987369531, 0.9680203016527986, 0.12727102870266938, 0.8446883429371508]\n",
      "[0.5927621625219383, 0.4590606085693534, 0.5408595867712436, 0.15479054049072405, 0.8328339063511302, 0.42716735785633986, 0.4137873907465719, 0.5932953040614141, 0.016640904742829976, 0.7589630448215571]\n",
      "[0.5235773384756287, 0.7608260470954216, 0.3830551040138306, 0.3567324903522081, 0.02794980486946319, 0.21224241590298043, 0.6618174570370063, 0.3416737566979522, 0.34763861403048213, 0.00038116516981667736]\n",
      "[0.4822761100358324, 0.5070823014200914, 0.13995810668708442, 0.12708787863313264, 0.903118346647643, 0.48342367730724256, 0.768416581802541, 0.4919521817731928, 0.21307495816380162, 0.23604354669920213]\n",
      "[0.9005603740457124, 0.7347890709320075, 0.6491466057078948, 0.7199978984775558, 0.8019205090816081, 0.19026071348713092, 0.09800970516343277, 0.819729415099264, 0.15226819723902862, 0.9300041398613373]\n",
      "[0.9819746028686972, 0.8978953485509997, 0.13105032943113504, 0.8312084610696329, 0.25102753336011163, 0.9425672260081376, 0.21947731909710733, 0.9800705308487966, 0.5185884121706479, 0.9458653382413736]\n",
      "[0.0125676909682787, 0.3620375223237319, 0.9607139803837792, 0.33851620261824666, 0.037779381612341845, 0.6291366997979266, 0.7064129006385774, 0.4937567290040351, 0.5613116608714526, 0.11155436037829658]\n",
      "[0.0066338336189459834, 0.2877935833212317, 0.7959264998083272, 0.8870566755487584, 0.01642794660775848, 0.23658197699340788, 0.6320599825135329, 0.8661826456840676, 0.40146815217119847, 0.002342611957716789]\n",
      "[0.14653922265579777, 0.2896394126527111, 0.8546855656798477, 0.7587039547245018, 0.3875018397278004, 0.4307184331450292, 0.7354647316128493, 0.6056717754417994, 0.8124921377899642, 0.9277671722637202]\n",
      "[0.39325336394501076, 0.021631534693448695, 0.5631003469214977, 0.8623420061393156, 0.4292705720426331, 0.8214441145350841, 0.28558152469003073, 0.36549314169120317, 0.47832409913847684, 0.8724299938183093]\n",
      "[0.3292854118353551, 0.6036487878480037, 0.6582432273538532, 0.3473291855355355, 0.3839548900892328, 0.2500518219833604, 0.13558601371771128, 0.8029108452593913, 0.3182794726610464, 0.7412653807035051]\n",
      "[0.4445797109138927, 0.12940762717155407, 0.14941679811493835, 0.07687202833974749, 0.22157948274607098, 0.7380448800918218, 0.33568357347837197, 0.3436458364811492, 0.28282459709438035, 0.8691651656696547]\n",
      "[0.21997217683980896, 0.5888181338181286, 0.26628357646917067, 0.40440597486660357, 0.041127154107546304, 0.8609009807876529, 0.04992985613294132, 0.46279579420347305, 0.6710248796138827, 0.7407253254639797]\n",
      "[0.17908235379451742, 0.10984297946286226, 0.6499704009518312, 0.8597604549285877, 0.9951144533714872, 0.917250865354305, 0.2255122314318616, 0.12387745534593553, 0.45957393430865146, 0.0020932262472906915]\n",
      "[0.04675615485943163, 0.09697403311144526, 0.8585476248593538, 0.8932331535334991, 0.5743192407821825, 0.30273940017870093, 0.007301018388763847, 0.018487418862084715, 0.12928977248355966, 0.46856057183932964]\n",
      "[0.5480683026913689, 0.2036616145994815, 0.5488863204381533, 0.7075433102564735, 0.18382744496678316, 0.7674735805415647, 0.8301503359888279, 0.40651169231709716, 0.9314663648204795, 0.5086954040321431]\n",
      "[0.9713700616358408, 0.4311735869879023, 0.7397262866914439, 0.8889657296858852, 0.6842942038780243, 0.4969840637976424, 0.941255758569212, 0.19258525949309002, 0.3714079855517758, 0.7484786349913246]\n",
      "[0.7631168220273258, 0.52428744321277, 0.03254407195595754, 0.18720064315126062, 0.04371100848088516, 0.1376759194392595, 0.5372825562455966, 0.5045276832806058, 0.2928358989738046, 0.7374247352887632]\n",
      "[0.54634079392077, 0.3738071275356275, 0.1642512716111244, 0.1587729842031378, 0.9903583967548248, 0.774136981929077, 0.8957296128329015, 0.31286317186575163, 0.6234931536383733, 0.2511221489318144]\n",
      "[0.2191135688760294, 0.400768630477103, 0.6548120776444, 0.3524681809925517, 0.9694404689081128, 0.3292778453970797, 0.41635330620370026, 0.45887564627873567, 0.8972798053791416, 0.29197385560566025]\n",
      "[0.2603858533673613, 0.5467455516599184, 0.5184614221556926, 0.05527119272149916, 0.618520300541303, 0.17563175081114435, 0.019696670244607528, 0.18225773696294378, 0.3808325998400304, 0.5549263598236256]\n",
      "[0.8397308184227212, 0.16928657909906486, 0.1676927194532355, 0.38748603293458617, 0.9345431374441046, 0.24898583450641398, 0.4550972690002668, 0.010563236241221685, 0.17591239573669482, 0.17144950920077395]\n",
      "[0.3924001421138007, 0.7969883580486117, 0.22144389067801817, 0.028927946260978388, 0.22403795531357318, 0.5299173921658799, 0.8902427498436583, 0.5948438424428247, 0.7613039219238509, 0.649857619591105]\n",
      "[0.3401900661617393, 0.972663011915212, 0.3004323490547356, 0.3856306452998832, 0.04908822437514637, 0.15168630107838232, 0.7327370693881197, 0.7424733718826132, 0.0019962830307376223, 0.6303606755754232]\n",
      "[0.6931072554395847, 0.5773378002457303, 0.49352510710747743, 0.3905854584043834, 0.6272934620253827, 0.18233482259181366, 0.7621435099512109, 0.013079919735788925, 0.13922659997931774, 0.7119943959187957]\n",
      "[0.5744505026765554, 0.8070907126765925, 0.8496452654621502, 0.4237757942328366, 0.018744603092455514, 0.3606719970368917, 0.6816211090420083, 0.0806724105684894, 0.8073204723471692, 0.12021733824339709]\n",
      "[0.8993174942939977, 0.7997775018673399, 0.04472364178437671, 0.7474600778709783, 0.8393641693647802, 0.8432203483177073, 0.7485434812354557, 0.7343727987032317, 0.7173136125286503, 0.43067541217825356]\n",
      "[0.6542849540686926, 0.5109328388380477, 0.2816110745650272, 0.5060905911585861, 0.5248828094933609, 0.11916228178656207, 0.7812209177073904, 0.9567981517708862, 0.0029620766719014036, 0.7853307672440649]\n",
      "[0.27023788243980673, 0.31413258352870566, 0.5851900715380629, 0.2225498396631469, 0.3765212238059876, 0.967670049747356, 0.7515593910757615, 0.7512860060133064, 0.7096515826488958, 0.1110171616392216]\n",
      "[0.7578067110280748, 0.441965359984965, 0.6757563906221857, 0.10886805143591094, 0.7528948391861184, 0.37437586468077166, 0.8656423728124373, 0.48695923515393924, 0.18233149050818076, 0.13186493749532424]\n",
      "[0.1441575420175083, 0.9793854061586601, 0.660831449215439, 0.7775495864498685, 0.6503714321539509, 0.3278850968918626, 0.8497276185250159, 0.9848934676886031, 0.12342800555334521, 0.42773423221632445]\n",
      "[0.6710507315170953, 0.8662942757866399, 0.35991225281020534, 0.8818588209562626, 0.44814427225958176, 0.0045165974848696555, 0.2578078903254831, 0.9385490740359194, 0.34581682118767165, 0.7325229249257728]\n",
      "[0.5580110405527322, 0.10549320596944645, 0.8179411040493489, 0.05288532978037219, 0.9944129912534974, 0.6836818301537643, 0.5040839417688183, 0.009102818262473167, 0.8838882151889444, 0.12101223493920643]\n",
      "[0.2142581934187917, 0.9286651245919805, 0.17911143603312674, 0.0033751364820076013, 0.46611859830978, 0.19496792711451771, 0.7292771572940968, 0.037956002118246124, 0.9266395220911553, 0.03639085067410397]\n",
      "[0.7593460539581195, 0.09311640147440137, 0.5946446309587008, 0.15990268028212795, 0.14423831635314366, 0.6707871729264083, 0.5619953594821055, 0.48898396088988627, 0.1536729009755129, 0.7489196287861989]\n",
      "[0.09457007016466623, 0.5829678422820398, 0.8753930813444897, 0.9081574911874489, 0.4873381047521511, 0.798235318163378, 0.31079570212242513, 0.0874512388818115, 0.4923597318335289, 0.34924045775753887]\n",
      "[0.3568228123939182, 0.34371846782951165, 0.9014666634009388, 0.5017157906656797, 0.10213439266333346, 0.011129566552013914, 0.10270888920730148, 0.6906271530087524, 0.6263213386882716, 0.9143244113841636]\n",
      "[0.8630438401631143, 0.40536743202729797, 0.6869971250994694, 0.30892319243560207, 0.7168796555542458, 0.26799608943601405, 0.16977273211092903, 0.9405569160628753, 0.12356929507131786, 0.07768556793294101]\n",
      "[0.813752954567545, 0.10512080392825429, 0.804164388768137, 0.12547587930614135, 0.3409235700818227, 0.45900928202775826, 0.502252549467793, 0.6512368706355613, 0.08646333565769093, 0.9638402755127112]\n",
      "[0.12090907544738039, 0.8460529019685514, 0.2134319101456288, 0.6907903002503261, 0.5744602937080506, 0.44092288477877883, 0.4876509787889747, 0.6799768188329532, 0.5570054722512284, 0.15384443005709647]\n",
      "[0.4764866612692975, 0.43871133475034196, 0.2952347017389, 0.7688132622983131, 0.6125843151690784, 0.18132421161860646, 0.7253046307195361, 0.5176731467796124, 0.5129733501999775, 0.7198847843748409]\n",
      "[0.8434860484945891, 0.9660185592234798, 0.6972413882933196, 0.5669753805993795, 0.26411107637436537, 0.49344414819730864, 0.022890241209021833, 0.37026154843797854, 0.43256125619482433, 0.9902262867068882]\n",
      "[0.18901239885988264, 0.8383012535992682, 0.36145686593951754, 0.7916650331528741, 0.29207665672251204, 0.00906591471782503, 0.16476120830603924, 0.2049850165347895, 0.5837563127847886, 0.31476102257480965]\n",
      "[0.7633689617137877, 0.44225570191695174, 0.8442263731734276, 0.4427613809481872, 0.6980988024437921, 0.944185268513901, 0.4666324430513905, 0.8764227424401462, 0.37110253624907774, 0.8951851050236298]\n",
      "[0.8911267979616243, 0.5197918485134032, 0.8707817892732027, 0.04619078276853006, 0.5454010953344463, 0.6648424100646233, 0.6320308679720469, 0.376304335682738, 0.041421003559203196, 0.8909144177194303]\n",
      "[0.2575048742089898, 0.9934718975550949, 0.3560309629070403, 0.4056079472320988, 0.5342801893806479, 0.7576173022195773, 0.6270210409995607, 0.5955189035954592, 0.36952597368570217, 0.2052110699596983]\n",
      "[0.7604893906899608, 0.6207814578857976, 0.690101065979795, 0.49558568240263245, 0.9583357111299736, 0.3950380051128458, 0.3566633555776505, 0.32512858056699157, 0.6991927455617997, 0.5912244610494332]\n",
      "[0.705359977060738, 0.8951986157384272, 0.9586426569994496, 0.47208180116112874, 0.4280296760147535, 0.8420579407896056, 0.919930747199492, 0.7294145685544648, 0.6906936196080375, 0.40105797305720214]\n",
      "[0.15904463999594975, 0.013941876753031046, 0.8629195508883666, 0.9472778177017566, 0.7608027770528581, 0.534578236526862, 0.5522665428849333, 0.13798073166282832, 0.8887013870357411, 0.2989071942934125]\n",
      "[0.5437451096887589, 0.008998308017688417, 0.8054655078901178, 0.7385118127766166, 0.5433843883442503, 0.1880588664838323, 0.8231836017313251, 0.7897545150805851, 0.5542889344334485, 0.6099455591367929]\n",
      "[0.9782916007415402, 0.8201605311588765, 0.3137300991749442, 0.3831443478421832, 0.28998518792056094, 0.704910680133386, 0.19151755165371498, 0.30863079008093997, 0.4496894880902461, 0.4948719943814981]\n",
      "[0.03203507153405627, 0.269863892540791, 0.6800865519562014, 0.8300458814575232, 0.9377850274340503, 0.5360590412642189, 0.19908842509195868, 0.6417922169026593, 0.16361331916658428, 0.9961029738015279]\n",
      "[0.9473208461070155, 0.6927961124207922, 0.38991417939919615, 0.9468459581540103, 0.8712414720361207, 0.3753668440632697, 0.2309902657940932, 0.8117969793342296, 0.7920304364997716, 0.1436193308898961]\n",
      "[0.6875149191195166, 0.750693753251054, 0.48714925853301017, 0.9446388228237937, 0.5214127925113113, 0.05924763151647017, 0.18738365100690946, 0.4423039445909106, 0.2942626918301804, 0.15638829865434245]\n",
      "[0.6853788533430425, 0.7487104464519377, 0.015602524227617764, 0.9958202955686883, 0.08496115380202907, 0.454169333341346, 0.5630425225862828, 0.5882443527505358, 0.3465142820493574, 0.2054836854381814]\n",
      "[0.7548599517294005, 0.28965960487347076, 0.9630380054692522, 0.892527489984444, 0.4556673742157056, 0.15903345629633558, 0.5124443181370151, 0.41692616143094974, 0.5065917187618277, 0.955621043729504]\n",
      "[0.16980597371423034, 0.4893021553567851, 0.5923504923261321, 0.9473838845277761, 0.4116880985176401, 0.7509843164888983, 0.4491720524858396, 0.9097404007991049, 0.23446037598024116, 0.5991130972810103]\n",
      "[0.8366488478437631, 0.9125563549148015, 0.6790110968204814, 0.557456167878165, 0.8801970778974396, 0.4123702940743168, 0.8952125134139577, 0.3515963522190557, 0.05312140315432734, 0.8328288927012394]\n",
      "[0.16410875126942592, 0.9237459746294532, 0.18684006544657195, 0.5878239151148936, 0.33966445391357114, 0.6476380478940966, 0.846986344330962, 0.9290019137413345, 0.7085205320363046, 0.5785848735140512]\n",
      "[0.6137356070139222, 0.5612952595196835, 0.8735714218254561, 0.31341676164516574, 0.6438152894049677, 0.150078471396354, 0.4106037772791573, 0.11155937451657494, 0.09867122335919598, 0.7678033447877318]\n",
      "[0.9468840434683333, 0.6786309439121312, 0.6573547387641349, 0.5367566036419813, 0.7010648384170739, 0.8137773872950127, 0.3490543155474978, 0.7171782788973843, 0.14345953023943847, 0.658815043051065]\n",
      "[0.4472692903687282, 0.2090783894664524, 0.9527370476116391, 0.5545397278550863, 0.38681175514131116, 0.9587127127923609, 0.07461453946755148, 0.6459604047894402, 0.7588638014157655, 0.7342452693133488]\n",
      "[0.46135135975730057, 0.03204636201514788, 0.45413030691313816, 0.3449346218272945, 0.2897163553970833, 0.9402121088594715, 0.4532986599416854, 0.8594453459080191, 0.10400048207559642, 0.13966572318923454]\n",
      "[0.36315580288685934, 0.9388071508214655, 0.036343506759119903, 0.7320338964830363, 0.11838836173460043, 0.3279946855445114, 0.8883256970732747, 0.26962280044701525, 0.548429391297899, 0.618096264633382]\n",
      "[0.7498749447954928, 0.43658812114399437, 0.6509547533759504, 0.5957454552759581, 0.7004908978953409, 0.9402084974006506, 0.6362767718070417, 0.11948666954987541, 0.3081013085898705, 0.45564396786899675]\n",
      "[0.031083559047969223, 0.3417166957979575, 0.1394059980734429, 0.33910891760048445, 0.641373920485005, 0.872826496857417, 0.7953445807834406, 0.41132611492791427, 0.8700326096946516, 0.21702873872708783]\n",
      "[0.05654906087067724, 0.9833001711265376, 0.3528269758571442, 0.6186229199809904, 0.6910314640428236, 0.13484963864234345, 0.828990455659601, 0.529786927084155, 0.9768095983800167, 0.6129112864860992]\n",
      "[0.9925520447009679, 0.1311353893049474, 0.4957244828666286, 0.8334949358095057, 0.30016273619536227, 0.505697227554968, 0.49876484507140373, 0.9135430309025337, 0.3216640967209742, 0.8917100798693932]\n",
      "[0.3095377408753929, 0.7751936907686737, 0.7731807840082023, 0.1953987254223386, 0.8006656381216549, 0.5420224329440685, 0.46215176508513633, 0.7021870392562567, 0.4134359113028139, 0.9442391151939338]\n",
      "[0.2946209285128062, 0.9371716671072111, 0.5636659832946411, 0.07811574818947564, 0.3348895054824981, 0.6592662783933982, 0.8165198785405088, 0.028311442101713324, 0.30475143454057096, 0.7801396547067073]\n",
      "[0.8659891833199611, 0.9052704968257238, 0.7209341328477546, 0.9482869578200204, 0.2401755359747797, 0.6497110679481818, 0.4010504640920962, 0.2507955627066072, 0.8898923669995603, 0.4719846410099028]\n",
      "[0.9048083206833104, 0.9109109607335854, 0.16019659435044142, 0.8879063986434688, 0.8777346866545437, 0.5240313083977087, 0.2172756901168853, 0.13563408784408026, 0.27951785886487435, 0.8484424186519477]\n",
      "[0.03524509034707113, 0.2577209850992084, 0.628020684556105, 0.39292648857592194, 0.7704641922994877, 0.08508597662922435, 0.7941828994734593, 0.03534046555792425, 0.06780241884685656, 0.3306995709007199]\n",
      "[0.2010054403691096, 0.17168970263479888, 0.3045846284504893, 0.4056078836784057, 0.333508216811073, 0.4101350265960284, 0.7508075365106277, 0.6350181991195979, 0.5453951025371835, 0.0844892894049234]\n",
      "[0.6104989086155965, 0.22662112465233042, 0.7270368004744151, 0.7439891171065098, 0.8198631206567476, 0.8472883870953856, 0.6811462543234222, 0.7598885031993744, 0.52821051716247, 0.08231933328032903]\n",
      "[0.2641326280137911, 0.18771448033645521, 0.9916644358659957, 0.4416083264224472, 0.4809327346996036, 0.4571941507299244, 0.032225618177493476, 0.0853033973693349, 0.6045855476429255, 0.5662190827249649]\n",
      "[0.2039477402462413, 0.36510929072056275, 0.17308942780338243, 0.5040996795920001, 0.15830298753464922, 0.06082856118582003, 0.7421646860063851, 0.8060041724599317, 0.2160721756870143, 0.6797697760611195]\n",
      "[0.15521739372904175, 0.4987346838220048, 0.9918706955090072, 0.3340062952424824, 0.47361470254182914, 0.5689685332026289, 0.058536403215666, 0.8738414758985631, 0.746731593633122, 0.13400869932409554]\n",
      "[0.22500736438068347, 0.42928175617813413, 0.6300831860126762, 0.44811040583416684, 0.5043764492864974, 0.031027702438458094, 0.41374552589064284, 0.5627629517378935, 0.07873424616598312, 0.6478096662031426]\n",
      "[0.07415259532804352, 0.8033055736481035, 0.27715569026301257, 0.4525578972453774, 0.006632653218557438, 0.08680989146408902, 0.3358920904437027, 0.2695887216181104, 0.8377105982295268, 0.5855245230667657]\n",
      "[0.11698911398623935, 0.08331179604511041, 0.6026230534021787, 0.5152606715948438, 0.001401821759095867, 0.4824989615662778, 0.5985959767815342, 0.2794998961202444, 0.7308752909508582, 0.9447563801329161]\n",
      "[0.3707648381961922, 0.20538233396794126, 0.37600459566019406, 0.1513422509267801, 0.713744231723517, 0.27627993140013185, 0.8527593182536681, 0.9688615580425676, 0.33066693466339336, 0.8185101459331536]\n",
      "[0.2318443664116292, 0.4310719021675844, 0.7569476888407505, 0.9260306965066125, 0.3896350471230453, 0.9975713876709383, 0.9668048796753131, 0.6662623987523513, 0.5815163635677985, 0.22326937307588146]\n",
      "[0.35494299036119636, 0.6615511675202602, 0.8197648512829163, 0.6668439067446718, 0.10047661168624689, 0.5103122982931712, 0.05105833161983531, 0.7001312861651179, 0.4372034528924067, 0.24667669216766952]\n",
      "[0.6896667644431814, 0.591168285606386, 0.6316484679963796, 0.303599258572112, 0.9943609636121368, 0.42491497435095416, 0.5000691990500316, 0.28304888313423526, 0.3446429581570052, 0.9942550626918202]\n",
      "[0.5217686146499918, 0.24562674929285366, 0.03209316917970273, 0.7956642904035787, 0.4226984691579798, 0.8815872780331907, 0.486966900972453, 0.7450969009018665, 0.7114449090724799, 0.09186014107376217]\n",
      "[0.5005181001169062, 0.3913696308462239, 0.26768815207515817, 0.3861374138269016, 0.5979959445485034, 0.5171191181230125, 0.530040892369692, 0.724236733821851, 0.12252735028134121, 0.5493055919186006]\n",
      "[0.909288145131432, 0.8302096075075988, 0.8099289681860953, 0.06553960508044965, 0.5325439846767651, 0.20133124406587222, 0.12213472458438179, 0.8193116587007044, 0.57603024361293, 0.024443689474862973]\n",
      "[0.8887943685273648, 0.662658068631314, 0.9673571071503343, 0.7527249198846426, 0.7471208613323835, 0.49741168454039797, 0.5558956022371597, 0.5546185704649064, 0.04136088958698081, 0.05492287596875878]\n",
      "[0.9712507052168514, 0.6922767311537097, 0.7767772366903667, 0.7003770271666377, 0.10882068868896821, 0.6538822621364683, 0.11333678650936552, 0.8660818723545796, 0.8550555669194352, 0.5387340916035702]\n",
      "[0.15549729827341918, 0.3690791685650391, 0.1847378413038615, 0.5440748792117618, 0.3803971200789362, 0.1282776811237185, 0.3454003509941008, 0.9268276010899297, 0.2671922090322897, 0.6009580749427615]\n",
      "[0.9396297339651369, 0.049043808038091385, 0.16075783996207216, 0.11803340742391888, 0.7576747278799517, 0.5165110427831417, 0.7256129170704524, 0.4486807641874806, 0.5716996076515478, 0.8708543557557359]\n",
      "[0.5929491078951917, 0.7534853943575287, 0.892137329039461, 0.7320420907440851, 0.7056979074487237, 0.9058652429212064, 0.10274310359934158, 0.18843064290990497, 0.9195755258671844, 0.7988787491570499]\n",
      "[0.5386482060670615, 0.8728363789066634, 0.5579776593214203, 0.7790821670875633, 0.22819843743131885, 0.15538087035379344, 0.9766884774160183, 0.14724055363623634, 0.2673208305157011, 0.3570180660898893]\n",
      "[0.29606254938194565, 0.7731995522642273, 0.19429646523302213, 0.02336646093776973, 0.030553060991453718, 0.7411709302449787, 0.6509129616910487, 0.19387424351491622, 0.7700284557623616, 0.2473892768924406]\n",
      "[0.3142498849656994, 0.6294167041912336, 0.8931082856865729, 0.3229044233921794, 0.7077302059596537, 0.752502889910109, 0.8543937232715387, 0.9251345394122663, 0.7089334721167042, 0.577061729073052]\n",
      "[0.44621152414679743, 0.9072950408908725, 0.25540838150714973, 0.8421522630598564, 0.4894216241055236, 0.4183694315324237, 0.35712854052349285, 0.6353684519666061, 0.9328692753103424, 0.17276121557436763]\n",
      "[0.4633585331473862, 0.35792066185018, 0.6553598443371857, 0.892710314645186, 0.37910346531584227, 0.8681246404139231, 0.10574538770465003, 0.02805556600763426, 0.013695880687142559, 0.5869236970215194]\n",
      "[0.12383497140975885, 0.6241194848208157, 0.1977586016700681, 0.7785567327107873, 0.6084283610103984, 0.6275206234485959, 0.9995416785026036, 0.8211491835974978, 0.7455434457216925, 0.14381463298192543]\n",
      "[0.8265839856296154, 0.49731741778014993, 0.6434905774126175, 0.9238246466982579, 0.9810230713647935, 0.18161149307749846, 0.11302182823498286, 0.30844505990539384, 0.5328776805354661, 0.9493851589833231]\n",
      "[0.26499159861816657, 0.26563436105479266, 0.8441995655697688, 0.39715520631549583, 0.8398867635996464, 0.9554130091781076, 0.8086395380877243, 0.07635720155837789, 0.24004845227588079, 0.3970247587723148]\n",
      "[0.9236402282506508, 0.7655760366619121, 0.7898564994044082, 0.5170154643047378, 0.9953361754777384, 0.2502555690108931, 0.14867179492835958, 0.9321585751708404, 0.3376057680812351, 0.25000867816575434]\n",
      "[0.0414770493736617, 0.7866544718349096, 0.395178912598537, 0.5325310249562835, 0.2417948561979274, 0.8176308670663142, 0.4988159589674236, 0.506532569265622, 0.141685076595233, 0.8114045535369461]\n",
      "[0.513322488064071, 0.5628267452608668, 0.5589404762202447, 0.2494857156266933, 0.64640523442763, 0.23003792067800244, 0.5810516311158553, 0.9675580939463471, 0.21778365232001917, 0.8864005091331527]\n",
      "[0.3024387318978202, 0.14506601871372493, 0.09805694524264774, 0.40390203539073555, 0.10017137049351599, 0.14182303939262808, 0.4929961442048809, 0.4716007248229407, 0.5045367702638043, 0.8236311057386778]\n",
      "[0.6584281316068165, 0.620128527485378, 0.7504318230504571, 0.6028101155163507, 0.31216377926250594, 0.728055774387132, 0.8306455286620608, 0.25971155231028764, 0.9035897091782747, 0.9188136086626995]\n",
      "[0.2724180767939106, 0.1731636620466218, 0.531153377730007, 0.13469325286677514, 0.498061963622626, 0.19852427143205054, 0.9003341191424548, 0.5589800731256729, 0.1452290033529392, 0.47784691354055975]\n",
      "[0.7911956723303424, 0.6124168430574776, 0.5807872077847993, 0.43765290436813564, 0.3018742183766835, 0.40701196507967496, 0.2949063595601028, 0.9170426088785429, 0.7527314552437513, 0.7723715670619287]\n",
      "[0.09418386692432623, 0.48335574473496556, 0.9854014786389467, 0.23982770498963346, 0.8581594060027687, 0.36544394321355345, 0.14539411878831932, 0.4617310859600947, 0.9450527605150384, 0.7140559798522024]\n",
      "[0.5322785763224221, 0.12214245058884277, 0.19927320698699158, 0.2549627208410987, 0.9076114165925991, 0.402105123043477, 0.2828814686302282, 0.3297562561606815, 0.4067029458405952, 0.8295816489515984]\n",
      "[0.05195621555616081, 0.6237341427449572, 0.5921504058069978, 0.3651837463188945, 0.09486203388340053, 0.3299522888220213, 0.10813954034846796, 0.3789941021315649, 0.4874008815398372, 0.7215938616657237]\n",
      "[0.08989463579053047, 0.256462942307626, 0.37607277445917797, 0.025656202105990067, 0.2937647138227044, 0.35486016826081623, 0.30690236518514, 0.1081473072152559, 0.5315772817688048, 0.030597631956263305]\n",
      "[0.5895603709415915, 0.8049543320538467, 0.6717237981489952, 0.6863723608662808, 0.5924233476321257, 0.21722249065067667, 0.9930961171603914, 0.47927075300205924, 0.14679646541234814, 0.32736905095422497]\n",
      "[0.6802811429794684, 0.5022609110434235, 0.02597383104109119, 0.04937554739074401, 0.05240739462023514, 0.2625233743346368, 0.4228286085811995, 0.7802424766617452, 0.300882939815476, 0.043855847106146095]\n",
      "[0.3462775484786189, 0.3750495376564489, 0.7675818450731623, 0.3002101443903822, 0.7036247346029091, 0.8652259360925836, 0.41319119000386284, 0.5336287007740601, 0.2167826453529096, 0.25577471529426443]\n",
      "[0.6879523741989039, 0.12506261233154814, 0.3053311603096178, 0.7779773583062601, 0.7907070269149133, 0.012897900628763836, 0.8830105840926249, 0.09928753459060735, 0.4324629253048121, 0.01647176605343359]\n",
      "[0.22831290506060042, 0.533231785234116, 0.42389713920604766, 0.09660739084289327, 0.4208728695009055, 0.44052288667507866, 0.1295832644900604, 0.8933181436844432, 0.068104433719819, 0.8571694642437415]\n",
      "[0.22614450818530896, 0.7088621127606323, 0.23800961257748832, 0.2671574935035751, 0.21156223035465238, 0.9462195431443666, 0.5747054956587583, 0.8583469609927777, 0.41474254811480626, 0.16252496201055067]\n",
      "[0.7596943928784524, 0.47063496513719405, 0.39827903711611, 0.2645747575296431, 0.5977046393599121, 0.7768385394149059, 0.3844690347046201, 0.12347229614227084, 0.8774387479586594, 0.21217848395408645]\n",
      "[0.6684208795014029, 0.7163687199645565, 0.8523656186424973, 0.22086912027120864, 0.8736320176446205, 0.34914803629617597, 0.45125602233501194, 0.19401598225832362, 0.5985687207660428, 0.4917597522311289]\n",
      "[0.6554782150189886, 0.31807976037011276, 0.5132243940990884, 0.25514160454443036, 0.33476710730761305, 0.4805791600130518, 0.027552715284561935, 0.0635251679446901, 0.7474659067873047, 0.33810593888268325]\n",
      "[0.6695969204971389, 0.7289402288888788, 0.344510671715306, 0.8367846906334024, 0.4037615360749325, 0.10831257417636042, 0.24221507290290434, 0.8346909758983043, 0.6193338115362804, 0.7653394707350978]\n",
      "[0.3370776738053951, 0.10264232877647017, 0.015260793082559787, 0.8337096818661751, 0.06963302482392852, 0.5639864586230673, 0.7190569693487652, 0.9705045410528312, 0.4940249132904917, 0.8205301115984583]\n",
      "[0.7306698561017437, 0.31764224207798564, 0.2057052983419001, 0.020693760129616656, 0.8354464981560739, 0.8147828494186429, 0.8911681022124318, 0.8638592273998755, 0.13499361830577772, 0.2105722539460686]\n",
      "[0.19881716518684855, 0.7806432244419174, 0.6614501074589254, 0.830889044065571, 0.15070858884018568, 0.3836157442852507, 0.23912368333413958, 0.1388632827266575, 0.31462851657489854, 0.3067122389791165]\n",
      "[0.8935553618068159, 0.8482597906884779, 0.7865989338581608, 0.36317918689799833, 0.99122909613415, 0.33752194861154317, 0.9733672007327278, 0.5845137108801868, 0.9181512331138513, 0.9107503767981638]\n",
      "[0.407518949750576, 0.4312838165249706, 0.7527733020440244, 0.43600119877412347, 0.8642308701701364, 0.31783013761396894, 0.5021288553795209, 0.07427289335103415, 0.30585838994632664, 0.8037223519395805]\n",
      "[0.09700004751535274, 0.2369336744666095, 0.44765872447867083, 0.896131316859295, 0.3597091749874014, 0.35603291043961394, 0.7895899856691186, 0.020238303037456995, 0.2383296918454354, 0.892898344799611]\n",
      "[0.678342880040515, 0.524808279512241, 0.5002180808870631, 0.4275040529744598, 0.5107865713128519, 0.23739940646766744, 0.7298397674151544, 0.7076737139514887, 0.8178322207069719, 0.08825133635334148]\n",
      "[0.9107656886384453, 0.8045429619960383, 0.3444598504953357, 0.19788802794829163, 0.11635080854233226, 0.025381007852541382, 0.09097419094130388, 0.10025672958856036, 0.29416946122582766, 0.12123917697458586]\n",
      "[0.46770439393387075, 0.039582005911327656, 0.753830903150553, 0.79527152673788, 0.4366250942482369, 0.053732850375786456, 0.5308429083620592, 0.25494280971188454, 0.7115932151933855, 0.8617814228999382]\n",
      "[0.9458861035036252, 0.46464548092395075, 0.7331908111688948, 0.37871352259751945, 0.9033452888682156, 0.6304877938336998, 0.44536794715517347, 0.3870737198467853, 0.4305997010575727, 0.009908112847156203]\n",
      "[0.06194963802455622, 0.42069345007589454, 0.9491145875518607, 0.11829957953263215, 0.48247634104860193, 0.06288527417094614, 0.8655015233418379, 0.9580983933644999, 0.28155812653170265, 0.09795848483792868]\n",
      "[0.7494332788965828, 0.019154494117264664, 0.8562859242082572, 0.30163938669155965, 0.0023351546262749823, 0.1864190965761232, 0.3527325668090191, 0.6545513166178893, 0.21311117978364302, 0.9476082166787151]\n",
      "[0.8680723529619229, 0.15291889899297972, 0.653062154005679, 0.027974515123190047, 0.28102612669977034, 0.14839105310775214, 0.004529416919060281, 0.06098194200005447, 0.64467089511228, 0.9493406417418745]\n",
      "[0.3734958635134601, 0.35735647557081474, 0.8371805062002464, 0.7161573229927085, 0.5247111139598125, 0.03111259216069695, 0.05245623214618045, 0.2242032126664788, 0.5545322386546664, 0.8543842424533376]\n",
      "[0.3528941312608921, 0.3590051113222724, 0.45195680239473, 0.2745330612287814, 0.8000692670430906, 0.38630107417423, 0.21630288827536792, 0.0750670012067357, 0.35478997832592885, 0.17111429707250836]\n",
      "[0.5251332628105505, 0.7579724996821671, 0.5791523853871127, 0.13717116328956303, 0.3745513695614887, 0.7124105207888382, 0.6362922991449868, 0.5055531604680082, 0.824682173134741, 0.8741868266716997]\n",
      "[0.3145332263582492, 0.35073366604520917, 0.3287195422544992, 0.738488004776361, 0.4347928246633247, 0.38034627410305166, 0.233003403886901, 0.1051032457428297, 0.5253167557910713, 0.7879375844999162]\n",
      "[0.34985423732293863, 0.3496231012776879, 0.025334242565945075, 0.9810736502436702, 0.9532542185954241, 0.30962942429405693, 0.5346895614312682, 0.5428554087080846, 0.9277739576258971, 0.9957239124353645]\n",
      "[0.17571867075866754, 0.26597727829507023, 0.9261267143369454, 0.6416966514172335, 0.25243153847099165, 0.5521911001268477, 0.14499870614437282, 0.010186450516120993, 0.3534089287721851, 0.22643411319262186]\n",
      "[0.09428750161559007, 0.17681355108910124, 0.09709421036445587, 0.14376377375506688, 0.7736295125015358, 0.43557019044549516, 0.4591401210313457, 0.9885883066933786, 0.08702268900433352, 0.02215634925615062]\n",
      "[0.9248792346795457, 0.9996952983273424, 0.3176797940888554, 0.07630145927516285, 0.14035300961056218, 0.6044754780908145, 0.4165255280485042, 0.9576994024941793, 0.3879607684583877, 0.6683628278398149]\n",
      "[0.7197459124760335, 0.2973167329649208, 0.31131030925615333, 0.4236519129130687, 0.2983674658973442, 0.2290533185687189, 0.1956157662032536, 0.6954313403214256, 0.6184174249089768, 0.9843633490111178]\n",
      "[0.8306823010515848, 0.18671962026275735, 0.09102106761367146, 0.9042993454599634, 0.2113157531067721, 0.8757726333786281, 0.6423662728473992, 0.8545164769878265, 0.699254516941825, 0.5976852336376135]\n",
      "[0.0013204000107147618, 0.1137879523945442, 0.4946341582139706, 0.7746454651696323, 0.9564389158753571, 0.9099696782968854, 0.008181973960440403, 0.2231631144330255, 0.8983660578645285, 0.30398646098167637]\n",
      "[0.9608825641124764, 0.03399725661046615, 0.5080429470629185, 0.9007573957458032, 0.1449729963244244, 0.25666938545411355, 0.543926698765129, 0.6564483691412001, 0.062497602730616, 0.18690619000926767]\n",
      "[0.2748589910257496, 0.16217792397735054, 0.17903506807228386, 0.7653566184533501, 0.2596705100198766, 0.4376105362756624, 0.941874357720808, 0.9986936410011448, 0.022472470741634054, 0.6836280010053296]\n",
      "[0.8052714786363424, 0.14330705097739416, 0.7042837982799824, 0.7170889466932895, 0.5297624492757486, 0.5086478592516135, 0.3588469731261599, 0.46899688154220787, 0.9082428089377522, 0.5323966252221974]\n",
      "[0.1113462364861122, 0.24249907373209645, 0.2625937706189444, 0.13082427118374995, 0.9590617039736486, 0.16716492679872597, 0.6932518698818292, 0.9570487001105672, 0.9158641034378293, 0.5931735707276473]\n",
      "[0.6950045934054192, 0.42813882885577625, 0.915759183886982, 0.25637691755426684, 0.03185160843106305, 0.9620504534335269, 0.25275279320267363, 0.5354152017967894, 0.3530188733164231, 0.48038747901424683]\n",
      "[0.5268687259915315, 0.7363145243125374, 0.7092491359252349, 0.6621278838112762, 0.8731313618252219, 0.5302219333827088, 0.23906792342741423, 0.2847089951304149, 0.26451189852212864, 0.595787712411706]\n",
      "[0.3690436302331136, 0.21181564209265902, 0.023816882773963766, 0.9467561590340063, 0.8949806649537323, 0.2139071247688903, 0.7307084515978253, 0.10234946259139177, 0.5374465914703527, 0.4943231449249573]\n",
      "[0.04054482287599559, 0.8506657727563166, 0.10178640259625393, 0.6896993098240086, 0.19290479030065133, 0.588148378306052, 0.8471100867979178, 0.6225457468218656, 0.4533820089831828, 0.31717906712207045]\n",
      "[0.7656256776957799, 0.801178079985362, 0.2861191738633897, 0.3360596614328837, 0.10277998214931072, 0.6153326738921611, 0.321168562860068, 0.08719669544788688, 0.2895987626731801, 0.14304873194713996]\n",
      "[0.22113494451975368, 0.19483604575642388, 0.28579691389631057, 0.40099011785598726, 0.31321376733081085, 0.3945782647689543, 0.32688004492305067, 0.18135307935773726, 0.03242199130825041, 0.8148013949133186]\n",
      "[0.6085993225648285, 0.5095435469399568, 0.7749921437363504, 0.3870737289284788, 0.5194541056671779, 0.4338144058177329, 0.7353542182563043, 0.8408545847506864, 0.23849024311208045, 0.08873593783043887]\n",
      "[0.04318047993537821, 0.8299606228613932, 0.9057908679565773, 0.7961475776632763, 0.9011409496144694, 0.9810733201345415, 0.8964848115683233, 0.8575548539503438, 0.22197612461410487, 0.7929933533179248]\n",
      "[0.08013928478984389, 0.4910765113677876, 0.3436223681396807, 0.1204222841435395, 0.6014679339931128, 0.701767519756855, 0.37202262473075665, 0.2851744252927968, 0.44208208099841795, 0.7646406602272743]\n",
      "[0.7556772563507894, 0.5576424277446398, 0.38258613210334147, 0.31138397603470536, 0.7138304788178069, 0.12126095811611015, 0.14328134091885147, 0.09575963711219204, 0.22347410881852559, 0.7115860413124931]\n",
      "[0.7965807782228375, 0.7517783704272789, 0.055131718678190555, 0.4843070253975924, 0.5932795952706874, 0.31592135639853547, 0.4982575138660311, 0.5879017908587447, 0.4429456728747141, 0.052431005953206156]\n",
      "[0.511175196557562, 0.5284364240357549, 0.7830310164455724, 0.5441122218468575, 0.06304291835474762, 0.8651332244476577, 0.22922574294997444, 0.5770857872481271, 0.4401237850744112, 0.2558054969773812]\n",
      "[0.12357824190130862, 0.327804526898944, 0.285574215741107, 0.14344497225771935, 0.4567466128615252, 0.7586987406822719, 0.6318776225580958, 0.5738625433752473, 0.3127393306161341, 0.13528853710804611]\n",
      "[0.28755249912342273, 0.9511731359168185, 0.4446656958502718, 0.05161379042569103, 0.3840865787780009, 0.7820457824612338, 0.2371141578305963, 0.8882999053515988, 0.9628748944569011, 0.8938180385194804]\n",
      "[0.7331427511086707, 0.5466508653291379, 0.961225261995597, 0.7617303670634138, 0.8961111640750502, 0.2796526660418156, 0.5113841423351108, 0.5094824442430176, 0.2398940893900645, 0.557076622585507]\n",
      "[0.9705789102109427, 0.47582531770048087, 0.30449101250866695, 0.9438069964313537, 0.33512868966377096, 0.23194599025451934, 0.2572359776437725, 0.12400925238398641, 0.4786007515957551, 0.6664866937863037]\n",
      "[0.12315375745721213, 0.8786481722031612, 0.37852822734077374, 0.8193109492019072, 0.15967516266126114, 0.4226147350782762, 0.054875940140332036, 0.7289461776627152, 0.15664561490209117, 0.08152181708882056]\n",
      "[0.5441665733411067, 0.9084423625396093, 0.4321567465344811, 0.36030645304950815, 0.5488800619147971, 0.5776521911223887, 0.05622794824067656, 0.6965807710025013, 0.070057335677012, 0.7341108308448653]\n",
      "[0.5143497925492481, 0.3252674274997779, 0.6497017817050077, 0.8488627652846065, 0.9512413671447564, 0.3735814038178077, 0.2295838657505741, 0.263224168388125, 0.37131122208103506, 0.19520495963011486]\n",
      "[0.5838754940483559, 0.036435519452273746, 0.6654689592907875, 0.5148005269295649, 0.3949237175836213, 0.94205714820704, 0.22175369844962434, 0.3063360372043643, 0.029401572228209827, 0.4364396097094835]\n",
      "[0.33386664552556145, 0.6178233611207521, 0.4193342921224713, 0.7547719419655201, 0.029324924358700155, 0.5731426576916469, 0.15958131581795665, 0.9790468513346257, 0.4931409238749268, 0.07758146923944975]\n",
      "[0.4449549521207685, 0.9270041323166833, 0.24402370337095192, 0.6554644810669282, 0.11909628811616468, 0.13202762258360334, 0.903583195106337, 0.7342386820147353, 0.07752067568517307, 0.690418243943875]\n",
      "[0.49760904587542654, 0.29855017203250944, 0.824107378303338, 0.09967518034956435, 0.10865877630322474, 0.3301719521033567, 0.6545448609208344, 0.7205275731781531, 0.23221180247693762, 0.8111828089206985]\n",
      "[0.8071542418497314, 0.14892826560615857, 0.05830173652232751, 0.017878421353617946, 0.5088240679267497, 0.45940357434148194, 0.8408824812087353, 0.7662976173271664, 0.01765339844817071, 0.2742255698090357]\n",
      "[0.1827425655809749, 0.5356920721856339, 0.665070927660627, 0.5229978588975447, 0.0480943517696002, 0.07001518169583187, 0.07689954293282297, 0.6604198737810648, 0.45227739329899663, 0.032495794445171367]\n",
      "[0.12246300631613372, 0.20627675764508668, 0.3499457195647627, 0.868016444710841, 0.20866538461526107, 0.4639509595445037, 0.7832942410536314, 0.1423617285945813, 0.9864019353423299, 0.3922727677291675]\n",
      "[0.19865670728443885, 0.3460018707197372, 0.4351282323917629, 0.8552718543097032, 0.049046640896376115, 0.4943276573471823, 0.8852447099992445, 0.05048758463967584, 0.9784174274905979, 0.025828229254397872]\n",
      "[0.6643423450644534, 0.7071341249212283, 0.47677296203122943, 0.5649915638553762, 0.2332811933245098, 0.7994395425136588, 0.00965097579327645, 0.8224651675555652, 0.8656452777841878, 0.36309927371118345]\n",
      "[0.609799636789408, 0.9137014916849256, 0.4619684168444206, 0.7402448659184647, 0.7272514142182618, 0.12183264910266822, 0.8071298848728318, 0.932043460665171, 0.2333621206473373, 0.9298537240008832]\n",
      "[0.5510474652509558, 0.3807221365975063, 0.8401812516194087, 0.6708120579276818, 0.15279965149166874, 0.08990416082414376, 0.1976500296008472, 0.7435791051698897, 0.64415882017957, 0.25842662917568304]\n",
      "[0.5525085667932804, 0.45911273158607635, 0.1543959038029673, 0.48335605528718995, 0.6020140654656709, 0.5596905157233686, 0.8644952421699814, 0.6887052671699808, 0.8514311052223773, 0.3795715123919118]\n",
      "[0.281999409610996, 0.1603478724732429, 0.16375318739095202, 0.5183847969749769, 0.4128506353646, 0.7236078130667324, 0.8518919421335852, 0.06104107588477159, 0.27181975897439536, 0.5317262254668186]\n",
      "[0.965685967284165, 0.4431971269826406, 0.627631691970702, 0.16811042175992696, 0.9917889395197053, 0.7710840965416428, 0.767135416423227, 0.5287574404141422, 0.034605201828731724, 0.4828026520760972]\n",
      "[0.986765806528488, 0.09124189222566581, 0.4275582915007673, 0.007502386406183725, 0.3314662116519499, 0.46784006896222896, 0.32904675717753584, 0.04678602827842504, 0.2948514048579898, 0.015085403368650274]\n",
      "[0.6622496439723666, 0.2540010261501563, 0.37949320251342467, 0.09579833360364465, 0.713185524116193, 0.01323229493815925, 0.9638659926863189, 0.8717790070618833, 0.40705375289194146, 0.6045730050909072]\n",
      "[0.48432912970745257, 0.08288218557071725, 0.324622610302836, 0.2364551137085058, 0.14328901184147735, 0.512040365912825, 0.8839934164278578, 0.09604134244479101, 0.15236708350775663, 0.9184513059432098]\n",
      "[0.57592200757015, 0.5363910545997191, 0.05141932388766546, 0.736478030719417, 0.9479115057196081, 0.8229151704646345, 0.521450708482981, 0.2719796375565279, 0.04808203464858474, 0.07327214316189967]\n",
      "[0.0892880723450018, 0.962072098337266, 0.26212638756833373, 0.5086329210101169, 0.2739864965727016, 0.29451875183644094, 0.20662914817443923, 0.48846690696725104, 0.8924063735073751, 0.7266585776064818]\n",
      "[0.05279240150839548, 0.5563831758163938, 0.9241416615932547, 0.9809151066626102, 0.2600236219628872, 0.9131783784597542, 0.18408639285087303, 0.40608261716027627, 0.7845817420280868, 0.3776827362916573]\n",
      "[0.6759587432743497, 0.7311810407948524, 0.6432822352169181, 0.6670507472687662, 0.4393114499686177, 0.05492471951642297, 0.19548246178425732, 0.5781040562467933, 0.03533373141146934, 0.40616935505487695]\n",
      "[0.16355911296799708, 0.6044264949660471, 0.8668539122946844, 0.10885329041617675, 0.42440167499226555, 0.11708633387076994, 0.5778709004349459, 0.8055319289147317, 0.3949909942059643, 0.6059177626994279]\n",
      "[0.5536505055051668, 0.6950047831685054, 0.4887755418381353, 0.7741028582585338, 0.998972922236362, 0.837697049806049, 0.062454304981872544, 0.04883415668570101, 0.46241416525520107, 0.722083726753385]\n",
      "[0.8898730611322728, 0.943194965921491, 0.8625807390793694, 0.17380583804793992, 0.2364134213029453, 0.8326210346331933, 0.5491614459740654, 0.6339812698294397, 0.9123147606836187, 0.18151386662908875]\n",
      "[0.7340139306264415, 0.28809591032019133, 0.7639784357369193, 0.39976114924289763, 0.09795703550038104, 0.23539237424025794, 0.4735061416754974, 0.149310096210594, 0.75523071400336, 0.023219626793236303]\n",
      "[0.9792066871705234, 0.43173093024286113, 0.19057638595908732, 0.44996876706162736, 0.7737454899935332, 0.4740636063493959, 0.44116395692881016, 0.44148534924855176, 0.8398114380737475, 0.21366482880713622]\n",
      "[0.06854232701222485, 0.03200273035438117, 0.052703942236617674, 0.8617467843138644, 0.3724456726325145, 0.18492941159648435, 0.5173817355898187, 0.5745722839952334, 0.9501927752709071, 0.924484929223178]\n",
      "[0.6476813795833131, 0.1512856397875244, 0.04286086786388521, 0.49296253509255117, 0.4157390314528472, 0.9056861432548795, 0.3813469486223465, 0.09928392734491043, 0.5340914673761307, 0.6807706117497854]\n",
      "[0.09046525772361724, 0.7604574863182662, 0.6176952200384235, 0.47148088009697076, 0.2686318351154585, 0.7053158097102061, 0.8427675822211382, 0.6669893775012536, 0.18965745744392115, 0.815975983621072]\n",
      "[0.007621546383226985, 0.8602961454726541, 0.09790609643997628, 0.07307567359445966, 0.2975336954700518, 0.33948893578198713, 0.30845781409484385, 0.5958722863094795, 0.5871851582111315, 0.4822946388768137]\n",
      "[0.2924664566897963, 0.8468591358804528, 0.8495211626652244, 0.0735756309348522, 0.5557441173728884, 0.5689470338246143, 0.2957383650290366, 0.508028990541535, 0.9121476402098396, 0.03350898066819863]\n",
      "[0.2565701937374768, 0.8020657377884463, 0.2571682520072104, 0.3576604737932868, 0.4507119178199721, 0.23129630017305025, 0.3676792090395471, 0.7887792203137648, 0.6156244243231047, 0.37034301684379567]\n",
      "[0.3241282892448827, 0.4942108983894995, 0.19099314798407896, 0.03913348767583413, 0.48632048466897815, 0.9464404162592076, 0.0005107491645485185, 0.012097669876811268, 0.042067079706708865, 0.4259244705733015]\n",
      "[0.5678745392561041, 0.04771966236240943, 0.032288329569602925, 0.009027278588020216, 0.7421442689011908, 0.3923341451210963, 0.5131160174300359, 0.9339580783542384, 0.9921456011511604, 0.8984130046145172]\n",
      "[0.6925615428868688, 0.4128903506128675, 0.3283561565973605, 0.27476336544834823, 0.3497677418311137, 0.09090946328697602, 0.1735747164996333, 0.124487663750669, 0.8525131855117984, 0.11304078905796733]\n",
      "[0.7099838379950338, 0.7799862782200445, 0.8755923004180977, 0.18367435536931487, 0.4118985615711994, 0.6572279673652665, 0.3150728441143784, 0.8990157659953039, 0.6410142267261509, 0.8333810895265149]\n",
      "[0.43114073616857174, 0.8543351156362221, 0.4666063640357415, 0.4378032277315612, 0.7602280205577329, 0.7943230082475364, 0.7756768008787116, 0.07299623177246073, 0.939099724351913, 0.8449346298521676]\n",
      "[0.8211473689731098, 0.9727691285913443, 0.9462189668558871, 0.4195252483182216, 0.5024145049489583, 0.4939712682850159, 0.26288109491943346, 0.1859776863961552, 0.09871023673126234, 0.9189531267146814]\n",
      "[0.5314176422801474, 0.6756976018340827, 0.7956695368197958, 0.7495354344060478, 0.9897570298645691, 0.8526198344675876, 0.7669342039001606, 0.6611602989397628, 0.1496372827467144, 0.5858851859748149]\n",
      "[0.31797081713933983, 0.3628733683030675, 0.3250577010489204, 0.8197478817121773, 0.8601876355702762, 0.4430967016013815, 0.4530584516986548, 0.7851817667231089, 0.6979770790798863, 0.1578366662422216]\n",
      "[0.5768709431353514, 0.7720714622756727, 0.26121383118223673, 0.2911862907254126, 0.39481290116254475, 0.701201718801811, 0.6171082021221107, 0.1871982507747919, 0.17099751939711505, 0.3117731183895077]\n",
      "[0.7589271987208398, 0.5449161557930985, 0.9203061788984371, 0.8651784948126241, 0.7961599274369471, 0.05795887712444725, 0.8596312313653723, 0.009565765524259029, 0.7492349969517386, 0.012773798307387563]\n",
      "[0.11972368745562467, 0.22737610814581144, 0.08784736369203616, 0.9563396710606794, 0.009399870229517715, 0.9659671405182603, 0.7256359957042382, 0.01729735349863104, 0.39705752595139365, 0.15785058984952893]\n",
      "[0.9601223200472992, 0.5827502209672929, 0.6385375846080747, 0.8231198861996266, 0.14942039897389103, 0.16480549979454717, 0.6084775601235975, 0.3804440410448482, 0.264494664789348, 0.23104262564197198]\n",
      "[0.08174072431460888, 0.6463355475329725, 0.5193795330072284, 0.6146952521196283, 0.36193753438099696, 0.5350921039878309, 0.15990234499109912, 0.42660592997277147, 0.3224870658714988, 0.29429284228509245]\n",
      "[0.22392748001819618, 0.24311500584257073, 0.3515785006651144, 0.5373880088307663, 0.9048370990839675, 0.6925469594524332, 0.3706734048530498, 0.16906491589098716, 0.5476190447976114, 0.07163251254910064]\n",
      "[0.7488497477577909, 0.4584737171508898, 0.4077605772829256, 0.37851943262183907, 0.5254420223414376, 0.4665814071101293, 0.06576516073326666, 0.1874945663179336, 0.6573254597741333, 0.905080713264726]\n",
      "[0.661766273576619, 0.0012640299725057424, 0.9018468030406962, 0.593411480695909, 0.6325812089147491, 0.1448206727929382, 0.4365869584825962, 0.3052330451391818, 0.720707939734227, 0.953806055579975]\n",
      "[0.8427386579290551, 0.95637463591261, 0.6789202447535244, 0.021508286114047204, 0.07907907681277315, 0.6346671508073614, 0.6195807561987429, 0.5075405613861173, 0.9235599503289398, 0.20898496649270804]\n",
      "[0.37981985570730425, 0.28150067941143975, 0.33403345177958854, 0.17925060277866656, 0.5621517071186303, 0.563960423162548, 0.1510723958460305, 0.01048180760942008, 0.22010613140911683, 0.581520758921189]\n",
      "[0.9502092843925553, 0.12200128711386338, 0.7039581061855572, 0.9765692690649244, 0.12694111059428836, 0.9161847715579063, 0.447132835638293, 0.3555485084831743, 0.9210507317279106, 0.05105930895772359]\n",
      "[0.1728035040388728, 0.746279169265875, 0.3007404383304588, 0.08814558395964389, 0.25428322516000534, 0.39416191541520795, 0.0729606801384215, 0.36330131776440044, 0.5973377201825703, 0.10044804090974302]\n",
      "[0.1768199326490556, 0.3898313012333836, 0.006590086454793864, 0.1377455311632142, 0.0047281273297005155, 0.9410749643023377, 0.7982938246481722, 0.025188256424546362, 0.6159117211640384, 0.43414331284420327]\n",
      "[0.5784963622744657, 0.6132098965541234, 0.39931251142995794, 0.35524654970792613, 0.3262021652075082, 0.9693429291928832, 0.5357177531989772, 0.7385436856023423, 0.03255174552389717, 0.12284086468373168]\n",
      "[0.8008793942112006, 0.6100016015319537, 0.2710643409493706, 0.5008892402246056, 0.03185179311992503, 0.044263694203309556, 0.5543416977505108, 0.7897267721169765, 0.266908249662269, 0.8284258969549817]\n",
      "[0.2121780325420627, 0.3439758533263455, 0.926600296849695, 0.035618033414672956, 0.47140112983564786, 0.9806491917148719, 0.63344005442611, 0.42789581427961076, 0.37849601782765174, 0.5965168656867695]\n",
      "[0.7274519617655811, 0.21837917065933854, 0.8743887341633785, 0.3491468061774785, 0.8706778135549607, 0.5552253009583581, 0.13511243214541624, 0.8565209464118768, 0.7115718568034147, 0.8438131865765948]\n",
      "[0.25588000141445344, 0.7357695961491865, 0.5052294234764294, 0.13154158800369176, 0.7016924159167076, 0.9146069903959786, 0.2778397542042661, 0.9258114056320027, 0.44750020508310606, 0.0798258966249884]\n",
      "[0.9952837405475322, 0.279106729830091, 0.844911861737737, 0.3057093319662192, 0.06977707534585476, 0.4224572774125963, 0.7210956288094919, 0.8621467130319869, 0.9707382414896915, 0.5036690744582714]\n",
      "[0.11348495154749694, 0.585170379927393, 0.8688184297186914, 0.35111997607889733, 0.4521436842356583, 0.6966110619582353, 0.7172046807633444, 0.5541266572279572, 0.8878357738073527, 0.19278868014484007]\n",
      "[0.30592848502866843, 0.5330447862516988, 0.5688650334876282, 0.5618154481218852, 0.28564874364849735, 0.06937722502451538, 0.7568336636715247, 0.39345313516054503, 0.6196186964259447, 0.9262624930057846]\n",
      "[0.9445011478472548, 0.3337605183806671, 0.5540922087948926, 0.4840965195245469, 0.4387862015950692, 0.3439522530377447, 0.8377995706320686, 0.03008107605810184, 0.5219265352466246, 0.5482070797993701]\n",
      "[0.6498963177242935, 0.25561522529734637, 0.9347691846839522, 0.8436071197495985, 0.13759946182875726, 0.2517972865259739, 0.8285360459562746, 0.146432311450849, 0.589765437747788, 0.2803541551316645]\n",
      "[0.4422492355976523, 0.8058165162550744, 0.5586590111004304, 0.22936504088531706, 0.51308674442218, 0.9606492941220821, 0.6880800063708897, 0.9272231532532459, 0.5690680209807447, 0.7689856205290219]\n",
      "[0.7955618921077672, 0.4505666571486684, 0.9231494271873231, 0.5248286336774681, 0.6667910723617222, 0.3500325784616918, 0.7094677682081205, 0.5800173888340997, 0.3643592378912859, 0.9729353056036721]\n",
      "[0.48433780129394655, 0.4837082724683943, 0.6632777973721622, 0.4071947555351305, 0.5354271813929516, 0.8484052073863143, 0.8723039143357677, 0.22020682027283178, 0.019751388471114795, 0.8390879915236894]\n",
      "[0.39312850713584346, 0.553327296571792, 0.43103083051384583, 0.0018991792511012795, 0.94625844366796, 0.734496946144539, 0.34371389778528105, 0.7450948409835587, 0.7987433403028235, 0.5638710156890251]\n",
      "[0.4439446012051983, 0.7277677643131246, 0.8174918256049395, 0.20171815960721506, 0.5704937060315824, 0.5632575342410433, 0.5989795849725439, 0.9743930980247558, 0.3119344527166805, 0.5771260761019937]\n",
      "[0.15644330713100973, 0.42504220524505365, 0.2701428699341638, 0.5002730582589903, 0.2798985599339251, 0.12798583743036418, 0.6912458001868679, 0.7093938305781499, 0.48821324816944056, 0.4239120655028207]\n",
      "[0.8420904631396845, 0.17387847269945422, 0.8287947742241744, 0.46005987473356613, 0.11752813482468927, 0.16042644571571818, 0.6852230549069657, 0.45447428174161364, 0.18341880928057397, 0.7224492719820982]\n",
      "[0.9870626428375172, 0.9827423015034744, 0.9738715359167445, 0.00598346148222173, 0.3675572510128724, 0.2878846392923663, 0.2740645572333784, 0.08506834702527677, 0.7575744606269844, 0.7344471662976026]\n",
      "[0.6839942814077131, 0.8392386147247636, 0.821698031618471, 0.5069689420720292, 0.20059982389096476, 0.4246322884839835, 0.20782665568515102, 0.6330365086253054, 0.8838893936417048, 0.18246802837461606]\n",
      "[0.13533210648994098, 0.13727400471369444, 0.9380424886983938, 0.03416298260731465, 0.42549051954235395, 0.6955501230994326, 0.803691924092616, 0.3904874138702932, 0.7903510118594449, 0.46637703730368196]\n",
      "[0.45284395955368917, 0.8400751143747742, 0.7399042597291148, 0.9082180206899563, 0.6770261055711053, 0.017098053406650604, 0.1272579367521781, 0.454734371972077, 0.18270337853404062, 0.9010779910469336]\n",
      "[0.701780953188937, 0.06638661074592322, 0.0247001584150075, 0.1790284305178228, 0.19051728314892036, 0.6614447334085015, 0.80009319161679, 0.18580613539457413, 0.5114787217176171, 0.5980675810478887]\n",
      "[0.6383727709109777, 0.20642459911582622, 0.07041120743794427, 0.566358608324287, 0.3218983404463126, 0.6266919542817874, 0.9994032832758324, 0.15444255599974122, 0.5186873897515171, 0.7122018963655781]\n",
      "[0.9769739227912686, 0.30170149751276465, 0.20131717329745868, 0.7095449886635626, 0.7825138307489867, 0.6671779070668453, 0.014343924376704842, 0.24188849056915507, 0.3828301618088962, 0.45850968733966024]\n",
      "[0.7718128005547886, 0.12925315037816665, 0.8852692006536539, 0.2637693307469714, 0.3516576880419412, 0.17602939373896065, 0.7842505393815938, 0.03555093714190216, 0.8230389585762949, 0.03621955329799631]\n",
      "[0.6203656588392819, 0.5966326633149631, 0.6798412702763086, 0.2673595930178331, 0.7083476619407493, 0.26182647637721623, 0.10711114191263293, 0.6879711333597177, 0.6270714568486111, 0.7786555474943323]\n",
      "[0.4511320188637584, 0.5439426123438688, 0.5471398602688752, 0.3133319377492051, 0.33180106350282823, 0.367577220887375, 0.05348031334340042, 0.7448411406772603, 0.6165317516162333, 0.872685924154462]\n",
      "[0.8700389210421372, 0.2682518170547812, 0.36436372351940416, 0.14710611813958074, 0.45559119943133153, 0.8408480113900106, 0.9310492747882555, 0.43234529563172186, 0.6568570907090482, 0.45325707107923496]\n",
      "[0.8271571253462482, 0.7226175664581046, 0.4095366491353625, 0.4624884047452088, 0.88776322971838, 0.5452561621848385, 0.7210295454383578, 0.8866058776998763, 0.4922116271196251, 0.905005028122478]\n",
      "[0.7342684107079632, 0.3309090757897081, 0.4034289793004243, 0.3799850960901505, 0.9780707774549542, 0.14826305469845957, 0.7574934895819021, 0.03009770402034173, 0.6092205406683425, 0.7266987031727195]\n",
      "[0.8970237723593555, 0.9055994175036979, 0.3313714846790822, 0.9024752947739728, 0.060652758759475844, 0.16590761795494857, 0.6348519232750053, 0.7969352776372609, 0.5400715784728947, 0.07816742910234276]\n",
      "[0.26460564443079393, 0.440968180469982, 0.8537506539643864, 0.19900465628685682, 0.9487645875738481, 0.4028377221231394, 0.8887659234769401, 0.6146070133223525, 0.5270971873417611, 0.8731387904346964]\n",
      "[0.8807017897061805, 0.3981112845701795, 0.2206704362634765, 0.3543953834576644, 0.04376009059573571, 0.2453116239868417, 0.3869892189840294, 0.2515450017082569, 0.07741491697273961, 0.5067699548670772]\n",
      "[0.20739809323783953, 0.31370710383106515, 0.5333049575406257, 0.3076345504764987, 0.614208454238068, 0.45753608429567194, 0.29048477856765786, 0.006616752605792531, 0.3456184887534255, 0.2862108335668745]\n",
      "[0.5720053091292928, 0.19930685693549877, 0.7899965990082688, 0.17814658393268057, 0.6157106746877611, 0.7889388728313856, 0.017069767335841646, 0.5191186967950524, 0.16322507128696917, 0.39849062423339676]\n",
      "[0.882778643279304, 0.8044573636798822, 0.39970100972622724, 0.929872915324431, 0.07879113967222406, 0.07087932381003437, 0.8674420939954632, 0.02313871654749977, 0.8277051272534078, 0.2541291379128956]\n",
      "[0.2674437321687452, 0.5039407112948989, 0.03738461443169849, 0.45225753091673315, 0.08342411113934245, 0.679097231524247, 0.46352407313818444, 0.6512163732330603, 0.6193918715317733, 0.8325163433747936]\n",
      "[0.1859238868646521, 0.4945468484415224, 0.528977734654159, 0.26957525411278027, 0.8369306432098521, 0.43494281854711103, 0.9024914134470507, 0.4298126030649594, 0.038450602038021864, 0.6619541134958234]\n",
      "[0.6742487387956373, 0.1272832716301564, 0.9066654837390703, 0.8192852145449226, 0.18186024802634648, 0.9768892262845595, 0.4646774834866578, 0.8958381285906374, 0.23507881400292718, 0.8287338495148405]\n",
      "[0.5113841278918965, 0.903488253602628, 0.9587969240442058, 0.5268530337269305, 0.13458420542758853, 0.5927924491220105, 0.8784425097689575, 0.1058710707967313, 0.6899954883651759, 0.35613090535475855]\n",
      "[0.6770867697382087, 0.5939314431836804, 0.9128859417187513, 0.295408288089803, 0.4914787136936316, 0.056875371277068654, 0.7994632473072668, 0.6763192537059555, 0.20476092121115896, 0.7552263286197713]\n",
      "[0.14553103319148686, 0.8825770987186135, 0.47554524338441206, 0.07272595063763887, 0.32507703659670095, 0.8366889951695754, 0.09795038013718871, 0.5228916572492759, 0.38163105832277633, 0.528907837864143]\n",
      "[0.7200647917203717, 0.8324690429917141, 0.6706165152453478, 0.845559715482504, 0.7246826459275026, 0.6269823050603569, 0.5694383763992721, 0.8590758033208298, 0.8860043600510036, 0.6831768803370619]\n",
      "[0.884460581164763, 0.04705256076481523, 0.26009822463855814, 0.15204302945107628, 0.7916650306228468, 0.6870510203664996, 0.05515462623273937, 0.11029470125214025, 0.1967103964963841, 0.02602640150469826]\n",
      "[0.342954500191364, 0.7036935277713601, 0.6491265426271949, 0.7777717991853077, 0.08953792601320887, 0.10622419227016933, 0.5606252915704356, 0.03011091146819156, 0.584702450453198, 0.42508414763221347]\n",
      "[0.7352604510313101, 0.7792390589601964, 0.7746339543169485, 0.01259328979317098, 0.9630982747199163, 0.3473962265241063, 0.15997044714234943, 0.4242332145435197, 0.37148258746977303, 0.33700068928817595]\n",
      "[0.02023226962111735, 0.5048389801564523, 0.712686331947347, 0.021975226691008376, 0.9779297505450103, 0.04809022726168488, 0.9529473010295316, 0.3974493422305151, 0.1662605549973547, 0.8790169336968279]\n",
      "[0.2527844075104809, 0.47523035068159014, 0.9520203382476969, 0.7887743005115561, 0.315394922095913, 0.9264452887163923, 0.08363046702249377, 0.15029967064688177, 0.1423119986412087, 0.5100355734738982]\n",
      "[0.8834189041387644, 0.7110477788626651, 0.7361452959864686, 0.9914384757754575, 0.38329481342848837, 0.3795144892746978, 0.16365682631631662, 0.813911577297863, 0.26658413099258427, 0.7940291984839821]\n",
      "[0.4637481737815754, 0.8194834821879252, 0.45456674733098945, 0.5039847628106958, 0.6626579030278773, 0.48759165528694703, 0.6418501493824513, 0.8717127386460104, 0.6607919930996939, 0.2651140305929125]\n",
      "[0.9790094328132345, 0.3112692161434145, 0.7048315539564515, 0.5099589053671038, 0.25465456539040665, 0.5443165032250742, 0.14913543546959807, 0.4711524215626165, 0.815940266426966, 0.31939769648350735]\n",
      "[0.21209757855888633, 0.7872204456271843, 0.8897993322024054, 0.9243151221309652, 0.8651474191739492, 0.21813352280058218, 0.8353082180296131, 0.5093245503534222, 0.90157547591223, 0.7969734943700493]\n",
      "[0.23806407957789721, 0.6949307028411599, 0.11172405619413794, 0.34640908013612814, 0.7127852573793865, 0.8507151357194003, 0.6322038055921275, 0.2586920865844714, 0.01049480636042699, 0.9455709949073022]\n",
      "[0.022365856575512932, 0.8063688682395894, 0.7787305962875978, 0.6330223753450499, 0.044201323380574586, 0.4611818257438688, 0.03841988564669452, 0.01849388225184867, 0.1238119840202937, 0.9659299093287226]\n",
      "[0.1112614245509097, 0.016253488442461328, 0.3188659981958194, 0.38168839807163746, 0.4312817357515737, 0.3461174637337666, 0.652286665145968, 0.522047080492509, 0.3034014423471293, 0.8000818409853053]\n",
      "[0.44661418149027143, 0.75068682104663, 0.21575655162543017, 0.9357975603416437, 0.6439978980076986, 0.7309327773531272, 0.8331045729097387, 0.510615155335746, 0.007236315095929924, 0.5253186895295425]\n",
      "[0.5074223299145809, 0.5606776621663576, 0.8290429492671195, 0.10215413881498092, 0.049894080876453195, 0.18075939856842949, 0.7935575445524569, 0.7005582200583251, 0.2683942716475547, 0.038182010484039686]\n",
      "[0.5163240769667141, 0.05482622691769101, 0.2917470521543595, 0.9452956582042942, 0.8919570138658903, 0.5142979663423048, 0.26186883767382685, 0.3353593640885403, 0.5799561862118204, 0.35412819503911597]\n",
      "[0.3359340428201498, 0.37210659835216575, 0.6502582115934846, 0.40628356739232185, 0.672223909345822, 0.17263564785805718, 0.8841399551934777, 0.8107004453927885, 0.888832091603239, 0.11200318266620335]\n",
      "[0.9895311784459048, 0.7515009265543431, 0.6328563858938014, 0.869144678165316, 0.6148644115918169, 0.2276632935807713, 0.6198812441441662, 0.423960785260299, 0.015984763792569523, 0.09723649562067882]\n",
      "[0.10496362251673186, 0.2777831913271943, 0.0674962345445328, 0.2862379677950795, 0.2046073131724544, 0.7502330148201825, 0.08407248578763005, 0.13644051475081231, 0.8451411364662633, 0.206176173757333]\n",
      "[0.9952840088077002, 0.03442351043488956, 0.6422857221585899, 0.7511436032452509, 0.2559765477427072, 0.21762208008149697, 0.4140708872457344, 0.11123428690226211, 0.9932456404396305, 0.806295370111348]\n",
      "[0.04899598487950896, 0.22617455866837, 0.7897297229057536, 0.2977086807939924, 0.019063122197784832, 0.7970168435947633, 0.13028232465783995, 0.45808433702676965, 0.7947127540169946, 0.6430755928139424]\n",
      "[0.9952780317634672, 0.6620284463507053, 0.28008597980192196, 0.030264134069321713, 0.6579491460613033, 0.9194192820731574, 0.9313475278269642, 0.15486292259793533, 0.6616582095543942, 0.6983830321691351]\n",
      "[0.2097519948057054, 0.7878279733490329, 0.4787555433389328, 0.16720355644910945, 0.9288422563390987, 0.6756266188624085, 0.9478849713016474, 0.7911777002484778, 0.281005316306411, 0.27757258647543626]\n",
      "[0.47665079421820356, 0.05397373123938498, 0.6810896385659422, 0.011033785307549171, 0.7036532123622039, 0.9539878672809557, 0.4311965242161483, 0.023640571399368038, 0.26942397524316697, 0.10229700509252138]\n",
      "[0.19533840913532963, 0.38916847313635794, 0.8896456129654093, 0.3306706887217984, 0.09979372550700372, 0.09976059508733615, 0.5348426231154619, 0.4131857840413501, 0.6532650441651612, 0.6171545157318258]\n",
      "[0.2484024336957521, 0.7930956300100788, 0.7648039782991792, 0.4838636366062158, 0.4636716602621953, 0.8839996347611737, 0.5619058866777923, 0.514250801223075, 0.6295123418698064, 0.4821530375723564]\n",
      "[0.7713977712882504, 0.07319948095880735, 0.6641710449491989, 0.3498695516027829, 0.42272100716852756, 0.45184060974748075, 0.2948093319388412, 0.322186278101106, 0.039444741501754144, 0.7793303523224164]\n",
      "[0.22877835003922786, 0.813309103218517, 0.0797397540502448, 0.17338042734828274, 0.14686750915060043, 0.6125591382145924, 0.19344657205839133, 0.5008131796927362, 0.8512372868239897, 0.860976315397406]\n",
      "[0.9670029317425662, 0.8154238896139655, 0.9630734623948757, 0.013670231238952724, 0.28820570281941615, 0.5594028496646088, 0.10675725067762754, 0.779715515636964, 0.5669935867567105, 0.2575069079548683]\n",
      "[0.7562781393765547, 0.05638846948236287, 0.18111950349300077, 0.5832313086582087, 0.8678049813654566, 0.02639175003287375, 0.2660136451959145, 0.4724444260250753, 0.19360264871983957, 0.22129879867022584]\n",
      "[0.06965496042451313, 0.3806596046472185, 0.033624623042281865, 0.08853433616957396, 0.4177210088196279, 0.018864606962749497, 0.3056518405359905, 0.7192486467604338, 0.047288598503460455, 0.6641782836745841]\n",
      "[0.532320885754818, 0.2713984780741291, 0.7981582036919374, 0.12521822038342, 0.1493023089154497, 0.5697332496440973, 0.5335724635194595, 0.06591641159675243, 0.11639551848538121, 0.8716927896800111]\n",
      "[0.7190113197622091, 0.9965392887282168, 0.07150407383337176, 0.5661080061192482, 0.9331742033766893, 0.592701106469841, 0.005090768376718624, 0.38791881508779325, 0.5797000012048937, 0.19398418388164962]\n",
      "[0.5326644754970218, 0.2866425826430604, 0.5528861758532201, 0.7444202689516097, 0.1578918952534446, 0.13165763513090312, 0.930254455883513, 0.7415437167080631, 0.014163720154055315, 0.2533182299566715]\n",
      "[0.8618794341695295, 0.12189157758676972, 0.1809004605676915, 0.9951248991306965, 0.2864291391507001, 0.43503173683530694, 0.4899316516789416, 0.3582734805252763, 0.9760152058107383, 0.66726666247025]\n",
      "[0.8301940815691313, 0.8397169212723945, 0.5045688410760195, 0.9071789632954024, 0.5591102864973829, 0.7383127508839904, 0.8064728316518835, 0.010060704108336593, 0.5194508665982263, 0.7473894314478057]\n",
      "[0.21130997375247795, 0.41833545983656795, 0.583809280014477, 0.4270694383633614, 0.7701828580864125, 0.7739132497008546, 0.5408444701712367, 0.6921031891893359, 0.23874689586254694, 0.7908071953597019]\n",
      "[0.17379889857069408, 0.47007203478640647, 0.18046515185544465, 0.138712426965523, 0.8809542755244137, 0.6978440245122438, 0.644888499049431, 0.40193112562466415, 0.9284257885732846, 0.22380043802447314]\n",
      "[0.3905151913106558, 0.6847777243744736, 0.7340763107365158, 0.08337889988896918, 0.49971469301712823, 0.0982676539919125, 0.7227358009129925, 0.7788087598693569, 0.5559715896489134, 0.3336484494534504]\n",
      "[0.023450637331206337, 0.45935980987728153, 0.42142542613576317, 0.6934453074074303, 0.34200979892207306, 0.12181402899733995, 0.7267590696236118, 0.6291781287894505, 0.9007291248292655, 0.5728466495605999]\n",
      "[0.4851959679647698, 0.18480540287429215, 0.32385087271495727, 0.816752909734785, 0.13943005189105018, 0.06198957731078314, 0.6028054414041765, 0.6909131899632815, 0.7020955945452734, 0.5121145220251508]\n",
      "[0.8552716493994303, 0.9602304940491835, 0.5435151829685101, 0.8647592144856934, 0.6304562957696299, 0.15058859419767878, 0.034302372577181606, 0.1505611794988544, 0.36020995768977204, 0.2868935952216637]\n",
      "[0.4077667531033925, 0.2555179944497029, 0.3129496184449273, 0.022675247889386796, 0.2698639930669272, 0.03617745679272988, 0.1755227312599541, 0.19520068135436308, 0.4295151795863702, 0.1801671478506578]\n",
      "[0.23488267447645006, 0.34706843979457247, 0.9522700550799869, 0.5502237071389168, 0.8799126146740076, 0.40919633594495086, 0.25476262797446925, 0.541720386940817, 0.9416642672577252, 0.6889537800619334]\n",
      "[0.06318502732138132, 0.883954116405403, 0.3741992918607244, 0.04941588975668931, 0.9727761006360717, 0.27018514720422837, 0.4541323087799851, 0.7217584794931993, 0.9798361950472095, 0.5716501559220057]\n",
      "[0.13962867014522462, 0.30129253720272064, 0.11648304430488454, 0.7449777853190945, 0.6419927278756438, 0.7828766819061828, 0.8524381662462742, 0.4213296438623473, 0.8941173315055425, 0.057544154582590545]\n",
      "[0.8636262385235107, 0.17543181151601706, 0.2748341891770393, 0.5230714106676535, 0.32237232439290364, 0.16228469112128352, 0.24251722734522796, 0.26125525582026543, 0.6039816428359153, 0.005132611610103588]\n",
      "[0.042147687365198694, 0.8318395483294523, 0.12370969900765605, 0.5475279924602885, 0.44411248870282916, 0.16820409853666085, 0.18833593833024975, 0.18125829080262157, 0.6582663945724223, 0.8634091090828259]\n",
      "[0.5382088711129951, 0.1343588370469635, 0.09381930203575484, 0.7260151985885072, 0.87274842731645, 0.549330680621891, 0.8926161268325877, 0.8423848682186347, 0.39451276769144417, 0.08647879753945187]\n",
      "[0.7248354689488273, 0.3205722576912525, 0.668001784809936, 0.6675638665806716, 0.8086495303591771, 0.6739833002885913, 0.902764529215771, 0.9742682780079268, 0.9649339736177416, 0.48386516176593575]\n",
      "[0.6240250258985638, 0.46268756218523865, 0.4938185565723394, 0.5628399621710729, 0.29630237369181156, 0.3575344958151221, 0.8960732685017154, 0.9139690704300065, 0.7042159997592938, 0.45535972026640137]\n",
      "[0.976592921171037, 0.909339871296532, 0.5539622791172759, 0.7954040482937631, 0.48756424533616394, 0.9144356533089381, 0.940828740544495, 0.9464027250691365, 0.6451849661204835, 0.036771423138594495]\n",
      "[0.20657715978251956, 0.14294022358528513, 0.9716141824040518, 0.11561999598055683, 0.30230201541667767, 0.514964865236218, 0.6167120033302149, 0.03197643550725959, 0.49304215908588855, 0.5357909314147936]\n",
      "[0.1548945970933635, 0.6670629803957111, 0.5702976262023539, 0.9757137162571189, 0.02971358968358928, 0.3080244526441954, 0.8249554897771475, 0.7044350132632997, 0.835128542723167, 0.756913187862603]\n",
      "[0.9217689993954382, 0.7321215234676454, 0.3639514521816777, 0.43501942892074597, 0.7726817608219155, 0.5101075788216322, 0.4601729043940366, 0.5600378609645622, 0.7279671174629754, 0.2163195644671786]\n",
      "[0.8743839206638298, 0.15549813862581652, 0.6349805971596587, 0.04269974272315191, 0.8852679221981217, 0.041651826422449245, 0.24322832329201083, 0.04089622007305249, 0.095835651764685, 0.2703664949604583]\n",
      "[0.38880394017728714, 0.4140676083526602, 0.5606430573552337, 0.04649890938242118, 0.739655890000492, 0.5699735829706076, 0.5331051215034397, 0.8613813926144311, 0.571616462213739, 0.10280368727837974]\n",
      "[0.3781538738835467, 0.3355023062274478, 0.5454052040639694, 0.7365946139387509, 0.9336777118792183, 0.08166257088011886, 0.4770001692546034, 0.5599910747213485, 0.13386979296125212, 0.7448012292667191]\n",
      "[0.9738613409917101, 0.24075096014865283, 0.2750682483834047, 0.9834195616527981, 0.6281674345543355, 0.31402340631768877, 0.777959588311421, 0.1367437240010656, 0.01008641408273514, 0.47097258074949433]\n",
      "[0.8595682936017216, 0.01749813736604333, 0.2319488288206214, 0.7760061705111172, 0.13168509879645285, 0.8793887041856473, 0.07132828959994475, 0.11254222076003118, 0.3199677909995442, 0.40308521462393954]\n",
      "[0.8383827763150267, 0.030193102997491783, 0.8646237262231311, 0.4109292088373834, 0.3174063699018862, 0.1155169172208016, 0.8266209509471407, 0.0796465994218899, 0.24827410113153747, 0.3693763761244755]\n",
      "[0.6895861339905482, 0.6843560129511426, 0.3618222905370104, 0.894184338585601, 0.4037067905216625, 0.5896293340525227, 0.1121775096267622, 0.49886505275372095, 0.21993675834091886, 0.6356649986405084]\n",
      "[0.7317642442288586, 0.3938981288500215, 0.30832338782315893, 0.4497648072373588, 0.4980982185464701, 0.3548544907757968, 0.7249281829168527, 0.6507431954041818, 0.10767445278010279, 0.5744011278764326]\n",
      "[0.0754477383937171, 0.8780231326006084, 0.5673686029535946, 0.23930007727842517, 0.8673762760717311, 0.9525090920807501, 0.7779839487760992, 0.42033532614274083, 0.3688992593183036, 0.7143477526432016]\n",
      "[0.19952211835950417, 0.8236646487354938, 0.4280747118075505, 0.20799916967920262, 0.9806213925709751, 0.3237259527145274, 0.5546867575234925, 0.17540418733098706, 0.23608803805296186, 0.36003844629850934]\n",
      "[0.7524700440356722, 0.20405588526389185, 0.2037568841324321, 0.26619898148737875, 0.946641618380205, 0.8485725971764924, 0.13156096687490537, 0.23029298455098512, 0.6479636498589885, 0.6225822935609286]\n",
      "[0.5190324908349487, 0.441495303614135, 0.9225708486194542, 0.9347476012050258, 0.36869563857085363, 0.15798424171492664, 0.9805080649810998, 0.5634454007961126, 0.585993980114699, 0.9740972284082131]\n",
      "[0.7599966682021633, 0.8627519872881908, 0.8087913087400239, 0.35690745586358774, 0.5945110116788227, 0.007725173496571869, 0.2897507034564437, 0.40069971545589245, 0.6481172726624898, 0.4391706904209981]\n",
      "[0.23412609844966337, 0.9425138439126555, 0.08581721948132914, 0.11137379710142459, 0.481011889012961, 0.6347509848731544, 0.6138877395549189, 0.09962643898153334, 0.7021499801209423, 0.32634136448153594]\n",
      "[0.8136742290029114, 0.11022221095032214, 0.08490643057833847, 0.9746203710159356, 0.9154865286884484, 0.5793807177527263, 0.585433697749093, 0.6955107180545007, 0.23817656334770831, 0.7676867493268301]\n",
      "[0.9777486447940338, 0.5709610010774154, 0.8017797492450831, 0.7275377788736719, 0.36693412163407246, 0.10050152056607409, 0.5997054201033629, 0.44657402841731686, 0.3743223059339956, 0.9291269234638233]\n",
      "[0.4103941205864602, 0.9632864532945425, 0.37529107170764153, 0.9417478991336183, 0.4924416849385933, 0.622887508196508, 0.5032882547660253, 0.8924942046874418, 0.13772452866792895, 0.6430180778050174]\n",
      "[0.342203098299685, 0.8864028135810952, 0.9379369629487194, 0.5535190498839067, 0.9359626777722977, 0.9385047352610627, 0.6285656712777808, 0.7657852845133721, 0.5037134872715544, 0.8165717361790096]\n",
      "[0.794986614327989, 0.1416148513607468, 0.4390985613971595, 0.9984508837232104, 0.5946455945908935, 0.4109335301371809, 0.044866471209133785, 0.22862857197632624, 0.6033248684457726, 0.782574805363111]\n",
      "[0.4380487742360525, 0.8089591740286945, 0.9607502746438942, 0.8086751548461811, 0.8887174017448425, 0.5986066169148913, 0.5605040431083921, 0.9642194715833216, 0.04650370889749922, 0.8222221972529987]\n",
      "[0.7656480375627949, 0.4249997039943906, 0.11580726899805349, 0.16725040039266192, 0.04395303620982016, 0.22321545804907994, 0.23421374319575838, 0.36584807906318983, 0.48286229262334734, 0.160784957305524]\n",
      "[0.3693479438821091, 0.20294955708824602, 0.5724002929769566, 0.5795076135582458, 0.045494080381164426, 0.002668239103529535, 0.7560342132693982, 0.03162930699862887, 0.6872834375512924, 0.5372465573189779]\n",
      "[0.2592326444693691, 0.24794185221806297, 0.1455006828182459, 0.49118051804760243, 0.7294764535162528, 0.18816860799847734, 0.5668448229870676, 0.7181143087664006, 0.7719769443107105, 0.5655464670811584]\n",
      "[0.1817261037911948, 0.6525177341234812, 0.5652596320684073, 0.3216104161519986, 0.7696382704141543, 0.3999398839520226, 0.707139920505343, 0.7128328995747105, 0.3923104331864963, 0.8185150030179251]\n",
      "[0.044023351156239454, 0.9811951183304374, 0.0466610225816354, 0.9727117522846586, 0.3063520847870037, 0.3481008697130378, 0.6238922848486247, 0.37718624294433967, 0.5052266446894009, 0.41725777792703134]\n",
      "[0.29055612851396295, 0.9559309396682957, 0.07277356395600387, 0.9434415408214653, 0.3994876517820486, 0.4030306150326316, 0.8129876751337095, 0.27746296383414626, 0.470322963688519, 0.4644542501597613]\n",
      "[0.21009729093709728, 0.33793223656077753, 0.002235381339198872, 0.9790184094541055, 0.7322382576857304, 0.4715835425075021, 0.05741930555871788, 0.08384262382269125, 0.4339870489295298, 0.688596847387309]\n",
      "[0.28553140517953113, 0.11264464131929086, 0.14645215344237228, 0.6909786156632147, 0.2065993506373034, 0.733183428662665, 0.2526930871310087, 0.14404529745247074, 0.3653558815211626, 0.8210703539384644]\n",
      "[0.813355927049834, 0.738161807610705, 0.24331600583391422, 0.3355212244772252, 0.5057102114907442, 0.2601603391238081, 0.8009767094106389, 0.7729488310798937, 0.5460000745095674, 0.43729846390125704]\n",
      "[0.09168189761642265, 0.7871050469487109, 0.6102276981999787, 0.14739421487688498, 0.48901496717136284, 0.37476662589468024, 0.21600235686557, 0.9499823263842725, 0.7179468149326439, 0.9498838239235385]\n",
      "[0.9765053146027312, 0.9112023534286647, 0.6790874797293374, 0.5586526846117982, 0.7811897812850018, 0.31632566549921004, 0.6062542411794901, 0.9734584093627768, 0.21805381556765602, 0.9940178872861304]\n",
      "[0.46726716156163095, 0.9147324560234736, 0.8387179587851179, 0.22716897072957187, 0.23589934141429925, 0.39242334636030696, 0.29105629223766216, 0.20199109808291305, 0.25097190669797287, 0.20126809240301258]\n",
      "[0.8232942651894067, 0.25687264703220936, 0.7806466141817374, 0.6168119922521643, 0.9987205700657505, 0.8562914685039319, 0.3464504785719089, 0.3095869284749302, 0.4197562808625118, 0.5428126787932345]\n",
      "[0.35247773599168397, 0.5994292769025661, 0.7329494641679766, 0.6063852177652626, 0.7225655760803421, 0.4287720523365177, 0.4356950688464162, 0.4168877156221934, 0.8644689454692972, 0.5592641484793222]\n",
      "[0.2704979263354764, 0.7546804357523598, 0.15708526833724112, 0.302503896401071, 0.9907443732833868, 0.7962957392687627, 0.46806705624909706, 0.4413046555194504, 0.4279918017525238, 0.9376643496160819]\n",
      "[0.9202148584729316, 0.6315861247851968, 0.13907838028115516, 0.23087988022157135, 0.2800701172390806, 0.38313380619905535, 0.24012907996534982, 0.5602819566503828, 0.961613791005235, 0.12827382895748574]\n",
      "[0.5229241225136989, 0.8609528772680911, 0.16771762541936208, 0.904547741031497, 0.4667907601268012, 0.7034817448257183, 0.4750733010778655, 0.274926843017019, 0.8266656964546739, 0.9676369107063373]\n",
      "[0.008500217604285765, 0.19668218747224653, 0.036493445523421375, 0.01643679805791931, 0.5391633439293141, 0.8592940937241187, 0.6853348265559955, 0.02441751340910947, 0.004527003265227814, 0.17341761496345232]\n",
      "[0.7644058623638919, 0.009241200598071542, 0.5154709141753934, 0.2863031152044443, 0.8168915619990009, 0.8800428966208886, 0.5402758821376182, 0.7269979744287366, 0.5844479497193773, 0.6715461883944134]\n",
      "[0.09686561946234351, 0.6147284228917542, 0.04434159541109217, 0.34241294365483654, 0.5777098431472761, 0.44652750254763074, 0.7246950583913053, 0.2834729435368595, 0.5864486731475477, 0.6047113546072356]\n",
      "[0.02815894983222178, 0.28605464027716887, 0.5697196550668698, 0.9163335048007957, 0.4227238892741839, 0.3807733872797381, 0.15741168499647618, 0.3891737655150145, 0.5715406299899569, 0.045471394729880044]\n",
      "[0.8919497505996807, 0.4740084349810376, 0.5832307153178609, 0.5914871342304476, 0.8382690748189374, 0.004331400615336767, 0.0745250646404777, 0.46050899399233636, 0.047868664985450615, 0.36209162253968874]\n",
      "[0.6642284553284288, 0.10462190845938946, 0.512084434925437, 0.8720061991302261, 0.32029914514279056, 0.6642085613577933, 0.17023735664711637, 0.4576661709967178, 0.842006637849031, 0.9408133588404571]\n",
      "[0.8503894523600961, 0.7423672527401974, 0.9488097987670724, 0.34817011533144404, 0.573876868180033, 0.4576485559386797, 0.42667989647354043, 0.06772471061475593, 0.23205626400090495, 0.25994281725461554]\n",
      "[0.8699376326220507, 0.9891482484106502, 0.14315540410419314, 0.4293786355570446, 0.6975259082206293, 0.4017259194362762, 0.9134496044047904, 0.19441225739453682, 0.34436772093116375, 0.10055314722536901]\n",
      "[0.35418319076095495, 0.5959047247461413, 0.6158877583875153, 0.7875753060231709, 0.25353652599356247, 0.6626320359043414, 0.5473386326712015, 0.371019136665261, 0.25849987462923074, 0.3378971393770299]\n",
      "[0.47958102119837054, 0.3781268515273154, 0.11913797546272942, 0.8867752114233742, 0.7061126340823233, 0.6826932072911895, 0.8797548606380241, 0.40082023707375447, 0.768525680927411, 0.2538262569154842]\n",
      "[0.6747059075660341, 0.4123665963110539, 0.26380898349407955, 0.10364450963341809, 0.0018696934943266408, 0.958846181449488, 0.045692982192213294, 0.8398612175202086, 0.9628767335179322, 0.4921618515723346]\n",
      "[0.041174376820067415, 0.31959845061547254, 0.37037192135588215, 0.2508330484589619, 0.10561641749282524, 0.38278571790538785, 0.6776836951206827, 0.08393955274394982, 0.326429350726822, 0.49818762847848674]\n",
      "[0.06892525243536407, 0.4439487864966083, 0.050733432108676646, 0.18985132059490728, 0.5853152728561599, 0.17321851283279333, 0.6228942294214473, 0.2844460474257351, 0.9266142589991737, 0.3287765876783144]\n",
      "[0.44467063420564035, 0.7189428663922951, 0.5052018910598418, 0.9556550195610942, 0.32136423634215605, 0.10393912940092831, 0.530226438395687, 0.03222446769762888, 0.8048507501967518, 0.31019191901881826]\n",
      "[0.713033286566038, 0.38739328855129207, 0.6465438981387018, 0.08179258873798156, 0.404447980228574, 0.4089005304641923, 0.3249003274937511, 0.31497220736659415, 0.7071929301159526, 0.6459418461885542]\n",
      "[0.8113213867342163, 0.3343379035745705, 0.7018680947717671, 0.19417576080754184, 0.9907488413977761, 0.01682005969253264, 0.34372094132326536, 0.42787222733101393, 0.9268708500927619, 0.2706719740390936]\n",
      "[0.02688471685925875, 0.5001287876095177, 0.3188393177683947, 0.6987930544770813, 0.937123300519414, 0.5484475225419316, 0.44552260435833413, 0.3092788805893929, 0.39174805118763545, 0.9315457773478418]\n",
      "[0.21659879054573306, 0.4209183897985669, 0.4702548949530825, 0.9155670765224299, 0.3132628946420969, 0.33483343190987647, 0.23190504616826602, 0.32214814772087597, 0.26554870423781574, 0.5584654839762557]\n",
      "[0.3854773200099787, 0.680927257268894, 0.8262474395559855, 0.11423769066811673, 0.4625600346852705, 0.5575890988883975, 0.27718289257279405, 0.789422613767181, 0.0053964119395367716, 0.000171290069218899]\n",
      "[0.022069054880826777, 0.5969183949257996, 0.630179795855392, 0.4375351283077539, 0.5559243386720344, 0.8676236816675954, 0.9955092739063747, 0.2806929052814432, 0.35772472892020024, 0.593825132682172]\n",
      "[0.9831075273141524, 0.8282596613660849, 0.6980814261657451, 0.22287183296549706, 0.88198210698661, 0.5208371632126438, 0.9367714323167879, 0.8504514788920812, 0.2726908479927881, 0.16891771587584437]\n",
      "[0.11140213700138546, 0.19451830656435676, 0.38884745739288007, 0.23208905340928687, 0.2629134961186247, 0.7131127354134444, 0.6177995639274821, 0.1486583804811955, 0.320816820620061, 0.6059527081930681]\n",
      "[0.20226374459571994, 0.9691777578471786, 0.05785187027720573, 0.37063925129671405, 0.03177106605383351, 0.8698028693508888, 0.8197266990751202, 0.6539727870442499, 0.6168068277091576, 0.8383932821850182]\n",
      "[0.5400647820902214, 0.4876698661661897, 0.07670805914114986, 0.8143043803979542, 0.5617208195438844, 0.27059141987697344, 0.9678752763385183, 0.9717426262708999, 0.04351925607760132, 0.3905003511490801]\n",
      "[0.18756287471020783, 0.23021043072972724, 0.5526995144927258, 0.7500318787726546, 0.2791044916931221, 0.6130304488305216, 0.4420441968394009, 0.5873609699758306, 0.8385932900987797, 0.5576209678649987]\n",
      "[0.3410565954603123, 0.9893387436106248, 0.7547982169375075, 0.6027743304766782, 0.7818623091623931, 0.7082605497641065, 0.6216448087181238, 0.2617541435129672, 0.520720176920767, 0.43752086708194715]\n",
      "[0.9890301714363111, 0.2683003508853471, 0.5962808931100381, 0.8794883921030479, 0.7979945164885126, 0.1212735704806418, 0.13407233516906003, 0.6501098376674886, 0.8204843991317706, 0.06545768381465011]\n",
      "[0.22406873309587527, 0.8439294737871798, 0.762091481057947, 0.05121865950526849, 0.14571226843008434, 0.17442587933620457, 0.9041479410525255, 0.3135673543567836, 0.813725024703308, 0.4551115390509701]\n",
      "[0.9410308622534761, 0.6125983596975486, 0.4763359236155097, 0.4524097202089754, 0.10029201618012884, 0.4508398924700232, 0.8965398000370991, 0.2959800664430081, 0.14387305540554707, 0.9822188733756827]\n",
      "[0.8538618821352663, 0.1658093239255798, 0.6187509144799171, 0.17424050441218153, 0.6473600006630634, 0.8617561820918551, 0.9324787476063098, 0.6695664470618181, 0.7990209687514358, 0.543930842658362]\n",
      "[0.8987902125058358, 0.947639571646868, 0.9488760661162203, 0.13874708146405312, 0.8065305435741043, 0.16522994149825654, 0.3092797787908034, 0.6094039153781209, 0.03132544453312269, 0.44568487770496323]\n",
      "[0.5196641918133735, 0.4253675729996863, 0.34932635237300413, 0.2188898053788998, 0.3033749073863704, 0.6161217423154497, 0.38162156962816207, 0.4587113327290899, 0.2544061006186106, 0.31598507229114303]\n",
      "[0.07845511030448293, 0.5465042556079338, 0.3699743779997555, 0.5447445261772587, 0.98675900044052, 0.3010044330343783, 0.6682778448054647, 0.7912343372734185, 0.029837036114027993, 0.009637689210396094]\n",
      "[0.7003937308701378, 0.9166720074141883, 0.41860142173276493, 0.3257056142560647, 0.9165569151602914, 0.7989395778432514, 0.4142798234042602, 0.30927859139494573, 0.8984906884568846, 0.7927474481119673]\n",
      "[0.8365159300737703, 0.03382036546022216, 0.6343538393638545, 0.6493009929861879, 0.5051807491931842, 0.1953474584639946, 0.9271129387358084, 0.3318460283481631, 0.7365754432925259, 0.4231631403443272]\n",
      "[0.44453883954592843, 0.2729547068620073, 0.6518621107188662, 0.5646175408222146, 0.2910716920605365, 0.6257402960532177, 0.6520940533156349, 0.6554534282131584, 0.040681240108598526, 0.8795101877377631]\n",
      "[0.7232171710148295, 0.9688324477142064, 0.7672861855240026, 0.3255132136419977, 0.9927615223303785, 0.6929223968221224, 0.18397541136692042, 0.36794695134568123, 0.5557555660685968, 0.766578910318217]\n",
      "[0.5509991232903265, 0.7835105612153721, 0.7338258288412608, 0.6408403322218774, 0.3409124356404364, 0.8114235632122171, 0.6074354649781126, 0.8902506393080274, 0.09535209713020154, 0.7845191512347298]\n",
      "[0.9821968073981145, 0.9139553829822263, 0.19566443284198642, 0.8471650424295798, 0.08647454909184837, 0.5948204816479515, 0.6968360119459758, 0.37690802271581436, 0.5643029965508889, 0.3462717637676478]\n",
      "[0.5175938866109934, 0.2042410401262268, 0.2776437343496455, 0.6210836884384828, 0.17628580993618415, 0.10204743238607727, 0.4199275424728295, 0.24256553612153664, 0.25369299569706383, 0.249589997588466]\n",
      "[0.7392419341610477, 0.07133359469664258, 0.2301898859912358, 0.18463946369608375, 0.03967208097060415, 0.1613378165256777, 0.476720107019613, 0.5888868814514854, 0.0971428782078323, 0.8159324951902986]\n",
      "[0.7509633523251003, 0.678662215585864, 0.3101200873728841, 0.642135027537118, 0.6040673648071195, 0.9568634101078545, 0.8493622682292741, 0.48930172221922386, 0.09971521888336687, 0.5297651404930617]\n",
      "[0.5081370083728631, 0.5706544971174473, 0.1913959070709449, 0.2710646592337075, 0.00023645863295340686, 0.2703051778431811, 0.1694836612370867, 0.42023222011762673, 0.9903866437413102, 0.9247982914258925]\n",
      "[0.34423907968589684, 0.6142197493052323, 0.24483196825653908, 0.7332079296964069, 0.08485681014366542, 0.9356385175266867, 0.6187942035543087, 0.0692594770941729, 0.793540664177476, 0.13340934513177627]\n",
      "[0.242605558060619, 0.38136481804157374, 0.05068333521562174, 0.001541854060056247, 0.9222171492556982, 0.6531846651739043, 0.40992081727722784, 0.6054928569270518, 0.7948999647011713, 0.33592834800016014]\n",
      "[0.7545892117400116, 0.7228612227831757, 0.34578103611994715, 0.7871314970879272, 0.7616481937260786, 0.17884908857910875, 0.6467782877867104, 0.8697365552360208, 0.8913950436903476, 0.47275046805142007]\n",
      "[0.011209841320238723, 0.32785660046178877, 0.21764282154638903, 0.012358169039913935, 0.7661881203510325, 0.8274346504202409, 0.6996093760979212, 0.10539896436499119, 0.5277529220581296, 0.8873777654448087]\n",
      "[0.83938886363546, 0.7874131659447889, 0.4752812823967023, 0.758449094464517, 0.5437671050902332, 0.6158446224617392, 0.29439648820003017, 0.42382865100084033, 0.3281337573066895, 0.9475329024537532]\n",
      "[0.012281371271411934, 0.770851022926109, 0.6783480569813338, 0.6635698554431779, 0.9834774779105494, 0.19391901660588262, 0.0909196160090775, 0.5064371606145718, 0.20594888429914449, 0.9169427610045152]\n",
      "[0.5139181236913926, 0.7274331302367538, 0.9162020296469804, 0.5435974325519968, 0.3540956119787616, 0.07145767802998648, 0.8096164562686458, 0.6717218190094201, 0.3657716443693432, 0.3227477742363023]\n",
      "[0.6676599842404606, 0.8254080804094701, 0.3637150294339795, 0.3259563970736489, 0.23833534278280133, 0.44362880825750595, 0.4536117337433838, 0.14792064433326446, 0.7301659249327197, 0.14035036550999735]\n",
      "[0.08283579002720165, 0.4678113673421652, 0.8692863009009985, 0.9122811259263408, 0.40521071525960706, 0.15271003597927402, 0.7582512846477442, 0.038244538869619205, 0.2301037762398389, 0.21624923346801295]\n",
      "[0.729413324548778, 0.19344581543852402, 0.6763211136308805, 0.1948879876161379, 0.17871201928754932, 0.5026338536867936, 0.7296595073099525, 0.7946872727750863, 0.8539959941087871, 0.026010608199931617]\n",
      "[0.29983425506402206, 0.6204062747222909, 0.07650590789040834, 0.11231140674759243, 0.7414615493897854, 0.32725906947388794, 0.6055101443172043, 0.3718876019894324, 0.5367316749894508, 0.39534889522790007]\n",
      "[0.36253106241486444, 0.7548818574222711, 0.9013266810678517, 0.994175535095001, 0.3277000502429992, 0.7229852437079656, 0.7801697081426278, 0.4773972588419554, 0.09377208198823095, 0.8024318405142568]\n",
      "[0.05979922905534585, 0.8482500299959823, 0.20071411505336245, 0.38515799794055317, 0.746859292216423, 0.971770064356373, 0.01792478571273448, 0.8665094126877657, 0.4583976088557914, 0.6511350805942444]\n",
      "[0.2297188589085093, 0.6343679583335745, 0.6338989097928297, 0.7820091030019097, 0.07959002998898013, 0.7240129700430972, 0.5813792746273118, 0.43223830202876723, 0.4197809100767893, 0.21963232806260446]\n",
      "[0.7511859829750878, 0.23105010497576084, 0.7399396042285473, 0.3154624684072903, 0.3726322780287745, 0.8470140979419905, 0.28080656759274625, 0.3290375843829023, 0.018118008512351458, 0.7550446367387701]\n",
      "[0.3755333861584921, 0.5840532765493177, 0.8496953002425702, 0.4818566490583407, 0.3195328323282901, 0.4848060462779811, 0.4306175286503444, 0.6081704293826193, 0.10767373706554839, 0.7620957901325067]\n",
      "[0.3446435680801049, 0.4786001225637423, 0.6914630444941837, 0.714523028523024, 0.3118770550406005, 0.9058196248056011, 0.5544422371637268, 0.9251370103042824, 0.18913726900320327, 0.6423729345916497]\n",
      "[0.8769080133009384, 0.07323369145867586, 0.6748049594253774, 0.9541846516187894, 0.8832406912264317, 0.7705796672959403, 0.2728992179494093, 0.89904037754282, 0.8361999181310801, 0.19536674656224817]\n",
      "[0.6840011618432977, 0.4234043274375905, 0.09960801014456311, 0.4163588363710551, 0.8354338051575426, 0.5904052061657613, 0.2361236360911101, 0.5789830196994245, 0.1236417791192802, 0.6265755156859101]\n",
      "[0.6270054279293984, 0.9226017978147584, 0.023709986702595276, 0.0012679096303991333, 0.34925023973942504, 0.8454065862962197, 0.33529980655185065, 0.5005356151277177, 0.8131933064277328, 0.10135944759511939]\n",
      "[0.3870595830909549, 0.05040433120424026, 0.4679793827561519, 0.5420484070320705, 0.15489582728244622, 0.17750789720698856, 0.3694424108844887, 0.1555541793073204, 0.8716707080711621, 0.08723393320943218]\n",
      "[0.5692606215425224, 0.4676675433570586, 0.6421255010870658, 0.05435395656794195, 0.07451351010366236, 0.38036481639425546, 0.15082276424537544, 0.31674608914155744, 0.5171712685083885, 0.263335740033281]\n",
      "[0.7210495977555809, 0.08749945994319841, 0.11686163727052634, 0.029595866176146957, 0.6864435073802508, 0.8949728242891347, 0.4499987907131202, 0.13349836296607587, 0.3768215627084027, 0.8906585997444731]\n",
      "[0.6808583478943492, 0.6292207042680562, 0.772919314207963, 0.3166444302804696, 0.9074955359646685, 0.3764336061604918, 0.782601656580507, 0.12797209923660902, 0.35476899572754084, 0.32144207529839]\n",
      "[0.9112784646410671, 0.9842943052151691, 0.23990551071608024, 0.6016696614618544, 0.02829024753134235, 0.6266515522327468, 0.09367557246527802, 0.9233149244993613, 0.9876154726181313, 0.19112263597745582]\n",
      "[0.41649150546303726, 0.6443526852856356, 0.6339632972474878, 0.6371309956961416, 0.5166454681396496, 0.6300963903939102, 0.6897301307884419, 0.3439602859068306, 0.6638032429578071, 0.5152622224924973]\n",
      "[0.3044537377819879, 0.5557201471833275, 0.9704498957057619, 0.2137410500236765, 0.7310371330517851, 0.06351604935338373, 0.147937093614659, 0.6744064849325191, 0.0425796411068351, 0.4710188609826307]\n",
      "[0.2113246627691805, 0.006048858100640042, 0.47663730863797427, 0.6796037362305217, 0.8753773369991132, 0.8557141697534717, 0.5742175037698573, 0.8094101256905635, 0.9296643628887074, 0.6115329210812225]\n",
      "[0.13924800593819808, 0.27570895367375614, 0.27591146780486697, 0.6986397586400269, 0.21522524702747892, 0.09115942951844969, 0.5170778050721115, 0.08955373893538476, 0.9534479659515287, 0.19499892127780138]\n",
      "[0.22800094653544967, 0.863940332201456, 0.3331515414483194, 0.6064259004979882, 0.13365025725633684, 0.3954253917604629, 0.1632385296725697, 0.9312041795085181, 0.3327937657768648, 0.7686373658058617]\n",
      "[0.8181578503779019, 0.38108827099126374, 0.23871148988644608, 0.8777937866519577, 0.8098079571732206, 0.2746956309588434, 0.6408058103037244, 0.24523557218349434, 0.8439639096506718, 0.8626744413062057]\n",
      "[0.9641420389566809, 0.3802915357707537, 0.6461402523144333, 0.5701335945880609, 0.36179001986760473, 0.11979589594727247, 0.6265944689604735, 0.8661243698917042, 0.7287485902865208, 0.7344485628105853]\n",
      "[0.3282122478674716, 0.9655419071972883, 0.08703410875399709, 0.7191555316302235, 0.0927424905028672, 0.693539143800997, 0.9914202592210366, 0.22630024489674183, 0.6116304300330115, 0.7580861712838238]\n",
      "[0.35659172710829623, 0.1853968181393667, 0.3219947786959001, 0.9571404285538088, 0.7207715460097837, 0.5099122199819843, 0.9641594693754143, 0.339096045775776, 0.34045229879698025, 0.5242910342752679]\n",
      "[0.46270648162421124, 0.19704886949744804, 0.03679240145137752, 0.08531129167596596, 0.7195745601780144, 0.41793062628342315, 0.31269691748533235, 0.4572523975939312, 0.6095574716475575, 0.5034284439281749]\n",
      "[0.19402163862517507, 0.7392752200494926, 0.7734236657271204, 0.8885144837763322, 0.43700238312109296, 0.672923309874319, 0.2278654214236061, 0.24501552632201906, 0.9154266485434728, 0.3290774896224553]\n",
      "[0.12148226655127214, 0.7353865592307937, 0.1733956654019223, 0.883920213789663, 0.3262367096210257, 0.416224733572786, 0.8721022747094914, 0.3256986465338587, 0.3134722038033231, 0.7449671134875309]\n",
      "[0.34150983779537814, 0.5425994850533459, 0.5899025676186005, 0.9530321677094482, 0.33225314611937506, 0.2500701273661782, 0.2564365687813974, 0.20653011088699813, 0.9149486674323892, 0.004304460697813317]\n",
      "[0.9350240159172449, 0.6023622097975332, 0.3523515258808424, 0.7449041444920577, 0.2765516537871875, 0.3339045457768153, 0.6667781239613869, 0.5172453420809913, 0.020301060092310252, 0.7748038072512279]\n",
      "[0.5304050976959962, 0.8446758333867391, 0.9848044559912764, 0.9576122167982886, 0.94925954069859, 0.29019333131488523, 0.38733989226999266, 0.9159921960424734, 0.0170761902656702, 0.23768218212898162]\n",
      "[0.1653757272428722, 0.8325056079756127, 0.6803202002637849, 0.4431622606283565, 0.4956590911436417, 0.12336334414895711, 0.386985933370083, 0.8016004676625121, 0.13819643901251555, 0.4369921864239126]\n",
      "[0.6356856219447566, 0.3600923239774064, 0.3518108355027224, 0.01406060985438129, 0.8544721765802865, 0.21667051595688336, 0.7564547420767591, 0.8853061930352414, 0.6467811966225467, 0.72712392060771]\n",
      "[0.9832882627387166, 0.10990864905413822, 0.9766501291685908, 0.10268068023231613, 0.45108550986367135, 0.328744878128038, 0.13834975856855525, 0.6563081253921008, 0.5770819850166226, 0.42355824279207144]\n",
      "[0.6659719941614983, 0.6688867918696201, 0.005768120685164968, 0.9766490199070379, 0.7765740156485325, 0.25815282037726284, 0.08228930981835925, 0.21417975972927927, 0.286834238967125, 0.3952947386045086]\n",
      "[0.031237084383022418, 0.1143805959026657, 0.9616921770340388, 0.6557222059459211, 0.9158549235430062, 0.6175742351780192, 0.1654128441204048, 0.6127460631196153, 0.6804172760591914, 0.5780188330232869]\n",
      "[0.2188649197118504, 0.06707434945228186, 0.8446491766481533, 0.07687087165210371, 0.006536956968202889, 0.836790707736897, 0.1691103879431889, 0.49970008318654857, 0.7231541137852077, 0.6595554526611878]\n",
      "[0.9133037206529658, 0.8254111399312813, 0.704093130863246, 0.11820285466492186, 0.17808436199211575, 0.7894837185076522, 0.3926037808078582, 0.38984141222384494, 0.2203764831140228, 0.9857225091459796]\n",
      "[0.5081211417952214, 0.04654019659556352, 0.31220398252049164, 0.534666157759541, 0.5815448179122488, 0.5628363041403572, 0.27732730340690714, 0.1309170938636799, 0.34796334697847, 0.9612785587980016]\n",
      "[0.6399476037230926, 0.3866719670935036, 0.42481120625167756, 0.9057314513676906, 0.725062268491355, 0.6110353449116053, 0.6526327606202013, 0.18527594874602626, 0.21883393898829118, 0.9634722616800407]\n",
      "[0.9818172901391188, 0.07323820035339912, 0.5923225809413896, 0.7519726974882032, 0.5152741008802814, 0.3794306979147918, 0.6428603221880467, 0.21473281992207538, 0.8954923313489237, 0.7752112774473039]\n",
      "[0.6447701026826997, 0.8342936993613272, 0.15505414730691025, 0.4656514818031505, 0.80774949337907, 0.9532877395254464, 0.29567028505738946, 0.6083504092594695, 0.7330992201463457, 0.24774982500453568]\n",
      "[0.49162531378461094, 0.677457805802627, 0.7189193093637809, 0.7392696050688622, 0.8222693376731351, 0.8505982071565807, 0.75894646980655, 0.7900884120667018, 0.4393117187725101, 0.17245751384002872]\n",
      "[0.6285314212720416, 0.0668587358796241, 0.8138102086343034, 0.32335062584366026, 0.6566412006946571, 0.5085304290091103, 0.3529206235896568, 0.7195100163116791, 0.9301527400759635, 0.4451468889918836]\n",
      "[0.1345573553449605, 0.3355586203991866, 0.7857983248653788, 0.4891777366391499, 0.5464094084731695, 0.8695504640836935, 0.0799241950779237, 0.48070951770749026, 0.05362476839455721, 0.004289570966723]\n",
      "[0.6021260056429726, 0.015873849883738078, 0.7047548484589952, 0.9826156231888794, 0.005530643823375536, 0.7254753520061115, 0.5155020972000387, 0.1486171419482435, 0.8019483864665559, 0.350725333775446]\n",
      "[0.008751576709554176, 0.28782191779811617, 0.4699485017863194, 0.7928635454369894, 0.7140654571709506, 0.4990134555021444, 0.5612617866778125, 0.1570351227546588, 0.11335650268614383, 0.42355709172920686]\n",
      "[0.5956235772183587, 0.4554091354925912, 0.7981781573622287, 0.0461171670545627, 0.08407192395911411, 0.8339580750054194, 0.42654549385550355, 0.5843370486023648, 0.3304913800774463, 0.905665469347879]\n",
      "[0.0369320531921189, 0.562301230310066, 0.08892094662883121, 0.8313984208727323, 0.172433511942379, 0.6020304639507223, 0.6800512407808199, 0.3418386084557814, 0.7039556800424105, 0.099506626055899]\n",
      "[0.7720548619028673, 0.188002879061269, 0.3191351178604106, 0.23336651295164612, 0.2059140745436735, 0.26529211243576956, 0.7553528368146911, 0.5622484614658992, 0.7409039040252843, 0.8813684537491245]\n",
      "[0.6493296709052577, 0.23857840731016966, 0.6848351331337534, 0.9188914462911251, 0.4260385945433205, 0.9330819005832925, 0.3177710257680074, 0.6334708932085288, 0.4750510836034648, 0.9981082731197984]\n",
      "[0.1773725418030324, 0.4856885591683704, 0.7682123500362998, 0.7134848377078422, 0.23328586453044864, 0.20865062002750168, 0.2657685037039572, 0.013909279900637728, 0.6568976032374182, 0.8306303481814157]\n",
      "[0.642340309344473, 0.03085633497156337, 0.3158252240590719, 0.3921515895741571, 0.9232433388593239, 0.9469735028035642, 0.7896089559828828, 0.09179848778780797, 0.8189473422595395, 0.9549670706283854]\n",
      "[0.6489107436159146, 0.33187806395796493, 0.06082144104240639, 0.004542514037214174, 0.6450463080727639, 0.17123559639320185, 0.6414136930364165, 0.1515854662606969, 0.1417946875279884, 0.013508925229292146]\n",
      "[0.2587340095249291, 0.08342462450551313, 0.41654966462962995, 0.5556012641563928, 0.5237077154970096, 0.9169159710768768, 0.02346014323789891, 0.9338730177405091, 0.04575884653305662, 0.4370828936544131]\n",
      "[0.866705177104378, 0.13042356802114663, 0.5886421225139117, 0.3689809272334744, 0.37933151769898277, 0.6733726004553713, 0.6967514197868162, 0.14895930978049665, 0.3656256439356417, 0.9979920562143368]\n",
      "[0.7277364201070489, 0.1954818621126333, 0.38900783366652003, 0.5945191070889522, 0.7773288650415594, 0.27882390180657246, 0.2175699063511093, 0.8626674023468529, 0.1451066636330649, 0.4591823195375987]\n",
      "[0.018009392608517305, 0.5035725151959611, 0.7830310035328616, 0.602127530859231, 0.20550337176381062, 0.9300323513109396, 0.5504728994373667, 0.1700349179042372, 0.44330124779759617, 0.7626283036899334]\n",
      "[0.938479974710175, 0.966358699179634, 0.9230334722088751, 0.4740192116688071, 0.8390879371925065, 0.025061677975356522, 0.2515572594449499, 0.4464702410564191, 0.6572964844367358, 0.1490286184027737]\n",
      "[0.9538387732366752, 0.3481555128112449, 0.08270895552625113, 0.728521553606677, 0.07737792452587744, 0.1667865126978082, 0.6290311951092996, 0.6861391262548237, 0.49795608991309803, 0.2838033803487504]\n",
      "[0.21166509751338203, 0.5966305447339334, 0.9818570264152762, 0.6991177014309791, 0.22928765345407354, 0.7577394261905135, 0.9099447248520542, 0.5850414077682402, 0.6850131961957148, 0.3122587811045878]\n",
      "[0.09876411892479853, 0.7465947696382744, 0.5346083497474955, 0.8988555398067816, 0.47270608500065725, 0.5713294036649844, 0.7294007872253163, 0.8465521080744554, 0.7446034351950604, 0.9928849768860406]\n",
      "[0.311744337325223, 0.6816668390622366, 0.7648485004186645, 0.28987062902756633, 0.5235809425145876, 0.7129733306630588, 0.9785392630214519, 0.8609003367179856, 0.9956541602466942, 0.9225631506712643]\n",
      "[0.6271203729624443, 0.35283135943295496, 0.7493032920338197, 0.060267292087751834, 0.5276562123441221, 0.3083141289042264, 0.3535620767735732, 0.6579235280712404, 0.7960587992139458, 0.4692850737349725]\n",
      "[0.08968607046131127, 0.18283848360778643, 0.03865261454486102, 0.3838064505926959, 0.772627092594237, 0.07579601140928316, 0.20621628466776531, 0.058032450466728114, 0.8388962615182807, 0.2543060244763855]\n",
      "[0.6828955315699009, 0.41454707875408114, 0.07167244842329412, 0.26421724270402913, 0.0627958362087151, 0.15194663111624862, 0.823760566176546, 0.5514701080128498, 0.01133811321646594, 0.9727123892363548]\n",
      "[0.9711118689388878, 0.7777560314928622, 0.3037685874481424, 0.7216809845736207, 0.5023760112275261, 0.1898270766281871, 0.19560388441032306, 0.6807918973454741, 0.6095645362569748, 0.6267281789369418]\n",
      "[0.6308429704109426, 0.0507567952656337, 0.19705292358864024, 0.5711631176417296, 0.6180713599348289, 0.46945451528012083, 0.8143613868055369, 0.32372251162860066, 0.029090367118959737, 0.681028375510679]\n",
      "[0.49624931881006495, 0.7400551946483392, 0.2633362918489822, 0.4044824822315495, 0.5854695908469643, 0.6546036575652084, 0.3543062137133812, 0.8353774912233555, 0.5108607546444972, 0.5975772291956242]\n",
      "[0.6300662594347068, 0.6127548487432767, 0.577279540456486, 0.9132338467129925, 0.8876224683127671, 0.4639797191264201, 2.7742383241879942e-05, 0.5010263737679379, 0.8906733917054466, 0.48522515914158126]\n",
      "[0.11854831953579203, 0.46991237152464516, 0.9885927723552639, 0.9365330579316864, 0.14484596465274135, 0.8525261844201303, 0.8469768419423899, 0.8867081387483917, 0.055465305648903174, 0.5933778251341251]\n",
      "[0.30102624799046196, 0.3197751917268725, 0.41854792269839425, 0.7724442375374961, 0.08882768952688513, 0.6332743011875308, 0.9050664323548953, 0.6224978329890821, 0.39162829829708845, 0.5226496247583092]\n",
      "[0.10101679502591732, 0.530693178979265, 0.8147892681227966, 0.5521024604218975, 0.3385562044258764, 0.3121862523582506, 0.42316371167390787, 0.919534986668876, 0.007466518498087327, 0.9793369148588554]\n",
      "[0.6853903614635635, 0.007465876396468785, 0.7889117712935056, 0.5993669085337598, 0.9133399841577147, 0.5597382749325288, 0.08923825909780858, 0.2666549897017486, 0.33934025584125793, 0.11600612173441038]\n",
      "[0.5277048981176414, 0.8612442800678068, 0.8592412504440673, 0.3022116743506459, 0.6259038066800884, 0.6544300076108115, 0.8907696974473259, 0.4795962096000692, 0.3023659301156454, 0.03348896767251586]\n",
      "[0.6859196614954703, 0.5623343833049195, 0.7435066120120167, 0.5414261543012663, 0.05467254461299642, 0.35979935350209014, 0.2944665932049585, 0.6239766109722779, 0.5603700668985033, 0.5553517824539778]\n",
      "[0.8894520392221981, 0.006599099195861879, 0.7548283407116892, 0.21544945186450937, 0.0213151713149492, 0.4799415119719215, 0.13467237424594336, 0.7953245420113387, 0.7939417628382437, 0.4656951424645789]\n",
      "[0.46676909853665227, 0.01358578138428157, 0.9359440759865468, 0.030065144562828383, 0.574656042856722, 0.04398072822150856, 0.2600807621423631, 0.6247054292120455, 0.6428803671885808, 0.7673349482610109]\n",
      "[0.235906588096075, 0.0661202710254758, 0.9785140093812807, 0.45952462741328337, 0.11833825047810875, 0.01757008782927305, 0.7787547239835373, 0.12109661096688551, 0.28565203184837884, 0.9265516993092898]\n",
      "[0.12134474633657066, 0.06748410408957095, 0.9216755463551678, 0.3791940932741168, 0.5903347528730626, 0.2104327214933377, 0.24373044372930097, 0.8724853880208866, 0.47008338588794774, 0.3447650279099014]\n",
      "[0.2903909119386363, 0.12738522867600743, 0.8900939339328677, 0.14894767336287962, 0.033709330239791724, 0.39029430330397863, 0.23037426966223362, 0.8368040270736118, 0.978008282800328, 0.39285227853869664]\n",
      "[0.8277298958979762, 0.23117243000608612, 0.5241100991678653, 0.1118804746131512, 0.5795984029221163, 0.9387748760932398, 0.012964958244762959, 0.5977298977216661, 0.006297028408142058, 0.9401666997395165]\n",
      "[0.953565140014775, 0.8634337957936279, 0.9365831509246035, 0.6134255616578335, 0.06442111215443691, 0.1131023781843038, 0.8128594329880859, 0.9191392043369403, 0.1597956337253308, 0.2872704023407576]\n",
      "[0.9789611377834314, 0.6305049001152141, 0.5725322873262767, 0.7052234505904571, 0.011553432853278922, 0.6778339777711637, 0.3880560711813098, 0.39634291065559313, 0.35717602156561545, 0.9355544760178316]\n",
      "[0.4691798461516995, 0.5953712027974338, 0.006387140792302848, 0.19422096556784618, 0.6879096380433025, 0.8600170775479354, 0.6045399556831064, 0.05960300302023225, 0.8207260898573845, 0.8073092325507069]\n",
      "[0.48921104799456694, 0.8476892043385987, 0.8629081481623923, 0.5778883848896307, 0.5283590775419743, 0.12270345180877207, 0.8031843513599023, 0.3208992626019479, 0.9642785049724877, 0.8696385000758069]\n",
      "[0.9247584802912908, 0.9550333789443503, 0.6951851614639731, 0.7219128978102235, 0.19448871844898508, 0.23975189733135382, 0.928992501410669, 0.08023301383895787, 0.8043557286092363, 0.4385522749814108]\n",
      "[0.8533051113312908, 0.7676471518738469, 0.6196152274865825, 0.13764142608952734, 0.750758014872981, 0.11019673779793926, 0.8842352766079772, 0.3933269252120968, 0.8393407028803879, 0.6822463789414072]\n",
      "[0.4448013167937691, 0.2365504750092482, 0.2851308228555234, 0.5242876052480613, 0.12650828544163506, 0.8708556335880799, 0.7740038169971236, 0.6861504812839134, 0.404884592086316, 0.4182663917179529]\n",
      "[0.8660981611552413, 0.44114856913513845, 0.09362926617985279, 0.7077966680016479, 0.8220010459464482, 0.5767417071866661, 0.28902163293916316, 0.33033374208623567, 0.018020662412129518, 0.6642602613095109]\n",
      "[0.5219544479655975, 0.33504425231090584, 0.7356072235005311, 0.1907362034333976, 0.14934264037331102, 0.4021883469821764, 0.5286984813100392, 0.4741631880749607, 0.7962028257261274, 0.8066030447228641]\n",
      "[0.9922873043468007, 0.703412398762151, 0.2829321567421965, 0.8827675301726013, 0.1865685525625571, 0.9295688112847048, 0.25418363401126, 0.5113487985964507, 0.9444829732026055, 0.4996605385441635]\n",
      "[0.014122066756723894, 0.14283062860166018, 0.07298509352161686, 0.23726498477302072, 0.1584595580618119, 0.8605595443191798, 0.10270946819169624, 0.8736134397299302, 0.95407493654873, 0.8363345480063129]\n",
      "[0.4768384147152124, 0.07808600053395887, 0.9767952779530119, 0.6917671907898084, 0.37986974744202007, 0.5824098651818332, 0.5913017144659005, 0.3777112729545751, 0.6385277021766107, 0.8932558528509171]\n",
      "[0.06981908431250972, 0.4139337415517005, 0.31806725959139515, 0.7386036629624142, 0.4547635794680417, 0.9699851644745896, 0.4009738018750235, 0.37399445725347746, 0.07569538759023431, 0.10109538245568539]\n",
      "[0.4011335280441135, 0.8576149319476662, 0.32279972397479906, 0.020943865229445136, 0.8469056193726808, 0.2738170923271601, 0.10434626156186477, 0.12470705977804264, 0.8218047327351581, 0.8280401155426658]\n",
      "[0.572658388294182, 0.9081506945119391, 0.4246660975411801, 0.09993024910789228, 0.12261724972387156, 0.9133294608172167, 0.1369877388509152, 0.6498425184410355, 0.501176145537533, 0.4954283166055611]\n",
      "[0.34974203160207407, 0.8275301465400883, 0.4762354989996558, 0.593390884079787, 0.09782098831685193, 0.25732446333775116, 0.8003284995448249, 0.4441760784471237, 0.9247927121710826, 0.8889905704847394]\n",
      "[0.7770426307509389, 0.9253625828813328, 0.860797028482, 0.04670456486765939, 0.11169313257945246, 0.19643319107608492, 0.9647520643647151, 0.18374364602269655, 0.7693353558141456, 0.34947123011122394]\n",
      "[0.5883563684197542, 0.7884362462831986, 0.3736398045774103, 0.38695356524816693, 0.20221093660250455, 0.7189916681354779, 0.8630082328881123, 0.42569151919799497, 0.8904581236821859, 0.3442966098895771]\n",
      "[0.012759139039961731, 0.9035586272784512, 0.8577228331569072, 0.05340055862844162, 0.9952849143679297, 0.4820191691799215, 0.08233013751630147, 0.35468862821618485, 0.03838732523348154, 0.7245565884972097]\n",
      "[0.13459142042724148, 0.19087559525313724, 0.6112027402695875, 0.09754759963135018, 0.9391013987961819, 0.19005886427862906, 0.3259447948012202, 0.28726315221200704, 0.25796972053703615, 0.8796960508860504]\n",
      "[0.46846913973306836, 0.05237873306038143, 0.6249737666482322, 0.20417832342226283, 0.3795921343068678, 0.7825738097191667, 0.639926122915937, 0.2160431998322716, 0.5448286875402187, 0.554035093697815]\n",
      "[0.9608453692550404, 0.6634007637556442, 0.5817745078561147, 0.5305672945827242, 0.1405394146941522, 0.0024079818988097523, 0.34418597507141124, 0.5768186920335332, 0.9895954056109161, 0.1664372141734488]\n",
      "[0.04173688820699195, 0.6036800504613201, 0.6416887452177633, 0.40811017852348275, 0.4885840549039009, 0.36563835160723845, 0.708376207800395, 0.1360761424678094, 0.23397641855369422, 0.84217065195511]\n",
      "[0.5508674531490453, 0.5641233062322398, 0.30566939418089534, 0.8316516649073323, 0.4273245569886619, 0.976738688229007, 0.9756695395827142, 0.5862318387545663, 0.7293476292003065, 0.7461465205360275]\n",
      "[0.4824716104097677, 0.9645236700334279, 0.9463732477708217, 0.8194812262630067, 0.6769159355968117, 0.28630778523145883, 0.9784591239728759, 0.21918066376967915, 0.19660530664420228, 0.7677922515816202]\n",
      "[0.3986329642003378, 0.19120717716241598, 0.5400905546720911, 0.14589301627819828, 0.324049724465864, 0.7022078665680178, 0.8110183120231431, 0.40287211614879637, 0.5141954848030101, 0.9800901583825293]\n",
      "[0.44209636895461146, 0.09509647189942072, 0.36102113992797014, 0.36561101409776087, 0.02019609378863052, 0.2850912940004079, 0.5887294936078743, 0.1951977311622457, 0.04729447418950328, 0.5828098431011274]\n",
      "[0.30901171575146347, 0.37384228473580283, 0.83750985068499, 0.25395178264106877, 0.7078538750318013, 0.5445639964905291, 0.25064678502035365, 0.3500623647790354, 0.5146762688703314, 0.6936344337168886]\n",
      "[0.7157298967478973, 0.13372182311310665, 0.2761295319107552, 0.10617605441831834, 0.877710316414762, 0.8546166707352284, 0.0735015107075, 0.10181961744094803, 0.0648748183431872, 0.8757707011520027]\n",
      "[0.5795186777432791, 0.7492013769862971, 0.42762897943264666, 0.9880953021350272, 0.48131590124503176, 0.011775536694589417, 0.06202655384575195, 0.8082455633805368, 0.6456106734793781, 0.6259325814797703]\n",
      "[0.23011984574268718, 0.7577862053443236, 0.9093866628950151, 0.9795253196431413, 0.7809818756697622, 0.06143300158185716, 0.8706011987530017, 0.23332017987339992, 0.4766155321692206, 0.5864989423040776]\n",
      "[0.9547026720859043, 0.9522455294422335, 0.9406491491572416, 0.24265111776726123, 0.8936118550832145, 0.13580280930961508, 0.6807998269280482, 0.17080691674665127, 0.44842729971666806, 0.9584664798392573]\n",
      "[0.5163796743173116, 0.9523773833006598, 0.5626028979882814, 0.17428462019481405, 0.9251366472273006, 0.939076550798692, 0.512876600715917, 0.49499342040493455, 0.9915824611957685, 0.6116102154536769]\n",
      "[0.3975403958609536, 0.8480992167380087, 0.3621630229579226, 0.4591657206932759, 0.4264444687315233, 0.3260285534948706, 0.4534042377091074, 0.11339160318393104, 0.13494075879280987, 0.7076442921540282]\n",
      "[0.6558683140783368, 0.3818940827856503, 0.8367628722087077, 0.6616787189441421, 0.7813548001845898, 0.3403604135145608, 0.08753113748773667, 0.6657697044612084, 0.27668938861206027, 0.5608809192224654]\n",
      "[0.4496169337692639, 0.1495373966746144, 0.05180304928796731, 0.23325300179522357, 0.4928983137045171, 0.7789787693007848, 0.25123664554652136, 0.6431650542387272, 0.1712884438280735, 0.5494570450664013]\n",
      "[0.26046136246445317, 0.8643109733915683, 0.8326190110292264, 0.5420293154705716, 0.7071637612078489, 0.83201723154879, 0.8609878277175815, 0.9790533662283325, 0.9789180160199489, 0.06390826213746603]\n",
      "[0.12750509101240193, 0.3302374223317244, 0.44785164140535283, 0.7089247665883723, 0.7165881481344786, 0.4663355736144368, 0.8389409177398766, 0.8659697791301594, 0.2671588059902257, 0.5441067323914767]\n",
      "[0.32788156483762587, 0.7225555310680116, 0.9610763070075434, 0.8398631094494282, 0.5433031517685539, 0.6128740750239068, 0.874357647741553, 0.19345833234677634, 0.44902247362079417, 0.7565715029500913]\n",
      "[0.6316468508068328, 0.6292747249620156, 0.5271669552923521, 0.003043263544600272, 0.9079105509323857, 0.17065077089987413, 0.1435532605065698, 0.7582408971976985, 0.721409818806214, 0.8046139103189553]\n",
      "[0.29109593222531027, 0.42291677099585334, 0.17928579267688938, 0.44581742281321957, 0.18863541753096702, 0.10397890145861488, 0.30950208278914815, 0.25911342034750795, 0.20117566004760923, 0.5682316612156814]\n",
      "[0.7718849337669261, 0.25803539798375674, 0.6183192291452054, 0.2258214892488809, 0.7707104022848678, 0.41352588264110635, 0.523747658636906, 0.38532062323167315, 0.03570249701515704, 0.9981468857240015]\n",
      "[0.4430926366653799, 0.6561610918057832, 0.9953060596765346, 0.13182609025585224, 0.26380093462191934, 0.09763512688154863, 0.7146754339087863, 0.2751394686573668, 0.18870492888773194, 0.5213993683990767]\n",
      "[0.39992480820325016, 0.5499820574008648, 0.8042925270268898, 0.5920339060449286, 0.14413621729503745, 0.9530067097162372, 0.7553873360419088, 0.7044012872476346, 0.9744918523177075, 0.4562038604889189]\n",
      "[0.3971978823262967, 0.05866762038692408, 0.4439105395780294, 0.09951380865296522, 0.4819401177061896, 0.5865373264168955, 0.05491107448186905, 0.13262886623057746, 0.727239140900692, 0.24662224801695132]\n",
      "[0.5221142364063615, 0.2429266435886106, 0.10634815066302139, 0.8568985514981308, 0.11766595368804089, 0.10960973317918199, 0.5931719160324052, 0.5199457215857118, 0.8493050289884415, 0.42399922573064286]\n",
      "[0.19729837824921848, 0.2508348664079211, 0.28544628175739906, 0.8455213296382238, 0.06811895368775833, 0.5034598734508885, 0.42025541700733926, 0.8121227897312303, 0.12591279336676087, 0.8642702378526331]\n",
      "[0.612476859177713, 0.155059313817683, 0.8118756060723197, 0.24420932558744946, 0.9625705027246817, 0.5724619020451542, 0.08615133939314945, 0.8670596350880589, 0.2148511201114195, 0.5877226993495716]\n",
      "[0.30540306416511853, 0.6897213313780914, 0.9824566105184394, 0.96226775589045, 0.9165511982948008, 0.9380841046895797, 0.5487431519781087, 0.24934359387199634, 0.5926976732787662, 0.9761756335521253]\n",
      "[0.6840223524411686, 0.8301485322016662, 0.7717153007535078, 0.9415891187214043, 0.534837962746231, 0.8069337324709023, 0.8675072551864104, 0.6031322404257291, 0.37984714525923646, 0.15949707006257186]\n",
      "[0.6648572854905873, 0.522079184244479, 0.35005962936186474, 0.1550276685077212, 0.12679923325778242, 0.2074797517331758, 0.9415473694831853, 0.4020615590122498, 0.3851448482832398, 0.8555619348189016]\n",
      "[0.29865699863195716, 0.36008525200126285, 0.1579316170377001, 0.8279577236093454, 0.9426091985012842, 0.6204358456255361, 0.5061451503440754, 0.9598594162061529, 0.8710096312185043, 0.6941792314445748]\n",
      "[0.7455081569562946, 0.40426966865362823, 0.7884232746238612, 0.13264372695432325, 0.4694700802952604, 0.49245105402269673, 0.5915977504452242, 0.6221376573281459, 0.9225860095421723, 0.24831699608486013]\n",
      "[0.3538155875057697, 0.7062752240215953, 0.038164411350078975, 0.34216299095021885, 0.2090112569726279, 0.011019576303280987, 0.26619942440715716, 0.24719854655323337, 0.7760894487621858, 0.8170533748269643]\n",
      "[0.7260047747229467, 0.1057145754211426, 0.05561185730547469, 0.31722603845226194, 0.8475955570792304, 0.8380019216730488, 0.3683831042556265, 0.6261513883553469, 0.49561734814292324, 0.3930631421975044]\n",
      "[0.2796440565789734, 0.12243741210431003, 0.9679214478296057, 0.8847417990052577, 0.4580143299455439, 0.1813463784677154, 0.9105846057850264, 0.38644748279166263, 0.3898821871229945, 0.8423462851159526]\n",
      "[0.5487322612661433, 0.7733009064305436, 0.4565068302666817, 0.7521888975631171, 0.14869599640686237, 0.6713844512225866, 0.21282472078554837, 0.014163559325762298, 0.8236760531993499, 0.6691968736724754]\n",
      "[0.3452824264610762, 0.8983713765697239, 0.9888778868736641, 0.4770956468267753, 0.945075622523482, 0.16783968091916313, 0.3307384037807438, 0.2446961251848352, 0.7539594093347327, 0.11384318672908311]\n",
      "[0.5413844197861937, 0.4620509738467833, 0.44846864137294895, 0.20567780483404774, 0.8597126223825, 0.9210596943008679, 0.9526464156107818, 0.06559834525723707, 0.28664533070255704, 0.9084557061945502]\n",
      "[0.5519660258522975, 0.5157122054262747, 0.0045195328884177766, 0.7965964368185579, 0.16029688983852286, 0.3802582196462959, 0.4179060633205277, 0.3804205792974492, 0.42292461325435304, 0.6563615042236637]\n",
      "[0.799351776200475, 0.6650210435506272, 0.4139213068582902, 0.42912544210588954, 0.46317037780854775, 0.6643050388498817, 0.44486077543058034, 0.21757586219246305, 0.45259146014748186, 0.8244687728701557]\n",
      "[0.20821383051912412, 0.028720367558792814, 0.8310999044624757, 0.21003360080045796, 0.4362591801855601, 0.5809226795665476, 0.186031731252416, 0.9573020238768014, 0.2909689601396539, 0.34020952904007296]\n",
      "[0.8286693269968979, 0.6350962789683643, 0.19014237574959791, 0.3691304459840208, 0.3740965458213025, 0.3098488342292248, 0.43534157795121475, 0.4733803317597365, 0.1903764065083524, 0.9191733823963393]\n",
      "[0.45750329909905485, 0.0033553631860793187, 0.5655723265073764, 0.7074960730143199, 0.2479704775947329, 0.8146063683897123, 0.5330326637000853, 0.9515270148529844, 0.6616941924852942, 0.4030445371781919]\n",
      "[0.8874122317693985, 0.21396669716362993, 0.1530889096750706, 0.3613202574973706, 0.6330411673880921, 0.3392358819827349, 0.432939589951718, 0.39923465721047013, 0.8968347349949376, 0.2654090685049295]\n",
      "[0.09172089639680114, 0.8119860580736457, 0.6108138400672912, 0.2521280067062054, 0.9054552973310439, 0.2450462095760051, 0.9633353774304303, 0.27465207274570247, 0.1449622935011009, 0.17340038393434953]\n",
      "[0.2953170946091308, 0.7349757129705675, 0.3153640874478688, 0.12084215322069403, 0.5102864018482808, 0.736060159747228, 0.795504277272833, 0.36781077588643263, 0.037449742361714944, 0.8634742021059479]\n",
      "[0.7894256844684122, 0.029085239283346276, 0.09262219310636499, 0.7496653769305068, 0.890979012234746, 0.006667384011271649, 0.37448412954116306, 0.7835195595025355, 0.1461499465091174, 0.6075184467344965]\n",
      "[0.03331153545016019, 0.28540190115035247, 0.5239316107072456, 0.05320949374404227, 0.6223989945255805, 0.3735986300780856, 0.6390896799324108, 0.06716679588765073, 0.607543988695979, 0.689471091202284]\n",
      "[0.7393217516750827, 0.7041306841551696, 0.6356508862165446, 0.5526598797331562, 0.365664380554788, 0.13760894691256775, 0.6199012564091386, 0.8391219252146306, 0.39099072210474606, 0.5980456257383674]\n",
      "[0.9560373185815979, 0.10094449047585663, 0.13551821229111705, 0.4458379054452064, 0.7593357720216632, 0.2805613938009146, 0.5053848173737999, 0.867553727756281, 0.7138745109981509, 0.9582999300882998]\n",
      "[0.3085513295916702, 0.7848351328065327, 0.8617610987481377, 0.7577150921975843, 0.449052550919089, 0.9387336829923958, 0.8655885024484333, 0.6512665152342023, 0.28569617600945196, 0.9444111402010668]\n",
      "[0.8761803436701289, 0.5589225881995353, 0.07695200048097817, 0.38725216910932836, 0.9978363226797375, 0.33584857887932773, 0.6157590679021049, 0.1389621642002461, 0.7922828983529516, 0.8268076524850336]\n",
      "[0.8021621854058906, 0.7691704888134967, 0.1803659526300857, 0.5417016617751501, 0.7971948587213611, 0.997999984744328, 0.3867227904936077, 0.3983385044916956, 0.0038934332527539306, 0.22320267979780695]\n",
      "[0.5659703829189158, 0.36771533158794756, 0.6557269520100303, 0.7853669769069656, 0.11216522135911156, 0.3645816332758727, 0.4010887792345649, 0.17492976334287214, 0.4577191068859102, 0.5155153179594838]\n",
      "[0.7297325301893655, 0.6837483703777982, 0.08073088444492138, 0.30064305890675314, 0.7970888500922597, 0.45203282940740697, 0.5915138695869747, 0.9065648840894319, 0.009405142798035393, 0.6777738909875253]\n",
      "[0.6898525944813804, 0.33947244478128624, 0.10954646077532826, 0.997977694788954, 0.7526166799843084, 0.6158210361304511, 0.9419208426289198, 0.8922481395205986, 0.5849540930370308, 0.8319025911625177]\n",
      "[0.19392592502713846, 0.1885750094306069, 0.2127026350420127, 0.9555526125612809, 0.49068975668785486, 0.9376926366102551, 0.3091966627902505, 0.8421608412931496, 0.5739123617370089, 0.7178256868302167]\n",
      "[0.15347529677479177, 0.009256834304248729, 0.4380730791007482, 0.23809261820907923, 0.6012183932341251, 0.34295695178050856, 0.7690581351418622, 0.26625803367129386, 0.2835991105467297, 0.739551051862894]\n",
      "[0.08338765898414002, 0.9249882328631892, 0.5083303677477189, 0.20501113068212695, 0.3131110289435245, 0.6418854148024026, 0.27713788407408546, 0.34003808953139936, 0.05349559080169608, 0.5173493103594329]\n",
      "[0.014819589396321886, 0.48031342515883557, 0.3593621408791069, 0.3616116587815247, 0.6101560970851315, 0.4231782998649273, 0.11001518986375303, 0.025691419756279532, 0.6410319865083529, 0.4043332646438741]\n",
      "[0.017141748997344886, 0.7071004295049991, 0.23423895780833026, 0.5943606389729538, 0.6966734250719496, 0.85261942274977, 0.4201967061458498, 0.5254456175332487, 0.7526942109476298, 0.5768975502647465]\n",
      "[0.5828690841708171, 0.46136437105818495, 0.13686642973269125, 0.7306773299178686, 0.13150918157977465, 0.043645690275883275, 0.35768105642177006, 0.1667537422589942, 0.38153560013461474, 0.1268904364975928]\n",
      "[0.958357554471642, 0.19140052845916644, 0.8851648897756643, 0.19559135734789246, 0.055911739745969524, 0.03478625219800391, 0.04006198758436619, 0.19424522361220609, 0.313816674782869, 0.31133644945504535]\n",
      "[0.5685116504004113, 0.9453483775838363, 0.14761143502929697, 0.22654785734673288, 0.9092034211619267, 0.48499757547853417, 0.10347111505719064, 0.2186002813583493, 0.19079755634916695, 0.820230259352129]\n",
      "[0.24181302052015552, 0.49111374141348585, 0.10143448708878833, 0.05005519746162446, 0.2247951798748481, 0.23552872125096247, 0.5617009854220888, 0.5380793670706617, 0.478944264938969, 0.14138279089972727]\n",
      "[0.45874518198147884, 0.4656237787006743, 0.5907829812007006, 0.45693828940878, 0.21485110939227503, 0.621946661661367, 0.11548679228185421, 0.5116421965571046, 0.04390131935670705, 0.8936456699047192]\n",
      "[0.2695226149680371, 0.9775473793867574, 0.7394337892749719, 0.8120291290106172, 0.6208831476060048, 0.47907378333697015, 0.3659945244277125, 0.022724147799630057, 0.9520328776134142, 0.999285419834542]\n",
      "[0.23441485211977064, 0.42706061573697984, 0.4336777493614241, 0.16939172640802846, 0.6711682868473193, 0.23893083632357215, 0.23397501899510575, 0.4551025567915947, 0.1253669023748719, 0.2886742685968471]\n",
      "[0.9236828771417328, 0.43999943571752587, 0.38712064126633017, 0.7607377534292087, 0.8171789418840304, 0.16480811165503917, 0.27037774672857007, 0.3191430456124714, 0.7887822070933862, 0.15873015416003722]\n",
      "[0.16327371051449824, 0.17888257026071364, 0.42955636988962786, 0.4762676846370898, 0.5150152933330047, 0.4066823452480023, 0.4889318594264156, 0.18399621326577964, 0.062340704760478594, 0.468497078155538]\n",
      "[0.4649777370639181, 0.6643367262076038, 0.7937463640135863, 0.010583443757371636, 0.7333888317093689, 0.9755752938031255, 0.4195168664472422, 0.16824335081951602, 0.01680675083137706, 0.1394395826967465]\n",
      "[0.9968547302057057, 0.11925220148613769, 0.672202786583228, 0.48311593305705347, 0.20347285924320746, 0.09050907229947736, 0.20386338968722106, 0.012975823992478652, 0.7588058350086212, 0.9913646648906488]\n",
      "[0.7768010186449715, 0.46707054609830967, 0.5057999212344693, 0.34212560993943575, 0.5163934010066025, 0.19471514682234892, 0.7302508484756381, 0.6069706383536796, 0.4562363001602948, 0.8112230076865549]\n",
      "[0.015318125058336185, 0.7196532554282703, 0.7765519499399235, 0.00410234677565291, 0.6185822255638558, 0.8512059412351932, 0.5057455783079982, 0.3353314417342479, 0.7713290265176398, 0.4790464311253091]\n",
      "[0.7422431647130455, 0.6061730979362182, 0.6143542628886869, 0.7387043842307479, 0.7891189489932388, 0.35876612907651806, 0.8762672409684327, 0.6709633793081146, 0.5510671469481392, 0.4116050662725269]\n",
      "[0.16128271910877023, 0.3629469407626915, 0.41028256770303917, 0.852723715164691, 0.7863786814541287, 0.8958523612629505, 0.14955051921277207, 0.5522249695733022, 0.35063800312862414, 0.2311287499290251]\n",
      "[0.03456894125889021, 0.9291677440166687, 0.8587402816627253, 0.82023136333137, 0.3765486253903986, 0.2997157435026885, 0.9197737908642001, 0.9741202624324065, 0.3782478473311871, 0.5016013286974979]\n",
      "[0.9186632250450981, 0.6889875342734954, 0.586267267042124, 0.34694943664804256, 0.10880790667458273, 0.4969679581732763, 0.7813617651707215, 0.17917502898942927, 0.6447657959796524, 0.9214015570696529]\n",
      "[0.8954569024256053, 0.291577524230221, 0.27228947178088736, 0.08765829988310314, 0.2749476606217778, 0.3434861958858425, 0.7312739552897872, 0.7074590661748599, 0.145482565724805, 0.22913117921179393]\n",
      "[0.021369781295987766, 0.050117069334610465, 0.6490973858971107, 0.9190274149608093, 0.14026144713911126, 0.8556085422171589, 0.16000912150888702, 0.0016367741156204652, 0.24809229263719357, 0.8685512278665003]\n",
      "[0.37415991748179245, 0.9691802997371737, 0.35493286816115655, 0.7112359426825153, 0.17584919910653252, 0.4621499750287974, 0.05696545530702357, 0.5241427629154325, 0.09846151959165073, 0.8832401282069184]\n",
      "[0.6302055607333718, 0.5702425263566894, 0.46860728775445937, 0.23635923733905762, 0.6806769920055636, 0.3740670921638236, 0.8960128199636671, 0.7852182512650795, 0.11561263969333346, 0.6621016557016991]\n",
      "[0.7845297357706345, 0.07993122279788589, 0.5950070381599962, 0.5610702739291346, 0.6631003526222722, 0.4030842219850308, 0.4687449178852686, 0.9964413876215726, 0.8073374638797568, 0.3515521657231575]\n",
      "[0.07493022744820999, 0.8401616783613916, 0.6180371593706147, 0.5110528853693997, 0.9096771854669646, 0.08946514413411166, 0.23210365711304648, 0.6597440632234325, 0.6552535157171592, 0.6494019701036873]\n",
      "[0.43376133897798996, 0.14186724211035462, 0.6597008602579917, 0.8589038203920984, 0.5370880018482932, 0.7072368115764022, 0.4298102816114686, 0.5424559382595723, 0.6698458249101074, 0.07557702145928746]\n",
      "[0.9736184571757492, 0.015910219052203245, 0.8696111074188633, 0.9363531942776853, 0.44028079806063136, 0.21632938022006098, 0.3956193716204931, 0.4785465094754485, 0.8789603154304656, 0.8503664731695272]\n",
      "[0.6856126801895565, 0.5433355136114815, 0.7153632882553255, 0.5783329430329283, 0.3141476918806033, 0.5819933298982085, 0.08200210878333869, 0.4142668112011022, 0.6855363696237642, 0.4575237600551876]\n",
      "[0.5254984891829205, 0.5057616782369789, 0.7038366262776259, 0.09812696648261632, 0.48968183928061404, 0.5359059431394743, 0.22815963358860825, 0.0004510442954940297, 0.06290716712085509, 0.9969710818112658]\n",
      "[0.9233821149753358, 0.5906058295959783, 0.4802575972048725, 0.10684647951639314, 0.9684569872328553, 0.0021096861684283263, 0.36787611056672687, 0.90594133614159, 0.1075147441965405, 0.38357464608588643]\n",
      "[0.9573797995434621, 0.9249761787701344, 0.1877890914631969, 0.9109206118297783, 0.050180301787192794, 0.27945013886943204, 0.05049244536144781, 0.9305401912074349, 0.9269370455940065, 0.17879558972558252]\n",
      "[0.6536830314643651, 0.17952386893462213, 0.37961910793118225, 0.654401899160588, 0.4841864267530799, 0.7891727861019443, 0.020529551395278234, 0.9458463806488906, 0.183885003157507, 0.8402758606130899]\n",
      "[0.9457866995853457, 0.6155481632332533, 0.7649587127843321, 0.6407177689822242, 0.6832866174208825, 0.38864109167461824, 0.7086915837389581, 0.6059381131597532, 0.6431852716693716, 0.2151939212976377]\n",
      "[0.32344517484395396, 0.5680007282105461, 0.27936642039040027, 0.4613038984387552, 0.9764051681265917, 0.9829660473902448, 0.30307271396922353, 0.8205884829371383, 0.3750179074066521, 0.5207483241025911]\n",
      "[0.1692828416130575, 0.5279274659171092, 0.7441846658595634, 0.13724948087779743, 0.8620500937865105, 0.06709901722519751, 0.3592969458973746, 0.6583024505911059, 0.13478163040060287, 0.6034866413844325]\n",
      "[0.04458461552651005, 0.508050115776955, 0.6418965565951302, 0.2733129183918743, 0.6242833352800412, 0.44109562818283854, 0.6955892904062605, 0.8184440305892979, 0.734505937783915, 0.12083225839758671]\n",
      "[0.34657349320999076, 0.3240413066189468, 0.5388066166226654, 0.23891220204258135, 0.46471895517050965, 0.9899998466107351, 0.20979084977403983, 0.9250810034320751, 0.9425796944450171, 0.17509703762319628]\n",
      "[0.9451967684947973, 0.731595293490171, 0.847461814271899, 0.7781512807294906, 0.1782583806868897, 0.8632538470091983, 0.9999645621630676, 0.934344547165109, 0.3690359523137072, 0.2884166333030055]\n",
      "[0.7379484970477402, 0.1455700413027845, 0.36904648974979026, 0.045444861391476965, 0.8151903191707096, 0.33915927286753933, 0.058078091847413194, 0.6150984253552069, 0.7982110928413914, 0.8441442658897267]\n",
      "[0.8241203086244229, 0.9788897519520706, 0.19979049199559662, 0.9803055515171885, 0.780600614809879, 0.7914484182717867, 0.18147905243665863, 0.19723544203982546, 0.2998946061771883, 0.16404344050706376]\n",
      "[0.5671221813938663, 0.9084676251917989, 0.7865097045786571, 0.4846517278107112, 0.2887252147122934, 0.6968737920803802, 0.6016531800521203, 0.5583347781607172, 0.3772115581652564, 0.3892824932603024]\n",
      "[0.02991762163887013, 0.8474468069658898, 0.22771725219039007, 0.03337169169162857, 0.15333197263374032, 0.5803035484625682, 0.35033740858814366, 0.5874629279642206, 0.9527938214569569, 0.5956617392100464]\n",
      "[0.26479112390551307, 0.661830374990793, 0.43621710419362625, 0.7643631246707349, 0.15334125844972857, 0.8962250361270292, 0.6895818680653628, 0.525418261152679, 0.04116508920055095, 0.3387391838016931]\n",
      "[0.3657120983089509, 0.8687324852603641, 0.659778354917054, 0.701004711853525, 0.9370104701508881, 0.5173899761477635, 0.27137938251865246, 0.23525796599227367, 0.04283967093102037, 0.1530884165083759]\n",
      "[0.7449781592351699, 0.5982994509967797, 0.37331489859958955, 0.8908006076697513, 0.08492133831842785, 0.9908245862020225, 0.7886853451078953, 0.5426255865186783, 0.888445722682939, 0.28506249738430656]\n",
      "[0.7235930830726085, 0.0011716531068388658, 0.9306343524953766, 0.23554037795769756, 0.7532256663303899, 0.5655087160594947, 0.19704959227331398, 0.6193709181346606, 0.3993683954497341, 0.0044194304574635135]\n",
      "[0.7995872701011122, 0.8705610169851349, 0.849431698463924, 0.9532975358233967, 0.7028882099091653, 0.5575196428790428, 0.04382393884158109, 0.7635517460733259, 0.63696726783567, 0.03577142797451072]\n",
      "[0.6422595251163318, 0.7352206203029227, 0.5448023518121359, 0.47533312324132937, 0.5493883971970387, 0.7644797481298421, 0.0957765380092841, 0.79869337962866, 0.9401179646045181, 0.7634045550332825]\n",
      "[0.37369580294859017, 0.45827701470172066, 0.20874700653657008, 0.7307053048932407, 0.679754630915826, 0.6747888860526652, 0.2969919689377438, 0.92086217351064, 0.5541043342506335, 0.8577807567590328]\n",
      "[0.6140424827039902, 0.7495547221244259, 0.0453449226419973, 0.6519097789237441, 0.6492036961404283, 0.8466308225025447, 0.9560521673747214, 0.8350615486022704, 0.6571349269638955, 0.9614342044384023]\n",
      "[0.659428891984857, 0.6860860591780242, 0.813415764804062, 0.07943138954942208, 0.6662221999905222, 0.7943742509385571, 0.2493106634088479, 0.859855295916224, 0.2143461220615901, 0.9943144194397824]\n",
      "[0.09334892013459639, 0.6702563820122055, 0.9770805137356425, 0.6324054363597541, 0.8408794185601776, 0.5254149711752762, 0.030964690033011277, 0.4698861588679635, 0.37991112207917377, 0.926653352682417]\n",
      "[0.4949096678053163, 0.06688386389131673, 0.595692459376258, 0.2235756765743092, 0.7779929534066842, 0.5934514545350049, 0.1446905960251933, 0.6709092040127558, 0.6222617359651972, 0.44762458879424627]\n",
      "[0.48288970672912346, 0.4249240878975623, 0.6980208055782612, 0.7365564958481767, 0.15580252317984433, 0.6523354435311098, 0.045115901880129816, 0.918237395338628, 0.1754446086025634, 0.6260012855389355]\n",
      "[0.7857041575549203, 0.5913820262765807, 0.11567953720309554, 0.719757116409612, 0.6767552167110968, 0.9553210452675994, 0.13728087692978652, 0.9734668107511949, 0.22500428046403875, 0.05436209182482421]\n",
      "[0.5544406310186211, 0.7422841097006861, 0.0877229266348476, 0.8031004730827673, 0.6580124260610826, 0.022902031209712348, 0.1430588832236418, 0.6108056264609659, 0.6114092468885579, 0.8333960239476905]\n",
      "[0.26914142594749135, 0.9374351481240697, 0.14896737517467307, 0.8704999668959933, 0.7907599653911344, 0.033326963549735966, 0.46342243791109194, 0.006491424641995147, 0.9024167746980413, 0.695066188277058]\n",
      "[0.7509154500603868, 0.5399179605632185, 0.5792495399367735, 0.8087302046518224, 0.6181497408738011, 0.40551308302773936, 0.8069910516630089, 0.8201844701889329, 0.2708877036290459, 0.7862817689403584]\n",
      "[0.7560317044690804, 0.7559215235304229, 0.010109695062255453, 0.5461651460308776, 0.9696947297988057, 0.9898304872216048, 0.7647128500396404, 0.33518230861324094, 0.5252100136700868, 0.060973629070026125]\n",
      "[0.020657896442977663, 0.20450509173394393, 0.6377527802282411, 0.6003439293864463, 0.1714918348791764, 0.22852308972033686, 0.26846586766479796, 0.27347774495595556, 0.9368582609832382, 0.3046424475234699]\n",
      "[0.4287223413726048, 0.3163853321197512, 0.2807478732922355, 0.8457370737662088, 0.3813538430751803, 0.38271367943225465, 0.7123020655808143, 0.9539739502408591, 0.48919845966392583, 0.8375019717894071]\n",
      "[0.8874838424873435, 0.9863302303189948, 0.8744903778446993, 0.9233349966073322, 0.5058527430960812, 0.05549420306025776, 0.12974936404242232, 0.3416090088942706, 0.0938383499716331, 0.579631090828021]\n",
      "[0.22204973323969457, 0.34824562830651673, 0.7570580349653558, 0.08504080884159448, 0.18292477675618835, 0.5337335322505065, 0.8588001681002719, 0.3208662337738406, 0.5410288713986021, 0.34955051061311737]\n",
      "[0.7784725074193771, 0.9743980563675736, 0.7035944345427558, 0.9204242303709448, 0.9376510743465937, 0.856392962335283, 0.42324577405540253, 0.728577699681501, 0.6873796894235317, 0.9634528517678964]\n",
      "[0.6139263867713389, 0.8691154723192424, 0.04325288287834206, 0.40823156216780676, 0.014429658738427054, 0.6419444409090739, 0.3938957633421706, 0.08828984815683294, 0.3402537262039994, 0.3264975679716082]\n",
      "[0.7038814903387989, 0.48058093093493204, 0.173347936220986, 0.8973237642146559, 0.14351784834135395, 0.7273745230628588, 0.6890329994690392, 0.009370488165755475, 0.31007016922963226, 0.3003033918322926]\n",
      "[0.5472873582190516, 0.21050380452101625, 0.10212952637251882, 0.04891023542888828, 0.4146746362523107, 0.19956877230286307, 0.9493618327665109, 0.16221525436856887, 0.1580264335466235, 0.31641028665769544]\n",
      "[0.31161353535128, 0.8588795679552037, 0.13992235294422095, 0.02024761398811359, 0.2865267675612122, 0.2945195036535482, 0.9237353482178895, 0.28525329657802, 0.514027364437542, 0.04627614168534222]\n",
      "[0.984101634938079, 0.19104021902581458, 0.8845573852471317, 0.9774227357816906, 0.08417825380989807, 0.9140682040050127, 0.09573459331052125, 0.0908164617028202, 0.7765194410864366, 0.38251622054503787]\n",
      "[0.7962754675238081, 0.6332418360078417, 0.7053442289814515, 0.3557863083060768, 0.4556386379017835, 0.39572257326228943, 0.9991823842737356, 0.08643153106930312, 0.31818367810148873, 0.9998744194716704]\n",
      "[0.06638621876009598, 0.14281875401547184, 0.6904776472772923, 0.10486508258072236, 0.2654789103873707, 0.9284514962937009, 0.03673255944414755, 0.512707799198363, 0.49931880320186073, 0.4198731918177825]\n",
      "[0.8080176030134611, 0.5971634356225114, 0.38187342640789257, 0.6538475226067966, 0.1647759308191058, 0.4102815877140188, 0.7770950991181138, 0.9715357720698466, 0.12568359132113338, 0.43603450876339234]\n",
      "[0.758908312078615, 0.42205625020073734, 0.6965861025775396, 0.9731417091798376, 0.16506029657006704, 0.35073274734283977, 0.8610217114709505, 0.9494525946364062, 0.4188907185473163, 0.2720392292483096]\n",
      "[0.4930006683854954, 0.19479520888833435, 0.37934327514015276, 0.4219267853253795, 0.6257372229984605, 0.7426973487455258, 0.7398614180113328, 0.9332480273196351, 0.3039248448990062, 0.5635478110988483]\n",
      "[0.2428568861035958, 0.9590738265882177, 0.7126927442888186, 0.7261707949731144, 0.08035915015179285, 0.7126531238889996, 0.6657589211527902, 0.43315683125101523, 0.7252289710009395, 0.013521700061103314]\n",
      "[0.10583171944886449, 0.8873411191489563, 0.0421614187058047, 0.7856413696136046, 0.8636564946004016, 0.5271843618170547, 0.32504106515139053, 0.4192298197176776, 0.5428065711566363, 0.23220396306673008]\n",
      "[0.36679141163304996, 0.8349552919399784, 0.7723414652141691, 0.755617689680494, 0.8633134511847387, 0.9830133819673876, 0.16236591539825407, 0.371770111101558, 0.041336296248147275, 0.0595680740118234]\n",
      "[0.38959467068994735, 0.9396313659681779, 0.44558715600448573, 0.15520065453094234, 0.7666108916559308, 0.25989121237803436, 0.5849674705177378, 0.9652627147918762, 0.8226254959504073, 0.7114474030951384]\n",
      "[0.9578232434847724, 0.6224173874062079, 0.06196385916076452, 0.010351648029110816, 0.21701359024461508, 0.3219216542207012, 0.4991651573656999, 0.8122718790857346, 0.9333129764373956, 0.49631936929280596]\n",
      "[0.79585879363131, 0.2402553295186376, 0.15385865573815294, 0.07297726869501675, 0.014962563933522799, 0.9635774465084629, 0.5133882425482926, 0.4260382217092813, 0.7244433965459794, 0.5416906589402333]\n",
      "[0.1895706166309109, 0.3116038564370389, 0.860811268082656, 0.38803698914544404, 0.39993925935969254, 0.6012909022996427, 0.32544367442134403, 0.7598939163421774, 0.5490354113637036, 0.3555043867968708]\n",
      "[0.19073631433262928, 0.45653655146231953, 0.9212219059203068, 0.26734385045791276, 0.9828545556137103, 0.4162092914747787, 0.7996934966454764, 0.9169693048644877, 0.06637240155796953, 0.13958161464609298]\n",
      "[0.852096269694528, 0.305091612458568, 0.3464686334884741, 0.062150956593748474, 0.22655764316968863, 0.5424907621887375, 0.4903351322571894, 0.386813659284336, 0.26594819175268825, 0.8183661729274622]\n",
      "[0.4022533535520504, 0.07984606753783496, 0.02871823046290134, 0.7817693156367737, 0.9013777675448512, 0.48532691894067814, 0.9804984307141855, 0.3815589853549607, 0.4135363611288637, 0.2956726902754401]\n",
      "[0.4546631494400061, 0.4205216961452085, 0.030622266523365638, 0.29526669831083185, 0.4233426727732169, 0.7958879881509459, 0.6114445263566978, 0.10406441748462791, 0.24271072074519107, 0.053714236453417]\n",
      "[0.6328331457370321, 0.8946073483373264, 0.3209026934066639, 0.03995633887453087, 0.8508590839488769, 0.11776614117985451, 0.39844042078591435, 0.8491832012848475, 0.392000842177503, 0.6752800713891646]\n",
      "[0.006057506080604069, 0.6925128521386462, 0.8709489641177511, 0.9706879275060176, 0.36104268011108576, 0.20361407169477463, 0.547345711865088, 0.5250388805300772, 0.623344843126491, 0.18188161050122653]\n",
      "[0.4019534082396853, 0.05304045234976251, 0.9720901911564837, 0.9546858032283282, 0.9173279653275394, 0.7628123949269001, 0.5267629714001599, 0.3850191772014462, 0.8356272255315783, 0.7863954368520504]\n",
      "[0.8144305698250413, 0.7820813996887758, 0.8991115589902945, 0.027225724888699232, 0.29623271583477184, 0.8265552255784613, 0.18254112912659726, 0.38963641864575427, 0.10751740082537342, 0.27893365830564665]\n",
      "[0.3340415616583938, 0.6726124862943507, 0.4971857257991589, 0.9608671717732719, 0.9298975945319864, 0.36139279317493345, 0.779915439301514, 0.12836181218586884, 0.36033776947023455, 0.8861739030905361]\n",
      "[0.5819491659510604, 0.9074321241805118, 0.832586270195923, 0.009804926347608767, 0.357432263182095, 0.6304956418502206, 0.6672709408334123, 0.659164027848844, 0.8403614390155567, 0.4076433563856927]\n",
      "[0.38485581087738374, 0.7154650681807787, 0.5161897811597048, 0.7560092486226985, 0.13268446984764493, 0.3682833688481276, 0.2515113432470657, 0.97089102282234, 0.10226616359511254, 0.5344146473079526]\n",
      "[0.138469004375817, 0.6648150503794309, 0.6665625726049601, 0.5119262022159847, 0.16513641840505067, 0.4196976082092716, 0.6282129261937375, 0.8129613020590203, 0.7178256484222829, 0.17665594368358406]\n",
      "[0.7984450715300083, 0.5010031348224511, 0.11764737006922543, 0.9518289832600814, 0.9574594576097721, 0.3076767348729549, 0.4932766125984587, 0.033275101147400066, 0.013390849114716885, 0.1830926055630525]\n",
      "[0.17641563951110828, 0.7687293436506406, 0.7532626324493374, 0.03615710342838374, 0.4523823229673586, 0.6062655726293491, 0.7112858853169965, 0.8415587139306088, 0.23275851133112158, 0.06251442428558962]\n",
      "[0.6629660342296368, 0.5340749630194408, 0.2153888557859761, 0.24332145753927859, 0.6742099164579187, 0.4319545840756629, 0.3250291911707668, 0.32014021616515076, 0.2304037381877998, 0.33197011170835533]\n",
      "[0.9671521613793497, 0.11607981998219119, 0.02781672213297348, 0.4900090080542304, 0.5262617255913455, 0.7158400480164412, 0.018833070333853508, 0.24482781127101572, 0.599454762817117, 0.2348763438564221]\n",
      "[0.5483381962569549, 0.8021068382691988, 0.08330721943331143, 0.37540427556555134, 0.12078034494277945, 0.00747523279038298, 0.5838622314170613, 0.5016356615637989, 0.8688837810488413, 0.2081337507990666]\n",
      "[0.13335904837939616, 0.7457905148713155, 0.5282544550689409, 0.33883103414620575, 0.7299545020903105, 0.7626956684058052, 0.9860385431895753, 0.03737611392033802, 0.45381448767962096, 0.743623284825551]\n",
      "[0.3223467309901549, 0.5744355256994309, 0.09135691899083709, 0.41506669152753817, 0.7469192424615014, 0.4818244360188947, 0.5623971667423523, 0.5138702692835857, 0.1953626555283483, 0.45611647734931116]\n",
      "[0.11318794545230859, 0.11376185157478402, 0.10919720403358413, 0.9021524652344479, 0.5294640437953833, 0.7925449374404189, 0.7159259810750224, 0.2969516740898063, 0.7884977400722503, 0.9019271424695834]\n",
      "[0.7899896574525018, 0.05023763916787871, 0.6476578480639433, 0.05079621419143021, 0.8270872665970742, 0.32883306419310376, 0.3199430919754328, 0.5930127700306494, 0.9966388522965381, 0.5677436294390545]\n",
      "[0.36839141038299206, 0.12084155390914586, 0.40625015132910725, 0.7200814545162693, 0.9687758788061136, 0.5206594578322813, 0.08125707948738659, 0.9841879630066398, 0.9039483872083808, 0.33643621872438834]\n",
      "[0.31013350793507743, 0.48166837519613415, 0.7633275603659498, 0.4413666900888148, 0.43695860678319265, 0.3171275639468546, 0.8430194998306796, 0.9929479921348362, 0.9016155750904818, 0.22060709201313355]\n",
      "[0.000459258710360122, 0.05827530104709877, 0.020282719125683912, 0.6858355552267635, 0.80295498797587, 0.7692688926081204, 0.7476768172895959, 0.08948554844978363, 0.8732267230564636, 0.028764885060784673]\n",
      "[0.29116166742479954, 0.7958903737500158, 0.992749955957417, 0.6479321596827375, 0.6640556336242992, 0.6835299493091516, 0.942652202876078, 0.8676044178433321, 0.2088192696033564, 0.005791334089866873]\n",
      "[0.7734514467196637, 0.9880844109049248, 0.312078444917109, 0.5026135709896105, 0.33698410815102287, 0.5315211262823409, 0.21421604723793475, 0.17069647823804301, 0.4993687571396189, 0.7162434799827416]\n",
      "[0.6417546852346151, 0.0626522058996396, 0.27904659705504864, 0.8730190083212468, 0.6768340971625595, 0.3661734477439519, 0.1506029216470839, 0.6708771097642677, 0.5074066419085249, 0.1878182446552179]\n",
      "[0.7395351612559037, 0.40112771595026275, 0.550962977504703, 0.8873317596774487, 0.9078071754049579, 0.1583782683652114, 0.087165989118139, 0.08001917928682467, 0.35101054377530083, 0.6682987169574108]\n",
      "[0.988053343416126, 0.3125079277335978, 0.7307263504777025, 0.06669161099313026, 0.29350717335599474, 0.21456847035410276, 0.2273196355059114, 0.5477436988206585, 0.039397987754120734, 0.27659577089162757]\n",
      "[0.5734482466728892, 0.32368879598455735, 0.9921821027055943, 0.8619767258174087, 0.4428815567916843, 0.22719667019903234, 0.5469476211223764, 0.34502242173766573, 0.26006554732069675, 0.5782207236863275]\n",
      "[0.16626170679724228, 0.6791479942257648, 0.8692003995615479, 0.7490205460614189, 0.42625096027169807, 0.31962122211231137, 0.29454586014979145, 0.3308323392452506, 0.36121461072764127, 0.17474593652238968]\n",
      "[0.8586169159643363, 0.8908576253859428, 0.9872037312939217, 0.8796436437499533, 0.5090330738380611, 0.6795830520704443, 0.6695849820569049, 0.6909210419736567, 0.8987258448594547, 0.6296839052930394]\n",
      "[0.2784013918046996, 0.018306426347145743, 0.03910140592305511, 0.5933326548049866, 0.41232886143321323, 0.09883766214431067, 0.44132714474164914, 0.7065955017424451, 0.4576782905752613, 0.6895107379049757]\n",
      "[0.6797719910943287, 0.1733158127097042, 0.09811465934930463, 0.8139522400767631, 0.0554184558111831, 0.14979276334337766, 0.9585711015756958, 0.23437604978189197, 0.8715648292903875, 0.23573573226130906]\n",
      "[0.7548703205443918, 0.16863671309486084, 0.15468534772871734, 0.9758328773135784, 0.2603983425790215, 0.6133373275115226, 0.3487119385927585, 0.22063363142819792, 0.4854752485386491, 0.7341867015287554]\n",
      "[0.5135405078644092, 0.15496976717206068, 0.9135349328577009, 0.2617042437095052, 0.9313122730348055, 0.0626115410282222, 0.24561560919868808, 0.35395418306979176, 0.5833293689563919, 0.7809587128369914]\n",
      "[0.6165677566419876, 0.4544853821808481, 0.1732392087896485, 0.9667537520086918, 0.17411066947578147, 0.28344845111167605, 0.9314295840667165, 0.9437461387899425, 0.08755862021679295, 0.44186122088593616]\n",
      "[0.3289703020608321, 0.886769504716467, 0.957206508211629, 0.7867801969579343, 0.6053115856504113, 0.09383525837349982, 0.9874652755343121, 0.42595224553764477, 0.8210010080690893, 0.03098041381891592]\n",
      "[0.42756115583390364, 0.4019633344010547, 0.44042684833790646, 0.20638729901972164, 0.9259032576313326, 0.974025260277716, 0.7166066436749546, 0.19978075877399226, 0.9680589346365853, 0.5873605291855502]\n",
      "[0.380750373667217, 0.3845558539451043, 0.7321847873077069, 0.10423357879570194, 0.32050476018568264, 0.13813221090760874, 0.9518687032078856, 0.5887723200156467, 0.41488582914389627, 0.6847938344894426]\n",
      "[0.026715414550700478, 0.3079168804216632, 0.6330128709758591, 0.7975029626533695, 0.9947562920674902, 0.550391394402485, 0.4463640572542903, 0.8701913753198364, 0.45541881634636827, 0.10962910506694212]\n",
      "[0.7766691576617802, 0.5271934002524786, 0.1097151726261234, 0.38846004999553085, 0.45082266753564937, 0.3445363367724493, 0.43009620399837434, 0.2020321477585183, 0.06471708617951544, 0.13699443742122808]\n",
      "[0.4135314641386564, 0.9403341969518956, 0.3162367882947621, 0.754652899057833, 0.9895382244098968, 0.06808681859197907, 0.6268054181254404, 0.6525250808113287, 0.7332048614748963, 0.3581020648566171]\n",
      "[0.23242365028497847, 0.22923632380907966, 0.8671527842622486, 0.8521722357444688, 0.08457920592659274, 0.6002924411321569, 0.27563969281069456, 0.5709843290056189, 0.45889669386125786, 0.2084550663369753]\n",
      "[0.4930177178460323, 0.5519999776819677, 0.24059412954809634, 0.9189278016327818, 0.5306777282794527, 0.9200801476232671, 0.48304166788111136, 0.8070409902729894, 0.4347292350664256, 0.6642231062192404]\n",
      "[0.42674580459028866, 0.352154030932872, 0.7805189352888069, 0.865846723162697, 0.7511990957448685, 0.9611990633578397, 0.32654362592544295, 0.45059522559686416, 0.8113713829640696, 0.906993891188961]\n",
      "[0.515239488012615, 0.6730929796575496, 0.43143414691855275, 0.2884472852226835, 0.871237953691975, 0.9822949097084045, 0.585671183135983, 0.2129094758865947, 0.2272491875617232, 0.1804947515243288]\n",
      "[0.8383167306667503, 0.5225012896365345, 0.4474262152532751, 0.8778716601767975, 0.19950570942137846, 0.4538593954245994, 0.7271192166739858, 0.15676228261063285, 0.5620227724606559, 0.46257960591979996]\n",
      "[0.8048498902281652, 0.3349090203503764, 0.7511269275467332, 0.325648124961324, 0.7526474996296085, 0.17256985029976735, 0.48347751552057183, 0.8834936681496158, 0.27929702829039094, 0.4688715181394961]\n",
      "[0.965437026151416, 0.5333592805542705, 0.18908280658553533, 0.5857022635466839, 0.17969717602394253, 0.6183949892444803, 0.11943549083246019, 0.8686073958081094, 0.6580656466792555, 0.4908615480237025]\n",
      "[0.6330151098942968, 0.803431477619962, 0.1613823384716192, 0.6449752333053715, 0.7589009665566055, 0.5868142919872984, 0.2492955603840552, 0.46802611708852415, 0.8565741206868561, 0.4638487286680525]\n",
      "[0.922448431811759, 0.6852072745301734, 0.20750465966052756, 0.5500794094530813, 0.9937262359001277, 0.9646202024076327, 0.9679232746177583, 0.1407158324701162, 0.5517122240576553, 0.03785747032405984]\n",
      "[0.23791295647143584, 0.02920081704992883, 0.9736292804797677, 0.7462502539032134, 0.2174574402237761, 0.33566566278484034, 0.6758405905847786, 0.19805533945823817, 0.5213761968354563, 0.8909041013852639]\n",
      "[0.21764794167278512, 0.5105025814370192, 0.49849064560552137, 0.5092670264238908, 0.6549711036579902, 0.8111152450502365, 0.04847795162164126, 0.41444641898193135, 0.7943122695905145, 0.09001820354529066]\n",
      "[0.9837724940656412, 0.78569389033909, 0.960078782509172, 0.38393902832936966, 0.07175866375400919, 0.7144366572586727, 0.8829631852400123, 0.5048049834530073, 0.6918536686874879, 0.14070781210799888]\n",
      "[0.20923324600516513, 0.8591166099633326, 0.8051936939816846, 0.8433501933394149, 0.6675758978952362, 0.6666618056976129, 0.2601850811543083, 0.23397801010174213, 0.634571382946603, 0.8468540341821308]\n",
      "[0.053979755496043724, 0.45508267490856635, 0.61868244682478, 0.8293311066950949, 0.003542120042796748, 0.775910033506711, 0.41530296154668966, 0.2014229480265205, 0.14342775651018425, 0.9504805672791031]\n",
      "[0.9923944047709703, 0.47251000995747894, 0.5005839601352974, 0.6641132893084372, 0.5634795754544534, 0.3367512946892972, 0.7962135667757431, 0.7704184497411566, 0.5750484056299876, 0.49330814164431236]\n",
      "[0.6350657376229825, 0.9423590993051024, 0.654468567789148, 0.9837463891707001, 0.48635891802025855, 0.06450064130856481, 0.29852479423932, 0.053660343940466926, 0.19803152714554817, 0.6348853459651218]\n",
      "[0.744582683387198, 0.683865977678965, 0.4316690526338308, 0.8707599256716022, 0.3668531539003951, 0.6600367033021143, 0.06931358768183205, 0.7981004368795523, 0.095064310861247, 0.9467530967864122]\n",
      "[0.8183135008718545, 0.0042441272371837035, 0.39713961151215194, 0.8899957958120454, 0.7554896083844946, 0.9282845737329245, 0.3907649335464929, 0.704814474119806, 0.5038247893247607, 0.9966387533713527]\n",
      "[0.5299433606463861, 0.6383998695216739, 0.41405239694857054, 0.556029073542476, 0.059430665435300845, 0.407411295437036, 0.037524736880472975, 0.029519188826438225, 0.572734206566108, 0.9979423682347632]\n",
      "[0.16262204364000066, 0.11131645768308229, 0.7562074830302529, 0.6021916278693392, 0.8070856582621867, 0.6867044873806334, 0.42501418597457463, 0.03646652180619936, 0.5504860110928557, 0.3287002400288995]\n",
      "[0.15238787764469452, 0.19068148456338363, 0.27703698561372136, 0.5389045309080498, 0.9322824693185457, 0.2723586069969339, 0.37289035817445415, 0.33014028016670827, 0.32361831348006653, 0.4107891718514146]\n",
      "[0.30115992855189067, 0.6654306306328343, 0.10154078548215273, 0.6227857756399744, 0.5588214012380064, 0.25041641851098495, 0.3875962744142547, 0.9757908806410522, 0.18856917119012273, 0.7087397712061343]\n",
      "[0.8591626144674794, 0.2717499857346545, 0.4315358575688243, 0.4610156871192237, 0.17048264262838542, 0.8267847465943383, 0.7161381065691683, 0.09041722388316176, 0.7576529001094069, 0.7209904991248268]\n",
      "[0.49578364228945593, 0.7651269590360369, 0.40524926876815115, 0.7371162115479382, 0.3876888572078151, 0.22999113484533595, 0.46521663187454454, 0.31615843896899043, 0.5042252827353892, 0.6996219428849308]\n",
      "[0.4247766063209045, 0.21695051554908495, 0.9089480112786402, 0.4825192299848682, 0.7767837404658644, 0.5301460519290457, 0.4339748662149875, 0.0330994930962869, 0.5708763689652356, 0.9218935875807771]\n",
      "[0.6923230555537666, 0.2982080862366524, 0.06709988815687407, 0.8529660698292681, 0.6006967090382647, 0.665567683718924, 0.29501683393534983, 0.3929713791077154, 0.28525679267563453, 0.3833512169867953]\n",
      "[0.13755871657985097, 0.7142537920306249, 0.6382352735873823, 0.13539609678647535, 0.4420881570683648, 0.548666415972323, 0.0554381207702096, 0.975678376458451, 0.4638676653763272, 0.18935938832583699]\n",
      "[0.6548411264951051, 0.12930316562196753, 0.8107044262195797, 0.9563071525945037, 0.5134073542852621, 0.319872745210783, 0.7733344748683317, 0.4382008790654335, 0.7044624668177121, 0.18502067178325554]\n",
      "[0.02852606366621624, 0.2991596785563885, 0.5453948343465749, 0.8221077071613151, 0.38943638151401294, 0.27056215769094394, 0.7277369280908629, 0.4235946974369661, 0.5448291306805616, 0.14826954473787435]\n"
     ]
    }
   ],
   "source": [
    "head = []\n",
    "def run_binom():\n",
    "    for n in range(1000):\n",
    "        A = [np.random.random() for i in range(10)]\n",
    "        print(A)\n",
    "        head.append(len([m for m in A if m >= 0.50]))\n",
    "run_binom()"
   ]
  },
  {
   "cell_type": "code",
   "execution_count": 389,
   "id": "60091ce1-b96d-4eea-9359-e3e9329a7add",
   "metadata": {},
   "outputs": [
    {
     "name": "stderr",
     "output_type": "stream",
     "text": [
      "C:\\Users\\asus\\AppData\\Local\\Temp\\ipykernel_4552\\1791280965.py:3: UserWarning: \n",
      "\n",
      "`distplot` is a deprecated function and will be removed in seaborn v0.14.0.\n",
      "\n",
      "Please adapt your code to use either `displot` (a figure-level function with\n",
      "similar flexibility) or `histplot` (an axes-level function for histograms).\n",
      "\n",
      "For a guide to updating your code to use the new functions, please see\n",
      "https://gist.github.com/mwaskom/de44147ed2974457ad6372750bbe5751\n",
      "\n",
      "  sns.distplot(head, bins=11, label='simulation results')\n"
     ]
    },
    {
     "data": {
      "text/plain": [
       "Text(0, 0.5, 'Frequency')"
      ]
     },
     "execution_count": 389,
     "metadata": {},
     "output_type": "execute_result"
    },
    {
     "data": {
      "image/png": "[encoded data removed]",
      "text/plain": [
       "<Figure size 1400x700 with 1 Axes>"
      ]
     },
     "metadata": {},
     "output_type": "display_data"
    }
   ],
   "source": [
    "import matplotlib.pyplot as plt\n",
    "fig, ax = plt.subplots(figsize=(14,7))\n",
    "sns.distplot(head, bins=11, label='simulation results')\n",
    "\n",
    "ax.set_xlabel(\"Number of Heads\",fontsize=16)\n",
    "ax.set_ylabel(\"Frequency\",fontsize=16)\n"
   ]
  },
  {
   "cell_type": "code",
   "execution_count": 391,
   "id": "a9dc4e96-5f20-4803-8945-727c5b9ae35b",
   "metadata": {},
   "outputs": [
    {
     "data": {
      "text/plain": [
       "0.2507"
      ]
     },
     "execution_count": 391,
     "metadata": {},
     "output_type": "execute_result"
    }
   ],
   "source": [
    "sum(1 for i in np.random.binomial(10, 0.5, 10000) if i == 5)/10000"
   ]
  },
  {
   "cell_type": "code",
   "execution_count": null,
   "id": "7105e17b-fc62-4e4c-821e-48c5c03f013d",
   "metadata": {},
   "outputs": [],
   "source": []
  },
  {
   "cell_type": "code",
   "execution_count": null,
   "id": "9350c6c0-75f8-400b-b656-96db129705f3",
   "metadata": {},
   "outputs": [],
   "source": []
  }
 ],
 "metadata": {
  "kernelspec": {
   "display_name": "Python 3 (ipykernel)",
   "language": "python",
   "name": "python3"
  },
  "language_info": {
   "codemirror_mode": {
    "name": "ipython",
    "version": 3
   },
   "file_extension": ".py",
   "mimetype": "text/x-python",
   "name": "python",
   "nbconvert_exporter": "python",
   "pygments_lexer": "ipython3",
   "version": "3.12.4"
  }
 },
 "nbformat": 4,
 "nbformat_minor": 5
}
