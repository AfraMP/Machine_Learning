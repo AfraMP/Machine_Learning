{
 "cells": [
  {
   "cell_type": "code",
   "execution_count": 1,
   "id": "f14fc77a-113e-48d0-9fff-694b12ef124c",
   "metadata": {},
   "outputs": [],
   "source": [
    "import numpy as np"
   ]
  },
  {
   "cell_type": "code",
   "execution_count": 15,
   "id": "cf9c9f7f-ec95-4b3f-9ef7-b06b6c34acec",
   "metadata": {},
   "outputs": [
    {
     "data": {
      "text/plain": [
       "array([1, 2, 3, 4])"
      ]
     },
     "execution_count": 15,
     "metadata": {},
     "output_type": "execute_result"
    }
   ],
   "source": [
    "lst =  np.array([1, 2, 3, 4])\n",
    "lst"
   ]
  },
  {
   "cell_type": "code",
   "execution_count": 17,
   "id": "9ac0912f-b86b-473f-9c8f-5f8afdaa9074",
   "metadata": {},
   "outputs": [
    {
     "data": {
      "text/plain": [
       "numpy.ndarray"
      ]
     },
     "execution_count": 17,
     "metadata": {},
     "output_type": "execute_result"
    }
   ],
   "source": [
    "type(lst)"
   ]
  },
  {
   "cell_type": "code",
   "execution_count": 19,
   "id": "cc641a83-d108-4d80-b14c-dae367d5c167",
   "metadata": {},
   "outputs": [
    {
     "data": {
      "text/plain": [
       "(4,)"
      ]
     },
     "execution_count": 19,
     "metadata": {},
     "output_type": "execute_result"
    }
   ],
   "source": [
    "lst.shape"
   ]
  },
  {
   "cell_type": "code",
   "execution_count": 21,
   "id": "73bd74df-4ef5-46fa-968b-c5feaf45b6e7",
   "metadata": {},
   "outputs": [
    {
     "data": {
      "text/plain": [
       "array([[1, 2],\n",
       "       [3, 4]])"
      ]
     },
     "execution_count": 21,
     "metadata": {},
     "output_type": "execute_result"
    }
   ],
   "source": [
    "lst.reshape(2, 2)"
   ]
  },
  {
   "cell_type": "code",
   "execution_count": 33,
   "id": "8902a85a-6bbf-4545-8591-bc4611613ad4",
   "metadata": {},
   "outputs": [
    {
     "data": {
      "text/plain": [
       "array([[[[[ 1, 23,  4]]]]])"
      ]
     },
     "execution_count": 33,
     "metadata": {},
     "output_type": "execute_result"
    }
   ],
   "source": [
    "np.array([[1, 23, 4]], ndmin = 5)"
   ]
  },
  {
   "cell_type": "code",
   "execution_count": 37,
   "id": "efbb7350-6562-48ba-aaa6-a9a572be2a1d",
   "metadata": {},
   "outputs": [
    {
     "data": {
      "text/plain": [
       "array([12.+2.j,  3.+0.j])"
      ]
     },
     "execution_count": 37,
     "metadata": {},
     "output_type": "execute_result"
    }
   ],
   "source": [
    "np.array([12+2j, 3], dtype =complex)"
   ]
  },
  {
   "cell_type": "code",
   "execution_count": 41,
   "id": "f8dbd501-822f-441f-8c91-746c3e9098d3",
   "metadata": {},
   "outputs": [
    {
     "data": {
      "text/plain": [
       "array([12,  3], dtype=int64)"
      ]
     },
     "execution_count": 41,
     "metadata": {},
     "output_type": "execute_result"
    }
   ],
   "source": [
    "np.array([12, 3], dtype ='int64')"
   ]
  },
  {
   "cell_type": "code",
   "execution_count": 45,
   "id": "80882bf1-3761-41b8-96c6-208efe6979f1",
   "metadata": {},
   "outputs": [
    {
     "data": {
      "text/plain": [
       "array([12.,  3.], dtype=float32)"
      ]
     },
     "execution_count": 45,
     "metadata": {},
     "output_type": "execute_result"
    }
   ],
   "source": [
    "np.array([12, 3], dtype =np.float32)"
   ]
  },
  {
   "cell_type": "code",
   "execution_count": 57,
   "id": "21aea8af-c579-4fed-961b-ab2bea619500",
   "metadata": {},
   "outputs": [
    {
     "data": {
      "text/plain": [
       "array([( 12,  12), (355, 355)], dtype=[('a', '<i2'), ('b', '<i8')])"
      ]
     },
     "execution_count": 57,
     "metadata": {},
     "output_type": "execute_result"
    }
   ],
   "source": [
    "np.array([12, 355], dtype =[('a', '<i2'), ('b', '<i8')]) # 2*8 -16 (little indian) and 8*8 - 64 (big indian): btween 16 - 64 bit 'a' -zero treminated byte, 'b' -byte"
   ]
  },
  {
   "cell_type": "code",
   "execution_count": 67,
   "id": "5f151d02-d758-439b-a6ab-83e700d0387a",
   "metadata": {},
   "outputs": [
    {
     "data": {
      "text/plain": [
       "array([[  1,  23,   4],\n",
       "       [ 13,  56,   8],\n",
       "       [657,   7,   9],\n",
       "       [ 45,   7,   8]])"
      ]
     },
     "execution_count": 67,
     "metadata": {},
     "output_type": "execute_result"
    }
   ],
   "source": [
    "n  =np.array([[1, 23, 4], [13, 56, 8], [657, 7, 9], [45, 7 ,8]])\n",
    "n"
   ]
  },
  {
   "cell_type": "code",
   "execution_count": 99,
   "id": "ea4fa0a2-22ce-43a2-b185-7425e03c87c4",
   "metadata": {},
   "outputs": [
    {
     "data": {
      "text/plain": [
       "array([[ 1,  4],\n",
       "       [45,  8]])"
      ]
     },
     "execution_count": 99,
     "metadata": {},
     "output_type": "execute_result"
    }
   ],
   "source": [
    "n[[0, 3],0::2]"
   ]
  },
  {
   "cell_type": "code",
   "execution_count": 101,
   "id": "e8fb0042-017c-4009-a473-1b1ee68f17b7",
   "metadata": {},
   "outputs": [
    {
     "data": {
      "text/plain": [
       "matrix([[1, 2, 3]])"
      ]
     },
     "execution_count": 101,
     "metadata": {},
     "output_type": "execute_result"
    }
   ],
   "source": [
    "np.mat([1,2 ,3])"
   ]
  },
  {
   "cell_type": "code",
   "execution_count": 108,
   "id": "ce70c26d-6f2a-4fd3-a035-fe8352c81474",
   "metadata": {},
   "outputs": [],
   "source": [
    "d = np.mat(n)"
   ]
  },
  {
   "cell_type": "code",
   "execution_count": 110,
   "id": "f90854e5-0e4d-4985-91c6-33d22e765ff7",
   "metadata": {},
   "outputs": [
    {
     "data": {
      "text/plain": [
       "array([[  1,  23,   4],\n",
       "       [ 13,  56,   8],\n",
       "       [657,   7,   9],\n",
       "       [ 45,   7,   8]])"
      ]
     },
     "execution_count": 110,
     "metadata": {},
     "output_type": "execute_result"
    }
   ],
   "source": [
    "np.array(d)"
   ]
  },
  {
   "cell_type": "code",
   "execution_count": 112,
   "id": "720b76ad-3654-4234-b43f-7b749a9b5fe6",
   "metadata": {},
   "outputs": [
    {
     "data": {
      "text/plain": [
       "True"
      ]
     },
     "execution_count": 112,
     "metadata": {},
     "output_type": "execute_result"
    }
   ],
   "source": [
    "issubclass(np.matrix, np.ndarray)"
   ]
  },
  {
   "cell_type": "code",
   "execution_count": 114,
   "id": "86180c31-59b8-4cba-9045-6684cebf1c9e",
   "metadata": {},
   "outputs": [
    {
     "data": {
      "text/plain": [
       "matrix([[1, 2],\n",
       "        [3, 4]])"
      ]
     },
     "execution_count": 114,
     "metadata": {},
     "output_type": "execute_result"
    }
   ],
   "source": [
    "np.mat('1 2; 3 4')"
   ]
  },
  {
   "cell_type": "code",
   "execution_count": 120,
   "id": "c52ec8bb-2dc6-442e-9b1d-bce8e1cca4be",
   "metadata": {},
   "outputs": [],
   "source": [
    "arr = np.asarray([1, 2,3 ])\n",
    "arr2 = np.asarray([23,  4, 5])\n",
    "arr3 = np.asarray([1, 2,3 ])"
   ]
  },
  {
   "cell_type": "code",
   "execution_count": 118,
   "id": "faa6867e-dc28-42f0-991b-cd5d98546826",
   "metadata": {},
   "outputs": [
    {
     "data": {
      "text/plain": [
       "False"
      ]
     },
     "execution_count": 118,
     "metadata": {},
     "output_type": "execute_result"
    }
   ],
   "source": [
    "arr is arr2 # diff address"
   ]
  },
  {
   "cell_type": "code",
   "execution_count": 124,
   "id": "d801c350-49c5-4057-872b-c8534ad13b9a",
   "metadata": {},
   "outputs": [
    {
     "data": {
      "text/plain": [
       "False"
      ]
     },
     "execution_count": 124,
     "metadata": {},
     "output_type": "execute_result"
    }
   ],
   "source": [
    "arr = np.array([1, 2,3 ])\n",
    "arr2 = np.array([23,  4, 5])\n",
    "arr3 = np.array([1, 2,3 ])\n",
    "arr is arr3"
   ]
  },
  {
   "cell_type": "code",
   "execution_count": 130,
   "id": "4e0b2424-cb00-460f-855a-14c9dd4bf0c7",
   "metadata": {},
   "outputs": [
    {
     "data": {
      "text/plain": [
       "True"
      ]
     },
     "execution_count": 130,
     "metadata": {},
     "output_type": "execute_result"
    }
   ],
   "source": [
    "a = 10\n",
    "b=10\n",
    "a is b"
   ]
  },
  {
   "cell_type": "code",
   "execution_count": 134,
   "id": "2051ee9f-28cb-457f-8f1a-e613764c8be4",
   "metadata": {},
   "outputs": [
    {
     "data": {
      "text/plain": [
       "array([22,  2,  3])"
      ]
     },
     "execution_count": 134,
     "metadata": {},
     "output_type": "execute_result"
    }
   ],
   "source": [
    "arr2 = arr\n",
    "arr2[0] = 22\n",
    "arr"
   ]
  },
  {
   "cell_type": "code",
   "execution_count": 136,
   "id": "cefd90fe-19f7-4d4a-a523-e3d11ce5438a",
   "metadata": {},
   "outputs": [
    {
     "data": {
      "text/plain": [
       "array([22,  2,  3])"
      ]
     },
     "execution_count": 136,
     "metadata": {},
     "output_type": "execute_result"
    }
   ],
   "source": [
    "arr2 = arr.copy() # deep copy\n",
    "arr2[2] =0\n",
    "arr"
   ]
  },
  {
   "cell_type": "code",
   "execution_count": 140,
   "id": "9bf32870-e4a5-43e0-beef-f32812f22d99",
   "metadata": {},
   "outputs": [
    {
     "data": {
      "text/plain": [
       "False"
      ]
     },
     "execution_count": 140,
     "metadata": {},
     "output_type": "execute_result"
    }
   ],
   "source": [
    "a = 370\n",
    "b= 370\n",
    "a is b"
   ]
  },
  {
   "cell_type": "code",
   "execution_count": 142,
   "id": "4bf567e7-3285-4d69-84f2-9d1296427ab9",
   "metadata": {},
   "outputs": [
    {
     "data": {
      "text/plain": [
       "array([1, 2, 3])"
      ]
     },
     "execution_count": 142,
     "metadata": {},
     "output_type": "execute_result"
    }
   ],
   "source": [
    "np.asanyarray([1,2,3])"
   ]
  },
  {
   "cell_type": "code",
   "execution_count": 144,
   "id": "e0ab7593-c14d-4f81-9c24-c732ef5a0116",
   "metadata": {},
   "outputs": [
    {
     "data": {
      "text/plain": [
       "array([[ True, False, False],\n",
       "       [False,  True, False],\n",
       "       [False, False,  True]])"
      ]
     },
     "execution_count": 144,
     "metadata": {},
     "output_type": "execute_result"
    }
   ],
   "source": [
    "np.fromfunction(lambda x , y: x==y, (3, 3), dtype=int)"
   ]
  },
  {
   "cell_type": "code",
   "execution_count": 146,
   "id": "1e71bffb-ebab-41f2-b4b2-cbf7ac922b24",
   "metadata": {},
   "outputs": [
    {
     "data": {
      "text/plain": [
       "array([[0, 0, 0],\n",
       "       [0, 1, 2],\n",
       "       [0, 2, 4]])"
      ]
     },
     "execution_count": 146,
     "metadata": {},
     "output_type": "execute_result"
    }
   ],
   "source": [
    "np.fromfunction(lambda x , y: x*y, (3, 3), dtype=int)"
   ]
  },
  {
   "cell_type": "code",
   "execution_count": 150,
   "id": "54a53058-c154-4f8d-9459-c9f6d53cb696",
   "metadata": {},
   "outputs": [
    {
     "data": {
      "text/plain": [
       "array([1, 2, 3])"
      ]
     },
     "execution_count": 150,
     "metadata": {},
     "output_type": "execute_result"
    }
   ],
   "source": [
    "np.arange(1, 4, 1)"
   ]
  },
  {
   "cell_type": "code",
   "execution_count": 156,
   "id": "064edb5c-bbd4-4cc1-bf9b-424f55cd34f5",
   "metadata": {},
   "outputs": [
    {
     "data": {
      "text/plain": [
       "(array([1. , 1.3, 1.6, 1.9, 2.2, 2.5, 2.8, 3.1, 3.4, 3.7]), 0.3)"
      ]
     },
     "execution_count": 156,
     "metadata": {},
     "output_type": "execute_result"
    }
   ],
   "source": [
    "np.linspace(1 , 4, 10, retstep=True, endpoint=False)"
   ]
  },
  {
   "cell_type": "code",
   "execution_count": 166,
   "id": "947d3f8f-7087-4774-b244-9c858e88fe7e",
   "metadata": {},
   "outputs": [
    {
     "data": {
      "text/plain": [
       "array([  100000.        ,   316227.76601684,  1000000.        ,\n",
       "        3162277.66016838, 10000000.        ])"
      ]
     },
     "execution_count": 166,
     "metadata": {},
     "output_type": "execute_result"
    }
   ],
   "source": [
    "np.logspace(5, 7, 5)"
   ]
  },
  {
   "cell_type": "code",
   "execution_count": 170,
   "id": "fdc0ff25-18a7-4399-be4e-6d972858568d",
   "metadata": {},
   "outputs": [
    {
     "data": {
      "text/plain": [
       "array([1, 4])"
      ]
     },
     "execution_count": 170,
     "metadata": {},
     "output_type": "execute_result"
    }
   ],
   "source": [
    "np.diag([[1, 2], [3, 4]])"
   ]
  },
  {
   "cell_type": "code",
   "execution_count": 172,
   "id": "9ed9b021-f7b2-4f7b-add7-90fe0b93035e",
   "metadata": {},
   "outputs": [
    {
     "data": {
      "text/plain": [
       "array([[1, 0, 0, 0],\n",
       "       [0, 2, 0, 0],\n",
       "       [0, 0, 3, 0],\n",
       "       [0, 0, 0, 4]])"
      ]
     },
     "execution_count": 172,
     "metadata": {},
     "output_type": "execute_result"
    }
   ],
   "source": [
    "np.diagflat([[1, 2], [3, 4]])"
   ]
  },
  {
   "cell_type": "code",
   "execution_count": 174,
   "id": "e550e8cb-9a63-4b13-8468-88dc2b6a781c",
   "metadata": {},
   "outputs": [
    {
     "data": {
      "text/plain": [
       "array([3])"
      ]
     },
     "execution_count": 174,
     "metadata": {},
     "output_type": "execute_result"
    }
   ],
   "source": [
    "np.diag([[1, 2], [3, 4]], k=-1)"
   ]
  },
  {
   "cell_type": "code",
   "execution_count": 176,
   "id": "abe8b80e-cc38-4f47-ba57-98acd281a7be",
   "metadata": {},
   "outputs": [
    {
     "data": {
      "text/plain": [
       "array([[1., 1., 0., 0.],\n",
       "       [1., 1., 1., 0.],\n",
       "       [1., 1., 1., 1.]])"
      ]
     },
     "execution_count": 176,
     "metadata": {},
     "output_type": "execute_result"
    }
   ],
   "source": [
    "np.tri(3, 4, 1)"
   ]
  },
  {
   "cell_type": "code",
   "execution_count": 178,
   "id": "6527d085-a54c-4f56-90fa-e23c8c424ebb",
   "metadata": {},
   "outputs": [],
   "source": [
    "n = np.array([1, 2, 3])"
   ]
  },
  {
   "cell_type": "code",
   "execution_count": 180,
   "id": "d755c94a-0498-4b09-930e-e6a1b6e0f2c3",
   "metadata": {},
   "outputs": [
    {
     "data": {
      "text/plain": [
       "array([3])"
      ]
     },
     "execution_count": 180,
     "metadata": {},
     "output_type": "execute_result"
    }
   ],
   "source": [
    "n[n>2]"
   ]
  },
  {
   "cell_type": "code",
   "execution_count": 184,
   "id": "b14a5aa5-23f7-4b57-9cc9-e3d5b913543d",
   "metadata": {},
   "outputs": [
    {
     "data": {
      "text/plain": [
       "array([[0.09166618, 0.87736785, 0.39411209, 0.63945154],\n",
       "       [0.24679141, 0.93899349, 0.2987884 , 0.36067974],\n",
       "       [0.86332635, 0.74595563, 0.59525199, 0.21781655]])"
      ]
     },
     "execution_count": 184,
     "metadata": {},
     "output_type": "execute_result"
    }
   ],
   "source": [
    "# random Number\n",
    "# uniform distribution\n",
    "np.random.rand(3, 4)"
   ]
  },
  {
   "cell_type": "code",
   "execution_count": 186,
   "id": "46e6a926-b376-43e0-8608-758e999e8ee4",
   "metadata": {},
   "outputs": [
    {
     "data": {
      "text/plain": [
       "array([[-0.40285416,  2.15233633,  0.29448191,  0.04310718],\n",
       "       [-0.24764493,  1.01732135,  1.53437185,  0.20230089],\n",
       "       [-0.42161542,  0.94372974, -0.22959498,  0.6592859 ]])"
      ]
     },
     "execution_count": 186,
     "metadata": {},
     "output_type": "execute_result"
    }
   ],
   "source": [
    "# standard normal distribution\n",
    "np.random.randn(3,4 )"
   ]
  },
  {
   "cell_type": "code",
   "execution_count": 190,
   "id": "94f9b88a-cc9e-4113-9cd0-1c8c733a339d",
   "metadata": {},
   "outputs": [
    {
     "data": {
      "text/plain": [
       "array([3, 9])"
      ]
     },
     "execution_count": 190,
     "metadata": {},
     "output_type": "execute_result"
    }
   ],
   "source": [
    "np.random.randint(3, 10, 2)"
   ]
  },
  {
   "cell_type": "code",
   "execution_count": 196,
   "id": "dde02acf-38e2-4092-b5d2-50336d8e5203",
   "metadata": {},
   "outputs": [
    {
     "data": {
      "text/plain": [
       "array([[1, 2, 3]])"
      ]
     },
     "execution_count": 196,
     "metadata": {},
     "output_type": "execute_result"
    }
   ],
   "source": [
    "n.reshape(1, -2223233)"
   ]
  },
  {
   "cell_type": "code",
   "execution_count": 202,
   "id": "181748da-ac11-4b8e-ab93-157edfe66c61",
   "metadata": {},
   "outputs": [
    {
     "data": {
      "text/plain": [
       "array([ 2,  3, 22])"
      ]
     },
     "execution_count": 202,
     "metadata": {},
     "output_type": "execute_result"
    }
   ],
   "source": [
    "np.sort(arr, kind='merge')"
   ]
  },
  {
   "cell_type": "code",
   "execution_count": null,
   "id": "383aa2cf-162a-4a47-96e1-cdc620b1b82c",
   "metadata": {},
   "outputs": [],
   "source": []
  }
 ],
 "metadata": {
  "kernelspec": {
   "display_name": "Python 3 (ipykernel)",
   "language": "python",
   "name": "python3"
  },
  "language_info": {
   "codemirror_mode": {
    "name": "ipython",
    "version": 3
   },
   "file_extension": ".py",
   "mimetype": "text/x-python",
   "name": "python",
   "nbconvert_exporter": "python",
   "pygments_lexer": "ipython3",
   "version": "3.12.4"
  }
 },
 "nbformat": 4,
 "nbformat_minor": 5
}
