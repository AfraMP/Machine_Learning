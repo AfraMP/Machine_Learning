{
 "cells": [
  {
   "cell_type": "code",
   "execution_count": 89,
   "id": "945477d2-cf01-4283-bfdc-371d068c95e5",
   "metadata": {},
   "outputs": [],
   "source": [
    "import sqlite3\n",
    "db = sqlite3.connect('company.db')"
   ]
  },
  {
   "cell_type": "code",
   "execution_count": 77,
   "id": "6e51b40e-a4db-4602-ab88-62aee6df8321",
   "metadata": {},
   "outputs": [
    {
     "data": {
      "text/plain": [
       "<sqlite3.Cursor at 0x1437f7329c0>"
      ]
     },
     "execution_count": 77,
     "metadata": {},
     "output_type": "execute_result"
    }
   ],
   "source": [
    "cursor = db.cursor()\n",
    "cursor.execute('CREATE TABLE company1(ID int, Name  text, Age text, Address text, Salary real)')"
   ]
  },
  {
   "cell_type": "code",
   "execution_count": 79,
   "id": "5ce25ea9-11fb-4b4d-9d16-ee74fa3b4bf2",
   "metadata": {},
   "outputs": [
    {
     "data": {
      "text/plain": [
       "<sqlite3.Cursor at 0x1437f7329c0>"
      ]
     },
     "execution_count": 79,
     "metadata": {},
     "output_type": "execute_result"
    }
   ],
   "source": [
    "cursor.execute(\"INSERT INTO company1 VALUES(1, 'Jhon', 32, 'Banglore', 100000.00),(2, 'ramesh', 34, 'Banglore', 400000.00)\")"
   ]
  },
  {
   "cell_type": "code",
   "execution_count": 81,
   "id": "02e2d8c2-adf4-4580-a96b-0774db4ef695",
   "metadata": {},
   "outputs": [
    {
     "data": {
      "text/plain": [
       "[(1, 'Jhon', '32', 'Banglore', 100000.0),\n",
       " (2, 'ramesh', '34', 'Banglore', 400000.0)]"
      ]
     },
     "execution_count": 81,
     "metadata": {},
     "output_type": "execute_result"
    }
   ],
   "source": [
    "a = cursor.execute('SELECT * FROM company1')\n",
    "list(a)"
   ]
  },
  {
   "cell_type": "code",
   "execution_count": 83,
   "id": "e972f92e-03f2-4381-8c60-bb625725f9c9",
   "metadata": {},
   "outputs": [],
   "source": [
    "db.commit()"
   ]
  },
  {
   "cell_type": "code",
   "execution_count": 85,
   "id": "e3bbcd8d-c58b-40e9-8377-e11172d3247e",
   "metadata": {},
   "outputs": [],
   "source": [
    "db.close()"
   ]
  },
  {
   "cell_type": "code",
   "execution_count": 95,
   "id": "6806b225-8a87-4142-b9df-e42a88446958",
   "metadata": {},
   "outputs": [
    {
     "data": {
      "text/plain": [
       "[(1, 'Jhon', '32', 'Banglore', 100000.0)]"
      ]
     },
     "execution_count": 95,
     "metadata": {},
     "output_type": "execute_result"
    }
   ],
   "source": [
    "list(db.execute('SELECT * FROM company1 WHERE Salary = 100000.00'))"
   ]
  },
  {
   "cell_type": "code",
   "execution_count": 93,
   "id": "884bbbd9-2e57-43da-8840-4a9225726d14",
   "metadata": {},
   "outputs": [
    {
     "data": {
      "text/plain": [
       "[(2, 'ramesh', '34', 'Banglore', 400000.0),\n",
       " (1, 'Jhon', '32', 'Banglore', 100000.0)]"
      ]
     },
     "execution_count": 93,
     "metadata": {},
     "output_type": "execute_result"
    }
   ],
   "source": [
    "res = db.execute('SELECT * FROM company1 ORDER BY Age desc')\n",
    "list(res)"
   ]
  },
  {
   "cell_type": "code",
   "execution_count": 71,
   "id": "890cbd46-62b7-435c-a065-c8966d04e12a",
   "metadata": {},
   "outputs": [
    {
     "ename": "OperationalError",
     "evalue": "database is locked",
     "output_type": "error",
     "traceback": [
      "\u001b[1;31m---------------------------------------------------------------------------\u001b[0m",
      "\u001b[1;31mOperationalError\u001b[0m                          Traceback (most recent call last)",
      "Cell \u001b[1;32mIn[71], line 1\u001b[0m\n\u001b[1;32m----> 1\u001b[0m db\u001b[38;5;241m.\u001b[39mexecute(\u001b[38;5;124m'\u001b[39m\u001b[38;5;124mDROP table  IF EXISTS company1\u001b[39m\u001b[38;5;124m'\u001b[39m)\n",
      "\u001b[1;31mOperationalError\u001b[0m: database is locked"
     ]
    }
   ],
   "source": [
    "db.execute('DROP table  IF EXISTS company')"
   ]
  },
  {
   "cell_type": "code",
   "execution_count": null,
   "id": "4884b8d7-859e-4116-832e-014bb984ad98",
   "metadata": {},
   "outputs": [],
   "source": []
  }
 ],
 "metadata": {
  "kernelspec": {
   "display_name": "Python 3 (ipykernel)",
   "language": "python",
   "name": "python3"
  },
  "language_info": {
   "codemirror_mode": {
    "name": "ipython",
    "version": 3
   },
   "file_extension": ".py",
   "mimetype": "text/x-python",
   "name": "python",
   "nbconvert_exporter": "python",
   "pygments_lexer": "ipython3",
   "version": "3.12.4"
  }
 },
 "nbformat": 4,
 "nbformat_minor": 5
}
