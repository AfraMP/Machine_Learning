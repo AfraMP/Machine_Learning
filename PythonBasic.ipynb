{
 "cells": [
  {
   "cell_type": "code",
   "execution_count": 17,
   "id": "24d39bb5-abf3-4a99-85dc-a34b3231fb76",
   "metadata": {},
   "outputs": [
    {
     "data": {
      "text/plain": [
       "1"
      ]
     },
     "execution_count": 17,
     "metadata": {},
     "output_type": "execute_result"
    }
   ],
   "source": [
    "# Iterator\n",
    "a = iter([1, 2, 3])\n",
    "next(a)"
   ]
  },
  {
   "cell_type": "code",
   "execution_count": 39,
   "id": "dca1ba5e-4438-4e77-9b2f-38fa0066574b",
   "metadata": {},
   "outputs": [
    {
     "data": {
      "text/plain": [
       "<generator object gen_cube at 0x00000201DEA6E5A0>"
      ]
     },
     "execution_count": 39,
     "metadata": {},
     "output_type": "execute_result"
    }
   ],
   "source": [
    "# Generator\n",
    "def gen_cube(n):\n",
    "    for i in range(n):\n",
    "        yield i**3 # convert it into generator\n",
    "res = gen_cube(5)\n",
    "res"
   ]
  },
  {
   "cell_type": "code",
   "execution_count": 41,
   "id": "ffe31a2d-c241-401c-ac1e-e4243e5798cb",
   "metadata": {},
   "outputs": [
    {
     "name": "stdout",
     "output_type": "stream",
     "text": [
      "0\n",
      "After next\n",
      "1\n",
      "8\n",
      "27\n",
      "64\n"
     ]
    }
   ],
   "source": [
    "print(next(res))\n",
    "print('After next')\n",
    "for i in res:\n",
    "    print(i)"
   ]
  },
  {
   "cell_type": "code",
   "execution_count": 47,
   "id": "dc166c9b-5703-409a-bd08-7e4a89677fd7",
   "metadata": {},
   "outputs": [
    {
     "name": "stdout",
     "output_type": "stream",
     "text": [
      "1\n",
      "1\n",
      "2\n",
      "3\n"
     ]
    }
   ],
   "source": [
    "# fibanacci\n",
    "def genFibo(n):\n",
    "    a = 1\n",
    "    b = 1\n",
    "    for i in range(n):\n",
    "        yield a\n",
    "        a, b = b, a+b\n",
    "fibo = genFibo(4)\n",
    "for i in fibo:\n",
    "    print(i)"
   ]
  },
  {
   "cell_type": "code",
   "execution_count": 49,
   "id": "78cf9ecb-66f9-4b78-bf91-cd9c47044296",
   "metadata": {},
   "outputs": [
    {
     "data": {
      "text/plain": [
       "[1, 4, 9]"
      ]
     },
     "execution_count": 49,
     "metadata": {},
     "output_type": "execute_result"
    }
   ],
   "source": [
    "# Map - Lambda\n",
    "list(map(lambda x: x*x, [1, 2, 3]))"
   ]
  },
  {
   "cell_type": "code",
   "execution_count": 65,
   "id": "d0afbf2b-09ba-4c93-a045-c67b5725b354",
   "metadata": {},
   "outputs": [
    {
     "data": {
      "text/plain": [
       "[6, 9, 10]"
      ]
     },
     "execution_count": 65,
     "metadata": {},
     "output_type": "execute_result"
    }
   ],
   "source": [
    "# map on multiple list\n",
    "list(map(lambda x, y:x+y, [1, 2,3], [5, 7,7]))"
   ]
  },
  {
   "cell_type": "code",
   "execution_count": 15,
   "id": "63eccef4-e1a5-4dbc-a2d8-25966c1b1839",
   "metadata": {},
   "outputs": [
    {
     "data": {
      "text/plain": [
       "(1.0, -2.0)"
      ]
     },
     "execution_count": 15,
     "metadata": {},
     "output_type": "execute_result"
    }
   ],
   "source": [
    "# reduce\n",
    "reduce(lambda)"
   ]
  },
  {
   "cell_type": "code",
   "execution_count": 55,
   "id": "462ee686-be7d-4517-ace5-6f83a9949089",
   "metadata": {},
   "outputs": [
    {
     "data": {
      "text/plain": [
       "(16, 2)"
      ]
     },
     "execution_count": 55,
     "metadata": {},
     "output_type": "execute_result"
    }
   ],
   "source": [
    "a = lambda x, y:(x*x, y)\n",
    "a(4, 2)"
   ]
  },
  {
   "cell_type": "code",
   "execution_count": 59,
   "id": "90fa8cd2-0d6f-4cfe-8bf0-aab2c29a640f",
   "metadata": {},
   "outputs": [
    {
     "data": {
      "text/plain": [
       "55"
      ]
     },
     "execution_count": 59,
     "metadata": {},
     "output_type": "execute_result"
    }
   ],
   "source": [
    "# Find max elem using reduce\n",
    "from functools import reduce\n",
    "reduce(lambda x, y: x if x>y else y, [1, 2,3, 55, 0])"
   ]
  },
  {
   "cell_type": "code",
   "execution_count": 61,
   "id": "05ee5e69-e072-4b7b-844d-1275732182a1",
   "metadata": {},
   "outputs": [
    {
     "data": {
      "text/plain": [
       "61"
      ]
     },
     "execution_count": 61,
     "metadata": {},
     "output_type": "execute_result"
    }
   ],
   "source": [
    "reduce(lambda x, y: x+y, [1, 2,3, 55, 0])"
   ]
  },
  {
   "cell_type": "code",
   "execution_count": 69,
   "id": "a9b2a42f-c10a-4958-9679-01e74820691f",
   "metadata": {},
   "outputs": [
    {
     "data": {
      "text/plain": [
       "[2, 4, 6]"
      ]
     },
     "execution_count": 69,
     "metadata": {},
     "output_type": "execute_result"
    }
   ],
   "source": [
    "# filter\n",
    "list(filter(lambda x: x%2==0, [1, 2, 3, 4, 6]))\n"
   ]
  },
  {
   "cell_type": "code",
   "execution_count": 148,
   "id": "6927bc15-cc7f-47f4-8da0-d86b8d3e0c33",
   "metadata": {},
   "outputs": [],
   "source": [
    "# Function overloading not supported instead allows default param\n",
    "def calculate(var1:int, var2:int):\n",
    "    if operation == '+':\n",
    "       return var1 + var2\n",
    "    else:\n",
    "        return var1 - var2"
   ]
  },
  {
   "cell_type": "code",
   "execution_count": 180,
   "id": "82b2e4f7-2be4-420c-8b5c-1f8170beb9e1",
   "metadata": {},
   "outputs": [
    {
     "name": "stdout",
     "output_type": "stream",
     "text": [
      "1\n"
     ]
    }
   ],
   "source": [
    "class Person: # Parent\n",
    "    def __init__(self,name, age): # Constructor\n",
    "        self.name = name \n",
    "        self.age = age\n",
    "    def __str__(self): # str no working checkk ---------------------------------------------------\n",
    "        return \"Hey\"\n",
    "    def getage(self):\n",
    "        print(\"here\")\n",
    "class Student(Person): # child - Inheritance\n",
    "    def __init__(self, stu_id: int, *args):\n",
    "        super(Student, self).__init__(*args)\n",
    "        self._stu_id = stu_id\n",
    "    # method overriding\n",
    "    def getage(self):\n",
    "        print(\"This is age {}\".format(self.age))\n",
    "afra = Student(1, 'afra', 23)\n",
    "print(afra._stu_id) # no private var in pytoh just for understanding use _varname as private"
   ]
  },
  {
   "cell_type": "code",
   "execution_count": 182,
   "id": "b32b0475-53b6-452d-ba44-95b4b5baaf12",
   "metadata": {},
   "outputs": [
    {
     "data": {
      "text/plain": [
       "<__main__.Person at 0x201e1663e90>"
      ]
     },
     "execution_count": 182,
     "metadata": {},
     "output_type": "execute_result"
    }
   ],
   "source": [
    "nihal = Person('nihal', 23)\n",
    "nihal"
   ]
  },
  {
   "cell_type": "code",
   "execution_count": 184,
   "id": "99f5b52f-1a22-4057-af2e-df81933a460c",
   "metadata": {},
   "outputs": [
    {
     "name": "stdout",
     "output_type": "stream",
     "text": [
      "True\n",
      "False\n",
      "True\n",
      "True\n",
      "True\n"
     ]
    },
    {
     "data": {
      "text/plain": [
       "type"
      ]
     },
     "execution_count": 184,
     "metadata": {},
     "output_type": "execute_result"
    }
   ],
   "source": [
    "print(isinstance(nihal, Person))\n",
    "print(isinstance(nihal, Student))\n",
    "print(isinstance(afra, Person))\n",
    "print(isinstance(afra, Student))\n",
    "print(isinstance(afra, object))\n",
    "type(afra)\n",
    "type(Student)"
   ]
  },
  {
   "cell_type": "code",
   "execution_count": 186,
   "id": "45756301-aef3-4c5e-824c-0e8972ed7ea1",
   "metadata": {},
   "outputs": [
    {
     "name": "stdout",
     "output_type": "stream",
     "text": [
      "This is age 23\n"
     ]
    }
   ],
   "source": [
    "afra.getage()"
   ]
  },
  {
   "cell_type": "code",
   "execution_count": 248,
   "id": "c55b508b-d1fd-46ec-9c0d-1aa5740b0a7f",
   "metadata": {},
   "outputs": [
    {
     "name": "stdin",
     "output_type": "stream",
     "text": [
      " yes\n",
      "Enter name : afra\n",
      "Enter surname : mp\n",
      "Enter dob : 1999\n",
      "Enter clas : 1\n",
      "Enter school : bright\n"
     ]
    },
    {
     "name": "stdout",
     "output_type": "stream",
     "text": [
      "name:brightclas:1\n"
     ]
    },
    {
     "name": "stdin",
     "output_type": "stream",
     "text": [
      " q\n"
     ]
    }
   ],
   "source": [
    "class Student:\n",
    "    def __init__(self):\n",
    "        self.name = input('Enter name :')\n",
    "        self.surname = input('Enter surname :')\n",
    "        self.dob = input('Enter dob :')\n",
    "        self.clas = input('Enter clas :')\n",
    "    def __str__(self):\n",
    "        return 'Student {} created'.format(self.name)\n",
    "class School(Student):\n",
    "    def __init__(self ,*args):\n",
    "        super(School, self).__init__(*args)\n",
    "        self.schoolname= input('Enter school :')\n",
    "    def __str__(self):\n",
    "        return 'name:' + self.schoolname + 'clas:' + self.clas\n",
    "details = []\n",
    "while(True):\n",
    "    inp = input()\n",
    "    if(inp == 'q'):\n",
    "        break\n",
    "    sc = School()\n",
    "    print(sc)\n",
    "    details.append(sc)"
   ]
  },
  {
   "cell_type": "code",
   "execution_count": 250,
   "id": "0922d2ee-68e2-47c0-82a9-29836651d8b0",
   "metadata": {},
   "outputs": [
    {
     "data": {
      "text/html": [
       "<div>\n",
       "<style scoped>\n",
       "    .dataframe tbody tr th:only-of-type {\n",
       "        vertical-align: middle;\n",
       "    }\n",
       "\n",
       "    .dataframe tbody tr th {\n",
       "        vertical-align: top;\n",
       "    }\n",
       "\n",
       "    .dataframe thead th {\n",
       "        text-align: right;\n",
       "    }\n",
       "</style>\n",
       "<table border=\"1\" class=\"dataframe\">\n",
       "  <thead>\n",
       "    <tr style=\"text-align: right;\">\n",
       "      <th></th>\n",
       "      <th>name</th>\n",
       "      <th>surname</th>\n",
       "      <th>dob</th>\n",
       "      <th>clas</th>\n",
       "      <th>schoolname</th>\n",
       "    </tr>\n",
       "  </thead>\n",
       "  <tbody>\n",
       "    <tr>\n",
       "      <th>0</th>\n",
       "      <td>afra</td>\n",
       "      <td>mp</td>\n",
       "      <td>1999</td>\n",
       "      <td>1</td>\n",
       "      <td>bright</td>\n",
       "    </tr>\n",
       "  </tbody>\n",
       "</table>\n",
       "</div>"
      ],
      "text/plain": [
       "   name surname   dob clas schoolname\n",
       "0  afra      mp  1999    1     bright"
      ]
     },
     "execution_count": 250,
     "metadata": {},
     "output_type": "execute_result"
    }
   ],
   "source": [
    "import pandas as pd\n",
    "pd.DataFrame.from_records([i.__dict__ for i in details])"
   ]
  },
  {
   "cell_type": "markdown",
   "id": "ec4d205b-2a4a-4a59-8361-64660267653d",
   "metadata": {},
   "source": [
    "# Files"
   ]
  },
  {
   "cell_type": "code",
   "execution_count": 361,
   "id": "4b81ec3b-aca1-42a9-8e87-a241d85cbd1f",
   "metadata": {},
   "outputs": [
    {
     "name": "stdout",
     "output_type": "stream",
     "text": [
      "Overwriting test/test.txt\n"
     ]
    }
   ],
   "source": [
    "%%writefile test/test.txt\n",
    "'Hello world! File created'"
   ]
  },
  {
   "cell_type": "code",
   "execution_count": 363,
   "id": "cfce3dfd-73dc-4843-a9ec-69fce1358e8f",
   "metadata": {},
   "outputs": [
    {
     "data": {
      "text/plain": [
       "'C:\\\\Users\\\\asus\\\\Documents\\\\Ineuron'"
      ]
     },
     "execution_count": 363,
     "metadata": {},
     "output_type": "execute_result"
    }
   ],
   "source": [
    "pwd"
   ]
  },
  {
   "cell_type": "code",
   "execution_count": 375,
   "id": "611720bc-415f-423b-8710-35d06d48f558",
   "metadata": {},
   "outputs": [
    {
     "data": {
      "text/plain": [
       "\"'Hello world! File created'\\n\""
      ]
     },
     "execution_count": 375,
     "metadata": {},
     "output_type": "execute_result"
    }
   ],
   "source": [
    "# read file\n",
    "f = open('test.txt')\n",
    "f.read()"
   ]
  },
  {
   "cell_type": "code",
   "execution_count": 377,
   "id": "16a7c87d-08a3-422f-bbb1-ac1561a27b2d",
   "metadata": {},
   "outputs": [
    {
     "data": {
      "text/plain": [
       "''"
      ]
     },
     "execution_count": 377,
     "metadata": {},
     "output_type": "execute_result"
    }
   ],
   "source": [
    "f.read()"
   ]
  },
  {
   "cell_type": "code",
   "execution_count": 379,
   "id": "ffcf3ca6-bea6-4189-a4d8-1c6ffa457b6e",
   "metadata": {},
   "outputs": [
    {
     "data": {
      "text/plain": [
       "10"
      ]
     },
     "execution_count": 379,
     "metadata": {},
     "output_type": "execute_result"
    }
   ],
   "source": [
    "# Resetting the cursor\n",
    "f.seek(10)"
   ]
  },
  {
   "cell_type": "code",
   "execution_count": 381,
   "id": "cbac98fb-5e1a-4964-ae82-5947a88078f9",
   "metadata": {},
   "outputs": [
    {
     "data": {
      "text/plain": [
       "\"ld! File created'\\n\""
      ]
     },
     "execution_count": 381,
     "metadata": {},
     "output_type": "execute_result"
    }
   ],
   "source": [
    "f.read()"
   ]
  },
  {
   "cell_type": "code",
   "execution_count": 383,
   "id": "c0f2f75b-0bb1-4a11-8aa1-53ce63533bb1",
   "metadata": {},
   "outputs": [
    {
     "data": {
      "text/plain": [
       "[\"'Hello world! File created'\\n\"]"
      ]
     },
     "execution_count": 383,
     "metadata": {},
     "output_type": "execute_result"
    }
   ],
   "source": [
    "fr = open('test.txt')\n",
    "fr.readlines()"
   ]
  },
  {
   "cell_type": "code",
   "execution_count": 397,
   "id": "2044c683-2f5e-4523-8ddf-66a9a9c0e399",
   "metadata": {},
   "outputs": [
    {
     "data": {
      "text/plain": [
       "31"
      ]
     },
     "execution_count": 397,
     "metadata": {},
     "output_type": "execute_result"
    }
   ],
   "source": [
    "fw = open('test.txt', 'w+')\n",
    "fw.write('update file\\n mksdsakdaskdjaskdj')"
   ]
  },
  {
   "cell_type": "code",
   "execution_count": 399,
   "id": "f930f467-44d1-40e8-aa5d-90af5cd16698",
   "metadata": {},
   "outputs": [
    {
     "data": {
      "text/plain": [
       "'update file\\nmksdsakdaskdjaskdj'"
      ]
     },
     "execution_count": 399,
     "metadata": {},
     "output_type": "execute_result"
    }
   ],
   "source": [
    "f.seek(0)\n",
    "f.read()"
   ]
  },
  {
   "cell_type": "code",
   "execution_count": 401,
   "id": "eb4c3f63-6ed5-4a8a-b1e1-5aff22376f58",
   "metadata": {},
   "outputs": [
    {
     "name": "stdout",
     "output_type": "stream",
     "text": [
      "update file\n",
      "\n",
      "mksdsakdaskdjaskdj\n"
     ]
    }
   ],
   "source": [
    "for i in open('test.txt'):\n",
    "    print(i)"
   ]
  },
  {
   "cell_type": "code",
   "execution_count": 403,
   "id": "53f95871-0714-49f7-b386-96a3ef952d38",
   "metadata": {},
   "outputs": [
    {
     "data": {
      "text/plain": [
       "_io.StringIO"
      ]
     },
     "execution_count": 403,
     "metadata": {},
     "output_type": "execute_result"
    }
   ],
   "source": [
    "# StringIO\n",
    "from io import StringIO # same as file operation\n",
    "a = 'abc'\n",
    "b = StringIO(a)\n",
    "type(b)"
   ]
  },
  {
   "cell_type": "code",
   "execution_count": 405,
   "id": "ff36a1c9-3b23-4724-93d1-0a6eb65e549c",
   "metadata": {},
   "outputs": [
    {
     "data": {
      "text/plain": [
       "'abc'"
      ]
     },
     "execution_count": 405,
     "metadata": {},
     "output_type": "execute_result"
    }
   ],
   "source": [
    "b.read()"
   ]
  },
  {
   "cell_type": "code",
   "execution_count": 407,
   "id": "5710ab8b-d8e2-4b7d-87a4-93dc803385b3",
   "metadata": {},
   "outputs": [
    {
     "data": {
      "text/plain": [
       "3"
      ]
     },
     "execution_count": 407,
     "metadata": {},
     "output_type": "execute_result"
    }
   ],
   "source": [
    "b.write('jhj')"
   ]
  },
  {
   "cell_type": "code",
   "execution_count": 411,
   "id": "6dc88ff7-6b39-4dd7-af26-cf9cd72a4deb",
   "metadata": {},
   "outputs": [
    {
     "data": {
      "text/plain": [
       "'abcjhj'"
      ]
     },
     "execution_count": 411,
     "metadata": {},
     "output_type": "execute_result"
    }
   ],
   "source": [
    "b.seek(0)\n",
    "b.read()"
   ]
  },
  {
   "cell_type": "code",
   "execution_count": 413,
   "id": "470bdde1-1233-41b3-a9d0-1ad829e53d34",
   "metadata": {},
   "outputs": [
    {
     "name": "stdout",
     "output_type": "stream",
     "text": [
      "['__doc__', '__loader__', '__name__', '__package__', '__spec__', 'acos', 'acosh', 'asin', 'asinh', 'atan', 'atan2', 'atanh', 'cbrt', 'ceil', 'comb', 'copysign', 'cos', 'cosh', 'degrees', 'dist', 'e', 'erf', 'erfc', 'exp', 'exp2', 'expm1', 'fabs', 'factorial', 'floor', 'fmod', 'frexp', 'fsum', 'gamma', 'gcd', 'hypot', 'inf', 'isclose', 'isfinite', 'isinf', 'isnan', 'isqrt', 'lcm', 'ldexp', 'lgamma', 'log', 'log10', 'log1p', 'log2', 'modf', 'nan', 'nextafter', 'perm', 'pi', 'pow', 'prod', 'radians', 'remainder', 'sin', 'sinh', 'sqrt', 'sumprod', 'tan', 'tanh', 'tau', 'trunc', 'ulp']\n"
     ]
    }
   ],
   "source": [
    "import math\n",
    "print(dir(math))"
   ]
  },
  {
   "cell_type": "markdown",
   "id": "c1a587ca-7eb2-44b4-ab91-87d81054d58d",
   "metadata": {},
   "source": [
    "# Exception Handling"
   ]
  },
  {
   "cell_type": "code",
   "execution_count": 424,
   "id": "e32e2b7d-33ee-495c-9536-d53128b82468",
   "metadata": {},
   "outputs": [
    {
     "name": "stdout",
     "output_type": "stream",
     "text": [
      "Could not find the file [Errno 2] No such file or directory: 'a'\n",
      "Execute Always\n"
     ]
    }
   ],
   "source": [
    "# Syntax/ Compile time error\n",
    "# Runtime error -- exception handing \n",
    "try:\n",
    "    f = open('a', 'r') \n",
    "    f.read()  # IO error\n",
    "except FileNotFoundError as fe:\n",
    "    print('Could not find the file', fe)\n",
    "except IOError:\n",
    "    print('Could not find the file')\n",
    "except:\n",
    "    print(\"Something went wrong\")\n",
    "else:\n",
    "    print(\"flie read succesfully\")\n",
    "    f.close()\n",
    "    \n",
    "finally:\n",
    "    print(\"Execute Always\")"
   ]
  },
  {
   "cell_type": "code",
   "execution_count": 426,
   "id": "90873e7e-c215-4d05-9913-0631202a2fbd",
   "metadata": {},
   "outputs": [],
   "source": [
    "exit"
   ]
  },
  {
   "cell_type": "code",
   "execution_count": null,
   "id": "58b09ec4-126a-4804-8ea3-bea27188e166",
   "metadata": {},
   "outputs": [],
   "source": []
  }
 ],
 "metadata": {
  "kernelspec": {
   "display_name": "Python 3 (ipykernel)",
   "language": "python",
   "name": "python3"
  },
  "language_info": {
   "codemirror_mode": {
    "name": "ipython",
    "version": 3
   },
   "file_extension": ".py",
   "mimetype": "text/x-python",
   "name": "python",
   "nbconvert_exporter": "python",
   "pygments_lexer": "ipython3",
   "version": "3.12.4"
  }
 },
 "nbformat": 4,
 "nbformat_minor": 5
}
